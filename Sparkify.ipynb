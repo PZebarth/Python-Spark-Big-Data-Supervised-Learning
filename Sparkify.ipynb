{
 "cells": [
  {
   "cell_type": "markdown",
   "metadata": {},
   "source": [
    "# Sparkify Project Workspace\n",
    "This workspace contains a tiny subset (128MB) of the full dataset available (12GB). This workspace is to build my project, and to explore a smaller subset with Spark before deploying my cluster on AWS. "
   ]
  },
  {
   "cell_type": "code",
   "execution_count": 1,
   "metadata": {},
   "outputs": [],
   "source": [
    "# importing neccesary libraries\n",
    "from pyspark.sql import SparkSession\n",
    "from pyspark.sql.functions import max as fmax, isnull, avg, udf, split, sum as Fsum, countDistinct, col, desc\n",
    "from pyspark.sql.window import Window\n",
    "from pyspark.sql.types import *\n",
    "from pyspark.ml.feature import VectorAssembler, MinMaxScaler\n",
    "import datetime\n",
    "import pandas as pd\n",
    "import numpy as np\n",
    "import re\n",
    "import matplotlib.pyplot as plt\n",
    "%matplotlib inline"
   ]
  },
  {
   "cell_type": "code",
   "execution_count": 2,
   "metadata": {},
   "outputs": [],
   "source": [
    "# creating a Spark session\n",
    "spark = SparkSession.builder.appName(\"Sparkify\").getOrCreate()"
   ]
  },
  {
   "cell_type": "markdown",
   "metadata": {},
   "source": [
    "# Load and Clean Dataset\n",
    "In this workspace, the mini-dataset file is `mini_sparkify_event_data.json`. I will load and clean the dataset, checking for invalid or missing data - for example, records without userids or sessionids. "
   ]
  },
  {
   "cell_type": "markdown",
   "metadata": {},
   "source": [
    "Let's load our data and take a look a quick look to understand how it's organized."
   ]
  },
  {
   "cell_type": "code",
   "execution_count": 3,
   "metadata": {},
   "outputs": [],
   "source": [
    "# loading data\n",
    "event_data = \"mini_sparkify_event_data.json\"\n",
    "df = spark.read.json(event_data)\n",
    "df.head()\n",
    "df.toPandas().to_csv('sparkify_data.csv')"
   ]
  },
  {
   "cell_type": "code",
   "execution_count": 4,
   "metadata": {},
   "outputs": [
    {
     "name": "stdout",
     "output_type": "stream",
     "text": [
      "root\n",
      " |-- artist: string (nullable = true)\n",
      " |-- auth: string (nullable = true)\n",
      " |-- firstName: string (nullable = true)\n",
      " |-- gender: string (nullable = true)\n",
      " |-- itemInSession: long (nullable = true)\n",
      " |-- lastName: string (nullable = true)\n",
      " |-- length: double (nullable = true)\n",
      " |-- level: string (nullable = true)\n",
      " |-- location: string (nullable = true)\n",
      " |-- method: string (nullable = true)\n",
      " |-- page: string (nullable = true)\n",
      " |-- registration: long (nullable = true)\n",
      " |-- sessionId: long (nullable = true)\n",
      " |-- song: string (nullable = true)\n",
      " |-- status: long (nullable = true)\n",
      " |-- ts: long (nullable = true)\n",
      " |-- userAgent: string (nullable = true)\n",
      " |-- userId: string (nullable = true)\n",
      "\n"
     ]
    }
   ],
   "source": [
    "# data schema\n",
    "df.printSchema()"
   ]
  },
  {
   "cell_type": "code",
   "execution_count": 5,
   "metadata": {},
   "outputs": [
    {
     "data": {
      "text/plain": [
       "286500"
      ]
     },
     "execution_count": 5,
     "metadata": {},
     "output_type": "execute_result"
    }
   ],
   "source": [
    "# total number of records before cleaning\n",
    "df.count()"
   ]
  },
  {
   "cell_type": "markdown",
   "metadata": {},
   "source": [
    "To begin cleaning let's look for any missing data that wasn't entered and would be a blank entry."
   ]
  },
  {
   "cell_type": "code",
   "execution_count": 6,
   "metadata": {},
   "outputs": [
    {
     "name": "stdout",
     "output_type": "stream",
     "text": [
      "artist 0\n",
      "auth 0\n",
      "firstName 0\n",
      "gender 0\n",
      "itemInSession 0\n",
      "lastName 0\n",
      "length 0\n",
      "level 0\n",
      "location 0\n",
      "method 0\n",
      "page 0\n",
      "registration 0\n",
      "sessionId 0\n",
      "song 0\n",
      "status 0\n",
      "ts 0\n",
      "userAgent 0\n",
      "userId 8346\n"
     ]
    }
   ],
   "source": [
    "# checking for missing data\n",
    "cols = df.columns\n",
    "\n",
    "for col in cols:\n",
    "    print(col, df.filter(df[col] == \"\").count())"
   ]
  },
  {
   "cell_type": "markdown",
   "metadata": {},
   "source": [
    "The \"userId\" column has 8346 invalid enteries so let's remove these because we want to make conclusions about users in the future."
   ]
  },
  {
   "cell_type": "code",
   "execution_count": 7,
   "metadata": {
    "scrolled": true
   },
   "outputs": [
    {
     "name": "stdout",
     "output_type": "stream",
     "text": [
      "+-------+------------------+\n",
      "|summary|            userId|\n",
      "+-------+------------------+\n",
      "|  count|            286500|\n",
      "|   mean| 59682.02278593872|\n",
      "| stddev|109091.94999910559|\n",
      "|    min|                  |\n",
      "|    max|                99|\n",
      "+-------+------------------+\n",
      "\n"
     ]
    }
   ],
   "source": [
    "df.describe(\"userId\").show()"
   ]
  },
  {
   "cell_type": "code",
   "execution_count": 8,
   "metadata": {},
   "outputs": [],
   "source": [
    "df = df.filter(df[\"userId\"] != \"\")"
   ]
  },
  {
   "cell_type": "code",
   "execution_count": 9,
   "metadata": {
    "scrolled": true
   },
   "outputs": [
    {
     "name": "stdout",
     "output_type": "stream",
     "text": [
      "+-------+------------------+\n",
      "|summary|            userId|\n",
      "+-------+------------------+\n",
      "|  count|            278154|\n",
      "|   mean| 59682.02278593872|\n",
      "| stddev|109091.94999910559|\n",
      "|    min|                10|\n",
      "|    max|                99|\n",
      "+-------+------------------+\n",
      "\n"
     ]
    }
   ],
   "source": [
    "df.describe(\"userId\").show()"
   ]
  },
  {
   "cell_type": "markdown",
   "metadata": {},
   "source": [
    "We succesfully removed the invalid enteries. \n",
    "\n",
    "I'm skeptical that is the furthest extent to which we need to clean this data so lets look for other irregularities.\n",
    "\n",
    "Looking back our schema I want to investigate the columns where invalid enteries could be important to catch. Specifically, auth, itemInSession, length, level, location, method, page, registration, sessionId, status, ts, userAgent, userId.\n",
    "\n",
    "These columns either have values I want to know more about or have a possibility to affect our results. Let's take a look.\n"
   ]
  },
  {
   "cell_type": "code",
   "execution_count": 10,
   "metadata": {},
   "outputs": [
    {
     "name": "stdout",
     "output_type": "stream",
     "text": [
      "artist 0\n",
      "auth 0\n",
      "firstName 0\n",
      "gender 0\n",
      "itemInSession 0\n",
      "lastName 0\n",
      "length 0\n",
      "level 0\n",
      "location 0\n",
      "method 0\n",
      "page 0\n",
      "registration 0\n",
      "sessionId 0\n",
      "song 0\n",
      "status 0\n",
      "ts 0\n",
      "userAgent 0\n",
      "userId 0\n"
     ]
    }
   ],
   "source": [
    "cols = df.columns\n",
    "\n",
    "for col in cols:\n",
    "    print(col, df.filter(df[col] == \"null\").count())"
   ]
  },
  {
   "cell_type": "markdown",
   "metadata": {},
   "source": [
    "We should investigate further it is unlikely there are no null values in this dataset."
   ]
  },
  {
   "cell_type": "code",
   "execution_count": 11,
   "metadata": {},
   "outputs": [
    {
     "name": "stdout",
     "output_type": "stream",
     "text": [
      "artist 50046\n",
      "auth 0\n",
      "firstName 0\n",
      "gender 0\n",
      "itemInSession 0\n",
      "lastName 0\n",
      "length 50046\n",
      "level 0\n",
      "location 0\n",
      "method 0\n",
      "page 0\n",
      "registration 0\n",
      "sessionId 0\n",
      "song 50046\n",
      "status 0\n",
      "ts 0\n",
      "userAgent 0\n",
      "userId 0\n"
     ]
    }
   ],
   "source": [
    "cols = df.columns\n",
    "\n",
    "for col in cols:\n",
    "    print(col, df.filter(isnull(df[col])).count())"
   ]
  },
  {
   "cell_type": "markdown",
   "metadata": {},
   "source": [
    "Well that's interesting, it appears the null value is not saved as a string. This is something to be wary of. \n",
    "\n",
    "The null values will not affect our results because they are not important to define cutomer churn. We will leave them in place and I will discuss customer churn in the coming sections."
   ]
  },
  {
   "cell_type": "markdown",
   "metadata": {},
   "source": [
    "## Exploratory Data Analysis\n"
   ]
  },
  {
   "cell_type": "markdown",
   "metadata": {},
   "source": [
    "### Variable Exploration"
   ]
  },
  {
   "cell_type": "markdown",
   "metadata": {},
   "source": [
    "Let's creat a table to use Spark SQL to investigate our variables."
   ]
  },
  {
   "cell_type": "code",
   "execution_count": 12,
   "metadata": {},
   "outputs": [],
   "source": [
    "df.createOrReplaceTempView(\"user_table\")"
   ]
  },
  {
   "cell_type": "markdown",
   "metadata": {},
   "source": [
    "Here I will investigate variables which I find of interest and might prove to be useful in predictions or simply to understand their meaning. The variables are:\n",
    "- auth\n",
    "- itemInSession\n",
    "- level\n",
    "- location\n",
    "- method\n",
    "- page\n",
    "- registration\n",
    "- sessionId\n",
    "- status\n",
    "- ts\n",
    "- userAgent\n",
    "- userId\n",
    "- gender"
   ]
  },
  {
   "cell_type": "markdown",
   "metadata": {},
   "source": [
    "- <b>auth</b> takes on the following values: Cancelled, Logged In\n",
    "> There are 225 active users in this dataset and 52 users who have cancelled. This will not be a useful variable. We can find this information in other variables."
   ]
  },
  {
   "cell_type": "code",
   "execution_count": 13,
   "metadata": {},
   "outputs": [
    {
     "name": "stdout",
     "output_type": "stream",
     "text": [
      "+---------+\n",
      "|     auth|\n",
      "+---------+\n",
      "|Cancelled|\n",
      "|Logged In|\n",
      "+---------+\n",
      "\n"
     ]
    }
   ],
   "source": [
    "spark.sql('''\n",
    "          SELECT DISTINCT auth\n",
    "          FROM user_table\n",
    "          '''\n",
    "          ).show()"
   ]
  },
  {
   "cell_type": "code",
   "execution_count": 14,
   "metadata": {
    "scrolled": true
   },
   "outputs": [
    {
     "name": "stdout",
     "output_type": "stream",
     "text": [
      "+---------+-----+\n",
      "|     auth|count|\n",
      "+---------+-----+\n",
      "|Logged In|  225|\n",
      "|Cancelled|   52|\n",
      "+---------+-----+\n",
      "\n"
     ]
    }
   ],
   "source": [
    "spark.sql('''\n",
    "          SELECT auth, COUNT(DISTINCT userId) AS count\n",
    "          FROM user_table\n",
    "          GROUP BY 1\n",
    "          ORDER BY 2 DESC\n",
    "          '''\n",
    "          ).show()"
   ]
  },
  {
   "cell_type": "code",
   "execution_count": 15,
   "metadata": {
    "scrolled": true
   },
   "outputs": [
    {
     "name": "stdout",
     "output_type": "stream",
     "text": [
      "+----------+\n",
      "|user_count|\n",
      "+----------+\n",
      "|       225|\n",
      "+----------+\n",
      "\n"
     ]
    }
   ],
   "source": [
    "spark.sql('''\n",
    "          SELECT COUNT(DISTINCT userId) AS user_count\n",
    "          FROM user_table\n",
    "          '''\n",
    "          ).show()"
   ]
  },
  {
   "cell_type": "markdown",
   "metadata": {},
   "source": [
    "- <b>itemInSession</b>: takes on incremental values for each action during a session on Sparkify\n",
    "> We would have assumed as itemInSession incremented the counts would decrease but this isn't the case. It looks like this variable won't be very useful due to this unpredictable nature for the general population. However, this variable might be useful for predictions on individual users."
   ]
  },
  {
   "cell_type": "code",
   "execution_count": 16,
   "metadata": {
    "scrolled": true
   },
   "outputs": [
    {
     "name": "stdout",
     "output_type": "stream",
     "text": [
      "+-------------+-----+\n",
      "|itemInSession|count|\n",
      "+-------------+-----+\n",
      "|            0| 2689|\n",
      "|            1| 2818|\n",
      "|            2| 2941|\n",
      "|            3| 2917|\n",
      "|            4| 2887|\n",
      "+-------------+-----+\n",
      "\n"
     ]
    }
   ],
   "source": [
    "spark.sql('''\n",
    "          SELECT itemInSession, COUNT(*) AS count\n",
    "          FROM user_table\n",
    "          GROUP BY 1\n",
    "          ORDER BY 1 ASC\n",
    "          LIMIT 5\n",
    "          '''\n",
    "          ).show()"
   ]
  },
  {
   "cell_type": "code",
   "execution_count": 17,
   "metadata": {
    "scrolled": true
   },
   "outputs": [
    {
     "name": "stdout",
     "output_type": "stream",
     "text": [
      "+--------------------+---------+---------+------+-------------+--------+---------+-----+----------+------+--------+-------------+---------+--------------------+------+-------------+--------------------+------+\n",
      "|              artist|     auth|firstName|gender|itemInSession|lastName|   length|level|  location|method|    page| registration|sessionId|                song|status|           ts|           userAgent|userId|\n",
      "+--------------------+---------+---------+------+-------------+--------+---------+-----+----------+------+--------+-------------+---------+--------------------+------+-------------+--------------------+------+\n",
      "|            Sea Wolf|Logged In|   Brycen|     M|            0| Bradley|265.53424| paid|Laurel, MS|   PUT|NextSong|1538159495000|        9|       Ses Monuments|   200|1538965220000|\"Mozilla/5.0 (Mac...|    10|\n",
      "|George Baker Sele...|Logged In|   Brycen|     M|            1| Bradley| 200.4371| paid|Laurel, MS|   PUT|NextSong|1538159495000|        9|         Morning Sky|   200|1538965485000|\"Mozilla/5.0 (Mac...|    10|\n",
      "|          Klaus Lage|Logged In|   Brycen|     M|            2| Bradley|208.03873| paid|Laurel, MS|   PUT|NextSong|1538159495000|        9|Du Hast'n Freund ...|   200|1538965685000|\"Mozilla/5.0 (Mac...|    10|\n",
      "|         Dave Grusin|Logged In|   Brycen|     M|            3| Bradley|526.44526| paid|Laurel, MS|   PUT|NextSong|1538159495000|        9|             Playera|   200|1538965893000|\"Mozilla/5.0 (Mac...|    10|\n",
      "|    Blue Oyster Cult|Logged In|   Brycen|     M|            4| Bradley|272.06485| paid|Laurel, MS|   PUT|NextSong|1538159495000|        9|     Burnin' For You|   200|1538966419000|\"Mozilla/5.0 (Mac...|    10|\n",
      "+--------------------+---------+---------+------+-------------+--------+---------+-----+----------+------+--------+-------------+---------+--------------------+------+-------------+--------------------+------+\n",
      "\n"
     ]
    }
   ],
   "source": [
    "spark.sql('''\n",
    "          SELECT *\n",
    "          FROM user_table\n",
    "          WHERE userId = 10\n",
    "          LIMIT 5\n",
    "          '''\n",
    "          ).show()"
   ]
  },
  {
   "cell_type": "markdown",
   "metadata": {},
   "source": [
    "- <b>level</b> takes on the following values: free, paid\n",
    "> There have been a max of 195 users using the free service and 165 users using the paid service. This may be a useful variable."
   ]
  },
  {
   "cell_type": "code",
   "execution_count": 18,
   "metadata": {},
   "outputs": [
    {
     "name": "stdout",
     "output_type": "stream",
     "text": [
      "+-----+-----+\n",
      "|level|count|\n",
      "+-----+-----+\n",
      "| free|  195|\n",
      "| paid|  165|\n",
      "+-----+-----+\n",
      "\n"
     ]
    }
   ],
   "source": [
    "spark.sql('''\n",
    "          SELECT level, COUNT(DISTINCT userId) AS count\n",
    "          FROM user_table\n",
    "          GROUP BY 1\n",
    "          ORDER BY 2 DESC\n",
    "          '''\n",
    "          ).show()"
   ]
  },
  {
   "cell_type": "markdown",
   "metadata": {},
   "source": [
    "- <b>location</b> has the following format: city, state(2 digit abbreviation)\n",
    "> The variables I created, city and state are useful"
   ]
  },
  {
   "cell_type": "code",
   "execution_count": 19,
   "metadata": {
    "scrolled": true
   },
   "outputs": [
    {
     "name": "stdout",
     "output_type": "stream",
     "text": [
      "+---------------------------------------------+----------------------+\n",
      "|location                                     |count(DISTINCT userId)|\n",
      "+---------------------------------------------+----------------------+\n",
      "|Los Angeles-Long Beach-Anaheim, CA           |16                    |\n",
      "|New York-Newark-Jersey City, NY-NJ-PA        |15                    |\n",
      "|Dallas-Fort Worth-Arlington, TX              |7                     |\n",
      "|Phoenix-Mesa-Scottsdale, AZ                  |7                     |\n",
      "|Chicago-Naperville-Elgin, IL-IN-WI           |6                     |\n",
      "|St. Louis, MO-IL                             |6                     |\n",
      "|Charlotte-Concord-Gastonia, NC-SC            |6                     |\n",
      "|Boston-Cambridge-Newton, MA-NH               |5                     |\n",
      "|Philadelphia-Camden-Wilmington, PA-NJ-DE-MD  |5                     |\n",
      "|Miami-Fort Lauderdale-West Palm Beach, FL    |5                     |\n",
      "|Atlanta-Sandy Springs-Roswell, GA            |4                     |\n",
      "|Houston-The Woodlands-Sugar Land, TX         |4                     |\n",
      "|Washington-Arlington-Alexandria, DC-VA-MD-WV |4                     |\n",
      "|New Haven-Milford, CT                        |3                     |\n",
      "|Las Vegas-Henderson-Paradise, NV             |3                     |\n",
      "|San Diego-Carlsbad, CA                       |3                     |\n",
      "|Flint, MI                                    |2                     |\n",
      "|Greenville-Anderson-Mauldin, SC              |2                     |\n",
      "|Truckee-Grass Valley, CA                     |2                     |\n",
      "|Buffalo-Cheektowaga-Niagara Falls, NY        |2                     |\n",
      "|Denver-Aurora-Lakewood, CO                   |2                     |\n",
      "|Baltimore-Columbia-Towson, MD                |2                     |\n",
      "|Syracuse, NY                                 |2                     |\n",
      "|Columbus, GA-AL                              |2                     |\n",
      "|Kansas City, MO-KS                           |2                     |\n",
      "|Cincinnati, OH-KY-IN                         |2                     |\n",
      "|Bridgeport-Stamford-Norwalk, CT              |2                     |\n",
      "|Pittsburgh, PA                               |2                     |\n",
      "|Minneapolis-St. Paul-Bloomington, MN-WI      |2                     |\n",
      "|Spokane-Spokane Valley, WA                   |2                     |\n",
      "|San Francisco-Oakland-Hayward, CA            |2                     |\n",
      "|Indianapolis-Carmel-Anderson, IN             |2                     |\n",
      "|Jackson, MS                                  |2                     |\n",
      "|Hartford-West Hartford-East Hartford, CT     |2                     |\n",
      "|Providence-Warwick, RI-MA                    |2                     |\n",
      "|Sacramento--Roseville--Arden-Arcade, CA      |2                     |\n",
      "|Seattle-Tacoma-Bellevue, WA                  |2                     |\n",
      "|London, KY                                   |2                     |\n",
      "|Tallahassee, FL                              |2                     |\n",
      "|Tampa-St. Petersburg-Clearwater, FL          |2                     |\n",
      "|San Antonio-New Braunfels, TX                |2                     |\n",
      "|Virginia Beach-Norfolk-Newport News, VA-NC   |2                     |\n",
      "|Detroit-Warren-Dearborn, MI                  |2                     |\n",
      "|Portland-Vancouver-Hillsboro, OR-WA          |2                     |\n",
      "|New Philadelphia-Dover, OH                   |1                     |\n",
      "|Cookeville, TN                               |1                     |\n",
      "|Cleveland-Elyria, OH                         |1                     |\n",
      "|Sterling, IL                                 |1                     |\n",
      "|San Jose-Sunnyvale-Santa Clara, CA           |1                     |\n",
      "|Birmingham-Hoover, AL                        |1                     |\n",
      "|Corpus Christi, TX                           |1                     |\n",
      "|North Wilkesboro, NC                         |1                     |\n",
      "|Allentown-Bethlehem-Easton, PA-NJ            |1                     |\n",
      "|Dayton, OH                                   |1                     |\n",
      "|Selma, AL                                    |1                     |\n",
      "|Albany, OR                                   |1                     |\n",
      "|Winston-Salem, NC                            |1                     |\n",
      "|Bakersfield, CA                              |1                     |\n",
      "|Myrtle Beach-Conway-North Myrtle Beach, SC-NC|1                     |\n",
      "|Anchorage, AK                                |1                     |\n",
      "|Orlando-Kissimmee-Sanford, FL                |1                     |\n",
      "|Price, UT                                    |1                     |\n",
      "|McAllen-Edinburg-Mission, TX                 |1                     |\n",
      "|Oxnard-Thousand Oaks-Ventura, CA             |1                     |\n",
      "|Duluth, MN-WI                                |1                     |\n",
      "|Troy, AL                                     |1                     |\n",
      "|Gainesville, FL                              |1                     |\n",
      "|Atlantic City-Hammonton, NJ                  |1                     |\n",
      "|Logan, UT-ID                                 |1                     |\n",
      "|Louisville/Jefferson County, KY-IN           |1                     |\n",
      "|Bozeman, MT                                  |1                     |\n",
      "|Oklahoma City, OK                            |1                     |\n",
      "|Pontiac, IL                                  |1                     |\n",
      "|Fairbanks, AK                                |1                     |\n",
      "|Albany-Schenectady-Troy, NY                  |1                     |\n",
      "|Austin-Round Rock, TX                        |1                     |\n",
      "|Omaha-Council Bluffs, NE-IA                  |1                     |\n",
      "|Raleigh, NC                                  |1                     |\n",
      "|Laurel, MS                                   |1                     |\n",
      "|Lexington-Fayette, KY                        |1                     |\n",
      "|Memphis, TN-MS-AR                            |1                     |\n",
      "|Riverside-San Bernardino-Ontario, CA         |1                     |\n",
      "|Concord, NH                                  |1                     |\n",
      "|Danville, VA                                 |1                     |\n",
      "|Stockton-Lodi, CA                            |1                     |\n",
      "|Greensboro-High Point, NC                    |1                     |\n",
      "|Manchester-Nashua, NH                        |1                     |\n",
      "|Monroe, LA                                   |1                     |\n",
      "|Napa, CA                                     |1                     |\n",
      "|Little Rock-North Little Rock-Conway, AR     |1                     |\n",
      "|Quincy, IL-MO                                |1                     |\n",
      "|Jacksonville, FL                             |1                     |\n",
      "|Port St. Lucie, FL                           |1                     |\n",
      "|Montgomery, AL                               |1                     |\n",
      "|Roanoke, VA                                  |1                     |\n",
      "|Billings, MT                                 |1                     |\n",
      "|Milwaukee-Waukesha-West Allis, WI            |1                     |\n",
      "|Salinas, CA                                  |1                     |\n",
      "|Ionia, MI                                    |1                     |\n",
      "|Alexandria, LA                               |1                     |\n",
      "+---------------------------------------------+----------------------+\n",
      "only showing top 100 rows\n",
      "\n"
     ]
    }
   ],
   "source": [
    "spark.sql('''\n",
    "          SELECT location, COUNT(DISTINCT userId)\n",
    "          FROM user_table\n",
    "          GROUP BY 1\n",
    "          ORDER BY 2 DESC\n",
    "          '''\n",
    "          ).show(100, truncate = False)"
   ]
  },
  {
   "cell_type": "code",
   "execution_count": 20,
   "metadata": {},
   "outputs": [],
   "source": [
    "# new column city\n",
    "df = df.withColumn('city', split(df['location'], ',').getItem(0))\n",
    "df = df.withColumn('city', split(df['city'], '-').getItem(0))\n",
    "# new column state\n",
    "df = df.withColumn('state', split(df['location'], ',').getItem(1))\n",
    "df = df.withColumn('state', split(df['state'], '-').getItem(0))\n",
    "# creating an updated view\n",
    "df.createOrReplaceTempView(\"user_table\")"
   ]
  },
  {
   "cell_type": "code",
   "execution_count": 21,
   "metadata": {},
   "outputs": [
    {
     "name": "stdout",
     "output_type": "stream",
     "text": [
      "+---------------------------+----------------------+\n",
      "|city                       |count(DISTINCT userId)|\n",
      "+---------------------------+----------------------+\n",
      "|Los Angeles                |16                    |\n",
      "|New York                   |15                    |\n",
      "|Dallas                     |7                     |\n",
      "|Phoenix                    |7                     |\n",
      "|Chicago                    |6                     |\n",
      "|Charlotte                  |6                     |\n",
      "|St. Louis                  |6                     |\n",
      "|Miami                      |5                     |\n",
      "|Boston                     |5                     |\n",
      "|Philadelphia               |5                     |\n",
      "|Washington                 |4                     |\n",
      "|Atlanta                    |4                     |\n",
      "|Houston                    |4                     |\n",
      "|Las Vegas                  |3                     |\n",
      "|San Diego                  |3                     |\n",
      "|New Haven                  |3                     |\n",
      "|Buffalo                    |2                     |\n",
      "|Portland                   |2                     |\n",
      "|Indianapolis               |2                     |\n",
      "|Flint                      |2                     |\n",
      "|Baltimore                  |2                     |\n",
      "|San Antonio                |2                     |\n",
      "|Detroit                    |2                     |\n",
      "|Pittsburgh                 |2                     |\n",
      "|Tampa                      |2                     |\n",
      "|Jackson                    |2                     |\n",
      "|San Francisco              |2                     |\n",
      "|Greenville                 |2                     |\n",
      "|Albany                     |2                     |\n",
      "|Seattle                    |2                     |\n",
      "|Denver                     |2                     |\n",
      "|Kansas City                |2                     |\n",
      "|Bridgeport                 |2                     |\n",
      "|Tallahassee                |2                     |\n",
      "|London                     |2                     |\n",
      "|Truckee                    |2                     |\n",
      "|Spokane                    |2                     |\n",
      "|Columbus                   |2                     |\n",
      "|Hartford                   |2                     |\n",
      "|Jacksonville               |2                     |\n",
      "|Virginia Beach             |2                     |\n",
      "|Sacramento                 |2                     |\n",
      "|Minneapolis                |2                     |\n",
      "|Providence                 |2                     |\n",
      "|Syracuse                   |2                     |\n",
      "|Cincinnati                 |2                     |\n",
      "|Gainesville                |1                     |\n",
      "|Dubuque                    |1                     |\n",
      "|Wilson                     |1                     |\n",
      "|Salinas                    |1                     |\n",
      "|Morgantown                 |1                     |\n",
      "|Omaha                      |1                     |\n",
      "|Anchorage                  |1                     |\n",
      "|Oxnard                     |1                     |\n",
      "|Napa                       |1                     |\n",
      "|Alexandria                 |1                     |\n",
      "|Greensboro                 |1                     |\n",
      "|Port St. Lucie             |1                     |\n",
      "|Cleveland                  |1                     |\n",
      "|Manchester                 |1                     |\n",
      "|Fairbanks                  |1                     |\n",
      "|New Philadelphia           |1                     |\n",
      "|Selma                      |1                     |\n",
      "|Santa Maria                |1                     |\n",
      "|Raleigh                    |1                     |\n",
      "|Dayton                     |1                     |\n",
      "|Birmingham                 |1                     |\n",
      "|Atlantic City              |1                     |\n",
      "|Scranton                   |1                     |\n",
      "|Corpus Christi             |1                     |\n",
      "|Oklahoma City              |1                     |\n",
      "|Lexington                  |1                     |\n",
      "|Little Rock                |1                     |\n",
      "|McAllen                    |1                     |\n",
      "|Muncie                     |1                     |\n",
      "|Troy                       |1                     |\n",
      "|Colorado Springs           |1                     |\n",
      "|San Jose                   |1                     |\n",
      "|Billings                   |1                     |\n",
      "|Riverside                  |1                     |\n",
      "|Vineland                   |1                     |\n",
      "|Memphis                    |1                     |\n",
      "|Logan                      |1                     |\n",
      "|Bozeman                    |1                     |\n",
      "|Boulder                    |1                     |\n",
      "|Austin                     |1                     |\n",
      "|Milwaukee                  |1                     |\n",
      "|Pontiac                    |1                     |\n",
      "|Louisville/Jefferson County|1                     |\n",
      "|Ionia                      |1                     |\n",
      "|Laurel                     |1                     |\n",
      "|Quincy                     |1                     |\n",
      "|Kingsport                  |1                     |\n",
      "|Stockton                   |1                     |\n",
      "|Roanoke                    |1                     |\n",
      "|Deltona                    |1                     |\n",
      "|North Wilkesboro           |1                     |\n",
      "|Kankakee                   |1                     |\n",
      "|Duluth                     |1                     |\n",
      "|Hagerstown                 |1                     |\n",
      "+---------------------------+----------------------+\n",
      "only showing top 100 rows\n",
      "\n"
     ]
    }
   ],
   "source": [
    "spark.sql('''\n",
    "          SELECT city, COUNT(DISTINCT userId)\n",
    "          FROM user_table\n",
    "          GROUP BY 1\n",
    "          ORDER BY 2 DESC\n",
    "          '''\n",
    "          ).show(100, truncate = False)"
   ]
  },
  {
   "cell_type": "code",
   "execution_count": 22,
   "metadata": {
    "scrolled": true
   },
   "outputs": [
    {
     "data": {
      "image/png": "[encoded data removed]",
      "text/plain": [
       "<Figure size 1440x1440 with 1 Axes>"
      ]
     },
     "metadata": {
      "needs_background": "light"
     },
     "output_type": "display_data"
    }
   ],
   "source": [
    "city_count = spark.sql('''\n",
    "                       SELECT city, COUNT(DISTINCT userId) AS count\n",
    "                       FROM user_table\n",
    "                       GROUP BY 1\n",
    "                       ORDER BY 2 DESC\n",
    "                       '''\n",
    "                       ).toPandas()\n",
    "\n",
    "plt.figure(figsize = (20,20))\n",
    "city_count.groupby('city')['count'].sum().sort_values(ascending=False).plot.bar()\n",
    "plt.xlabel('City')\n",
    "plt.ylabel('Count')\n",
    "plt.title('User Counts by City');"
   ]
  },
  {
   "cell_type": "code",
   "execution_count": 23,
   "metadata": {
    "scrolled": true
   },
   "outputs": [
    {
     "name": "stdout",
     "output_type": "stream",
     "text": [
      "+-----+----------------------+\n",
      "|state|count(DISTINCT userId)|\n",
      "+-----+----------------------+\n",
      "|   CA|                    33|\n",
      "|   NY|                    20|\n",
      "|   TX|                    16|\n",
      "|   FL|                    14|\n",
      "|   NC|                    12|\n",
      "|   IL|                    10|\n",
      "|   PA|                     9|\n",
      "|   MO|                     8|\n",
      "|   CT|                     7|\n",
      "|   AZ|                     7|\n",
      "|   GA|                     6|\n",
      "|   MA|                     5|\n",
      "|   MI|                     5|\n",
      "|   OH|                     5|\n",
      "|   KY|                     4|\n",
      "|   AL|                     4|\n",
      "|   WA|                     4|\n",
      "|   CO|                     4|\n",
      "|   VA|                     4|\n",
      "|   DC|                     4|\n",
      "|   SC|                     3|\n",
      "|   MD|                     3|\n",
      "|   OR|                     3|\n",
      "|   MN|                     3|\n",
      "|   TN|                     3|\n",
      "|   NV|                     3|\n",
      "|   MS|                     3|\n",
      "|   IN|                     3|\n",
      "|   NH|                     2|\n",
      "|   MT|                     2|\n",
      "|   RI|                     2|\n",
      "|   AK|                     2|\n",
      "|   NJ|                     2|\n",
      "|   LA|                     2|\n",
      "|   UT|                     2|\n",
      "|   NE|                     1|\n",
      "|   WV|                     1|\n",
      "|   AR|                     1|\n",
      "|   WI|                     1|\n",
      "|   OK|                     1|\n",
      "|   IA|                     1|\n",
      "+-----+----------------------+\n",
      "\n"
     ]
    }
   ],
   "source": [
    "spark.sql('''\n",
    "          SELECT state, COUNT(DISTINCT userId)\n",
    "          FROM user_table\n",
    "          GROUP BY 1\n",
    "          ORDER BY 2 DESC\n",
    "          '''\n",
    "          ).show(52)"
   ]
  },
  {
   "cell_type": "code",
   "execution_count": 24,
   "metadata": {},
   "outputs": [
    {
     "data": {
      "image/png": "[encoded data removed]",
      "text/plain": [
       "<Figure size 1440x1440 with 1 Axes>"
      ]
     },
     "metadata": {
      "needs_background": "light"
     },
     "output_type": "display_data"
    }
   ],
   "source": [
    "state_count = spark.sql('''\n",
    "                        SELECT state, COUNT(DISTINCT userId) AS count\n",
    "                        FROM user_table\n",
    "                        GROUP BY 1\n",
    "                        ORDER BY 2 DESC\n",
    "                        '''\n",
    "                        ).toPandas()\n",
    "\n",
    "plt.figure(figsize = (20,20))\n",
    "state_count.groupby('state')['count'].sum().sort_values(ascending=False).plot.bar()\n",
    "plt.xlabel('State')\n",
    "plt.ylabel('Count')\n",
    "plt.title('User Counts by State');"
   ]
  },
  {
   "cell_type": "markdown",
   "metadata": {},
   "source": [
    "- <b>method</b> has the following values: PUT, GET\n",
    "> It is correlated to all the null values from artist, song, and length we discovered while cleaning. Not quite sure what this variable means so it wont be useful. "
   ]
  },
  {
   "cell_type": "code",
   "execution_count": 25,
   "metadata": {
    "scrolled": true
   },
   "outputs": [
    {
     "name": "stdout",
     "output_type": "stream",
     "text": [
      "+------+\n",
      "|method|\n",
      "+------+\n",
      "|   PUT|\n",
      "|   GET|\n",
      "+------+\n",
      "\n"
     ]
    }
   ],
   "source": [
    "spark.sql('''\n",
    "          SELECT DISTINCT method\n",
    "          FROM user_table\n",
    "          '''\n",
    "          ).show()"
   ]
  },
  {
   "cell_type": "code",
   "execution_count": 26,
   "metadata": {},
   "outputs": [
    {
     "name": "stdout",
     "output_type": "stream",
     "text": [
      "+------+---------+---------+------+-------------+--------+------+-----+--------------------+------+-----------+-------------+---------+----+------+-------------+--------------------+------+---------+-----+\n",
      "|artist|     auth|firstName|gender|itemInSession|lastName|length|level|            location|method|       page| registration|sessionId|song|status|           ts|           userAgent|userId|     city|state|\n",
      "+------+---------+---------+------+-------------+--------+------+-----+--------------------+------+-----------+-------------+---------+----+------+-------------+--------------------+------+---------+-----+\n",
      "|  null|Logged In|    Micah|     M|           84|    Long|  null| free|Boston-Cambridge-...|   GET|Roll Advert|1538331630000|        8|null|   200|1538353150000|\"Mozilla/5.0 (Win...|     9|   Boston|   MA|\n",
      "|  null|Logged In|    Alexi|     F|            4|  Warren|  null| paid|Spokane-Spokane V...|   GET|  Downgrade|1532482662000|       53|null|   200|1538354749000|Mozilla/5.0 (Wind...|    54|  Spokane|   WA|\n",
      "|  null|Logged In|    Micah|     M|           97|    Long|  null| free|Boston-Cambridge-...|   GET|       Home|1538331630000|        8|null|   200|1538355504000|\"Mozilla/5.0 (Win...|     9|   Boston|   MA|\n",
      "|  null|Logged In|    Micah|     M|          104|    Long|  null| free|Boston-Cambridge-...|   GET|       Home|1538331630000|        8|null|   200|1538355855000|\"Mozilla/5.0 (Win...|     9|   Boston|   MA|\n",
      "|  null|Logged In|   Warren|     M|            4|  Miller|  null| free|Baltimore-Columbi...|   GET|       Home|1538169823000|      240|null|   200|1538356686000|Mozilla/5.0 (Wind...|     4|Baltimore|   MD|\n",
      "+------+---------+---------+------+-------------+--------+------+-----+--------------------+------+-----------+-------------+---------+----+------+-------------+--------------------+------+---------+-----+\n",
      "\n"
     ]
    }
   ],
   "source": [
    "spark.sql('''\n",
    "          SELECT *\n",
    "          FROM user_table\n",
    "          WHERE method = 'GET'\n",
    "          LIMIT 5\n",
    "          '''\n",
    "          ).show()"
   ]
  },
  {
   "cell_type": "markdown",
   "metadata": {},
   "source": [
    "- <b>page</b> is the most insightful variable of the current users behaviour with the following values:\n",
    ">Cancel<br>\n",
    ">Submit Downgrade<br>\n",
    ">Thumbs Down<br>\n",
    ">Home<br>\n",
    ">Downgrade<br>\n",
    ">Roll Advert<br>\n",
    ">Logout<br>\n",
    ">Save Settings<br>\n",
    ">Cancellation Confirmation<br>\n",
    ">About<br>\n",
    ">Settings<br>\n",
    ">Add to Playlist<br>\n",
    ">Add Friend<br>\n",
    ">NextSong<br>\n",
    ">Thumbs Up<br>\n",
    ">Help<br>\n",
    ">Upgrade<br>\n",
    ">Error<br>\n",
    ">Submit Upgrade<br>\n",
    "<br>\n",
    "> This variable will be useful<br>\n",
    "\n"
   ]
  },
  {
   "cell_type": "code",
   "execution_count": 27,
   "metadata": {},
   "outputs": [
    {
     "name": "stdout",
     "output_type": "stream",
     "text": [
      "+--------------------+-------------+\n",
      "|                page|count(userId)|\n",
      "+--------------------+-------------+\n",
      "|            NextSong|       228108|\n",
      "|           Thumbs Up|        12551|\n",
      "|                Home|        10082|\n",
      "|     Add to Playlist|         6526|\n",
      "|          Add Friend|         4277|\n",
      "|         Roll Advert|         3933|\n",
      "|              Logout|         3226|\n",
      "|         Thumbs Down|         2546|\n",
      "|           Downgrade|         2055|\n",
      "|            Settings|         1514|\n",
      "|                Help|         1454|\n",
      "|             Upgrade|          499|\n",
      "|               About|          495|\n",
      "|       Save Settings|          310|\n",
      "|               Error|          252|\n",
      "|      Submit Upgrade|          159|\n",
      "|    Submit Downgrade|           63|\n",
      "|              Cancel|           52|\n",
      "|Cancellation Conf...|           52|\n",
      "+--------------------+-------------+\n",
      "\n"
     ]
    }
   ],
   "source": [
    "spark.sql('''\n",
    "          SELECT page, COUNT(userId)\n",
    "          FROM user_table\n",
    "          GROUP BY 1\n",
    "          ORDER BY 2 DESC\n",
    "          '''\n",
    "          ).show()"
   ]
  },
  {
   "cell_type": "markdown",
   "metadata": {},
   "source": [
    "- <b>registration</b>: formatted in a 13 digit unixtime format which appears to be the time of registration\n",
    "> This variable will be useful as the registrationTimestamp variable I created."
   ]
  },
  {
   "cell_type": "code",
   "execution_count": 28,
   "metadata": {},
   "outputs": [
    {
     "name": "stdout",
     "output_type": "stream",
     "text": [
      "+-------------+---------------------+\n",
      "| registration|registrationTimestamp|\n",
      "+-------------+---------------------+\n",
      "|1521380675000|  2018-03-18 09:44:35|\n",
      "|1526739206000|  2018-05-19 10:13:26|\n",
      "|1526838391000|  2018-05-20 13:46:31|\n",
      "|1528403713000|  2018-06-07 16:35:13|\n",
      "|1528560242000|  2018-06-09 12:04:02|\n",
      "+-------------+---------------------+\n",
      "\n"
     ]
    }
   ],
   "source": [
    "dateTime = udf(lambda x: datetime.datetime.fromtimestamp(int(x) / 1000.0).strftime(\"%Y-%m-%d %H:%M:%S\"))\n",
    "df = df.withColumn(\"registrationTimestamp\", dateTime(\"registration\"))\n",
    "df.createOrReplaceTempView(\"user_table\")\n",
    "\n",
    "spark.sql('''\n",
    "          SELECT DISTINCT registration, registrationTimestamp\n",
    "          FROM user_table\n",
    "          ORDER BY 1 ASC\n",
    "          LIMIT 5\n",
    "          '''\n",
    "          ).show()"
   ]
  },
  {
   "cell_type": "code",
   "execution_count": 29,
   "metadata": {
    "scrolled": true
   },
   "outputs": [
    {
     "data": {
      "image/png": "[encoded data removed]",
      "text/plain": [
       "<Figure size 432x288 with 1 Axes>"
      ]
     },
     "metadata": {
      "needs_background": "light"
     },
     "output_type": "display_data"
    }
   ],
   "source": [
    "hour = udf(lambda x: datetime.datetime.fromtimestamp(int(x) / 1000.0).hour, IntegerType())\n",
    "df = df.withColumn(\"registrationHour\", hour(\"registration\"))\n",
    "df.createOrReplaceTempView(\"user_table\")\n",
    "\n",
    "reg_hour_count = spark.sql('''\n",
    "                           SELECT registrationHour, COUNT(DISTINCT userId) AS count\n",
    "                           FROM user_table\n",
    "                           GROUP BY 1\n",
    "                           ORDER BY 1 ASC\n",
    "                           '''\n",
    "                           ).toPandas()\n",
    "\n",
    "reg_hour_count.sort_values(by = 'registrationHour', ascending=False).groupby('registrationHour')['count'].sum().plot.bar()\n",
    "plt.xlabel('Hour')\n",
    "plt.ylabel('Count')\n",
    "plt.title('Registration Count at Each Hour');"
   ]
  },
  {
   "cell_type": "markdown",
   "metadata": {},
   "source": [
    "- <b>sessionId</b>: doesn't seem to be unique to any user or increment.\n",
    "> This variable will not be useful."
   ]
  },
  {
   "cell_type": "code",
   "execution_count": 30,
   "metadata": {},
   "outputs": [
    {
     "data": {
      "image/png": "[encoded data removed]",
      "text/plain": [
       "<Figure size 1440x1440 with 1 Axes>"
      ]
     },
     "metadata": {
      "needs_background": "light"
     },
     "output_type": "display_data"
    }
   ],
   "source": [
    "sessionId_count = spark.sql('''\n",
    "                            SELECT sessionId, COUNT(DISTINCT userId) AS count\n",
    "                            FROM user_table\n",
    "                            GROUP BY 1\n",
    "                            ORDER BY 1 ASC\n",
    "                            LIMIT 50\n",
    "                            '''\n",
    "                            ).toPandas()\n",
    "\n",
    "sessionId_count.sessionId.astype('int64')\n",
    "plt.figure(figsize=(20,20))\n",
    "sessionId_count.sort_values(by = 'sessionId', ascending=False).groupby('sessionId')['count'].sum().plot.bar()\n",
    "plt.xlabel('Session Id')\n",
    "plt.ylabel('Count')\n",
    "plt.title('Session Id Used by Concurrent Users');"
   ]
  },
  {
   "cell_type": "code",
   "execution_count": 31,
   "metadata": {},
   "outputs": [
    {
     "name": "stdout",
     "output_type": "stream",
     "text": [
      "+----+---------+\n",
      "|page|sessionId|\n",
      "+----+---------+\n",
      "|Home|        8|\n",
      "|Home|        8|\n",
      "|Home|      240|\n",
      "|Home|      240|\n",
      "|Home|      100|\n",
      "|Home|      187|\n",
      "|Home|      241|\n",
      "|Home|      100|\n",
      "|Home|      187|\n",
      "|Home|      187|\n",
      "|Home|      187|\n",
      "|Home|      187|\n",
      "|Home|      222|\n",
      "|Home|      100|\n",
      "|Home|      141|\n",
      "|Home|      255|\n",
      "|Home|      141|\n",
      "|Home|      267|\n",
      "|Home|       86|\n",
      "|Home|      266|\n",
      "+----+---------+\n",
      "\n"
     ]
    }
   ],
   "source": [
    "spark.sql('''\n",
    "          SELECT page, sessionId\n",
    "          FROM user_table\n",
    "          WHERE page = 'Home'\n",
    "          LIMIT 20\n",
    "          '''\n",
    "          ).show()"
   ]
  },
  {
   "cell_type": "markdown",
   "metadata": {},
   "source": [
    "<b>status</b> takes on the following values: 200, 307, 400\n",
    "> 200 -> Next Song<br>\n",
    "> 307 -> Thumbs Up, Thumbs Down, Logout<br>\n",
    "> 400 -> error<br>\n",
    "<br>\n",
    "> Other variables show us this same information. This variable is not useful."
   ]
  },
  {
   "cell_type": "code",
   "execution_count": 32,
   "metadata": {},
   "outputs": [
    {
     "name": "stdout",
     "output_type": "stream",
     "text": [
      "+------+\n",
      "|status|\n",
      "+------+\n",
      "|   200|\n",
      "|   307|\n",
      "|   404|\n",
      "+------+\n",
      "\n"
     ]
    }
   ],
   "source": [
    "spark.sql('''\n",
    "          SELECT DISTINCT status\n",
    "          FROM user_table\n",
    "          ORDER BY 1 ASC\n",
    "          '''\n",
    "          ).show()"
   ]
  },
  {
   "cell_type": "code",
   "execution_count": 33,
   "metadata": {},
   "outputs": [
    {
     "name": "stdout",
     "output_type": "stream",
     "text": [
      "+----------------+---------+---------+------+-------------+--------+---------+-----+--------------------+------+--------+-------------+---------+--------------------+------+-------------+--------------------+------+-----------+-----+---------------------+----------------+\n",
      "|          artist|     auth|firstName|gender|itemInSession|lastName|   length|level|            location|method|    page| registration|sessionId|                song|status|           ts|           userAgent|userId|       city|state|registrationTimestamp|registrationHour|\n",
      "+----------------+---------+---------+------+-------------+--------+---------+-----+--------------------+------+--------+-------------+---------+--------------------+------+-------------+--------------------+------+-----------+-----+---------------------+----------------+\n",
      "|  Martha Tilston|Logged In|    Colin|     M|           50| Freeman|277.89016| paid|     Bakersfield, CA|   PUT|NextSong|1538173362000|       29|           Rockpools|   200|1538352117000|Mozilla/5.0 (Wind...|    30|Bakersfield|   CA|  2018-09-28 18:22:42|              18|\n",
      "|Five Iron Frenzy|Logged In|    Micah|     M|           79|    Long|236.09424| free|Boston-Cambridge-...|   PUT|NextSong|1538331630000|        8|              Canada|   200|1538352180000|\"Mozilla/5.0 (Win...|     9|     Boston|   MA|  2018-09-30 14:20:30|              14|\n",
      "|    Adam Lambert|Logged In|    Colin|     M|           51| Freeman| 282.8273| paid|     Bakersfield, CA|   PUT|NextSong|1538173362000|       29|   Time For Miracles|   200|1538352394000|Mozilla/5.0 (Wind...|    30|Bakersfield|   CA|  2018-09-28 18:22:42|              18|\n",
      "|          Enigma|Logged In|    Micah|     M|           80|    Long|262.71302| free|Boston-Cambridge-...|   PUT|NextSong|1538331630000|        8|Knocking On Forbi...|   200|1538352416000|\"Mozilla/5.0 (Win...|     9|     Boston|   MA|  2018-09-30 14:20:30|              14|\n",
      "|       Daft Punk|Logged In|    Colin|     M|           52| Freeman|223.60771| paid|     Bakersfield, CA|   PUT|NextSong|1538173362000|       29|Harder Better Fas...|   200|1538352676000|Mozilla/5.0 (Wind...|    30|Bakersfield|   CA|  2018-09-28 18:22:42|              18|\n",
      "+----------------+---------+---------+------+-------------+--------+---------+-----+--------------------+------+--------+-------------+---------+--------------------+------+-------------+--------------------+------+-----------+-----+---------------------+----------------+\n",
      "only showing top 5 rows\n",
      "\n"
     ]
    }
   ],
   "source": [
    "spark.sql('''\n",
    "          SELECT *\n",
    "          FROM user_table\n",
    "          WHERE status = 200\n",
    "          '''\n",
    "          ).show(5)"
   ]
  },
  {
   "cell_type": "code",
   "execution_count": 34,
   "metadata": {},
   "outputs": [
    {
     "name": "stdout",
     "output_type": "stream",
     "text": [
      "+------+---------+---------+------+-------------+--------+------+-----+--------------------+------+-----------+-------------+---------+----+------+-------------+--------------------+------+-----------+-----+---------------------+----------------+\n",
      "|artist|     auth|firstName|gender|itemInSession|lastName|length|level|            location|method|       page| registration|sessionId|song|status|           ts|           userAgent|userId|       city|state|registrationTimestamp|registrationHour|\n",
      "+------+---------+---------+------+-------------+--------+------+-----+--------------------+------+-----------+-------------+---------+----+------+-------------+--------------------+------+-----------+-----+---------------------+----------------+\n",
      "|  null|Logged In|    Micah|     M|           86|    Long|  null| free|Boston-Cambridge-...|   PUT|  Thumbs Up|1538331630000|        8|null|   307|1538353376000|\"Mozilla/5.0 (Win...|     9|     Boston|   MA|  2018-09-30 14:20:30|              14|\n",
      "|  null|Logged In|    Alexi|     F|            7|  Warren|  null| paid|Spokane-Spokane V...|   PUT|  Thumbs Up|1532482662000|       53|null|   307|1538355255000|Mozilla/5.0 (Wind...|    54|    Spokane|   WA|  2018-07-24 21:37:42|              21|\n",
      "|  null|Logged In|    Micah|     M|           95|    Long|  null| free|Boston-Cambridge-...|   PUT|Thumbs Down|1538331630000|        8|null|   307|1538355306000|\"Mozilla/5.0 (Win...|     9|     Boston|   MA|  2018-09-30 14:20:30|              14|\n",
      "|  null|Logged In|    Micah|     M|           99|    Long|  null| free|Boston-Cambridge-...|   PUT|     Logout|1538331630000|        8|null|   307|1538355687000|\"Mozilla/5.0 (Win...|     9|     Boston|   MA|  2018-09-30 14:20:30|              14|\n",
      "|  null|Logged In|  Ashlynn|     F|            9|Williams|  null| free|     Tallahassee, FL|   PUT|  Thumbs Up|1537365219000|      217|null|   307|1538355711000|\"Mozilla/5.0 (Mac...|    74|Tallahassee|   FL|  2018-09-19 09:53:39|               9|\n",
      "+------+---------+---------+------+-------------+--------+------+-----+--------------------+------+-----------+-------------+---------+----+------+-------------+--------------------+------+-----------+-----+---------------------+----------------+\n",
      "only showing top 5 rows\n",
      "\n"
     ]
    }
   ],
   "source": [
    "spark.sql('''\n",
    "          SELECT *\n",
    "          FROM user_table\n",
    "          WHERE status = 307\n",
    "          '''\n",
    "          ).show(5)"
   ]
  },
  {
   "cell_type": "code",
   "execution_count": 35,
   "metadata": {},
   "outputs": [
    {
     "name": "stdout",
     "output_type": "stream",
     "text": [
      "+------+---------+---------+------+-------------+--------+------+-----+--------------------+------+-----+-------------+---------+----+------+-------------+--------------------+------+--------------------+-----+---------------------+----------------+\n",
      "|artist|     auth|firstName|gender|itemInSession|lastName|length|level|            location|method| page| registration|sessionId|song|status|           ts|           userAgent|userId|                city|state|registrationTimestamp|registrationHour|\n",
      "+------+---------+---------+------+-------------+--------+------+-----+--------------------+------+-----+-------------+---------+----+------+-------------+--------------------+------+--------------------+-----+---------------------+----------------+\n",
      "|  null|Logged In|     Kael|     M|           48|   Baker|  null| paid|Kingsport-Bristol...|   GET|Error|1533102330000|      249|null|   404|1538393848000|\"Mozilla/5.0 (Mac...|   131|           Kingsport|   TN|  2018-08-01 01:45:30|               1|\n",
      "|  null|Logged In|   Lucero|     F|           10|    Reed|  null| free|Louisville/Jeffer...|   GET|Error|1536642109000|      139|null|   404|1538407927000|\"Mozilla/5.0 (Win...|   140|Louisville/Jeffer...|   KY|  2018-09-11 01:01:49|               1|\n",
      "|  null|Logged In|Sebastian|     M|           38|    Wang|  null| free|         Jackson, MS|   GET|Error|1538050164000|       52|null|   404|1538425401000|\"Mozilla/5.0 (Mac...|    53|             Jackson|   MS|  2018-09-27 08:09:24|               8|\n",
      "|  null|Logged In|    Micah|     M|           38|    Long|  null| free|Boston-Cambridge-...|   GET|Error|1538331630000|      262|null|   404|1538489751000|\"Mozilla/5.0 (Win...|     9|              Boston|   MA|  2018-09-30 14:20:30|              14|\n",
      "|  null|Logged In|   Payton|     F|           19|Campbell|  null| free|Los Angeles-Long ...|   GET|Error|1529027541000|      354|null|   404|1538515176000|\"Mozilla/5.0 (Win...|    39|         Los Angeles|   CA|  2018-06-14 21:52:21|              21|\n",
      "+------+---------+---------+------+-------------+--------+------+-----+--------------------+------+-----+-------------+---------+----+------+-------------+--------------------+------+--------------------+-----+---------------------+----------------+\n",
      "only showing top 5 rows\n",
      "\n"
     ]
    }
   ],
   "source": [
    "spark.sql('''\n",
    "          SELECT *\n",
    "          FROM user_table\n",
    "          WHERE status = 404\n",
    "          '''\n",
    "          ).show(5)"
   ]
  },
  {
   "cell_type": "markdown",
   "metadata": {},
   "source": [
    "<b>ts</b> is in 13 digit unixtime which shows the time that the page was visited.\n",
    "> The variable timstamp I created will be useful."
   ]
  },
  {
   "cell_type": "code",
   "execution_count": 36,
   "metadata": {},
   "outputs": [],
   "source": [
    "dateTime = udf(lambda x: datetime.datetime.fromtimestamp(int(x) / 1000.0).strftime(\"%Y-%m-%d %H:%M:%S\"))\n",
    "df = df.withColumn(\"timestamp\", dateTime(\"ts\"))\n",
    "df.createOrReplaceTempView(\"user_table\")"
   ]
  },
  {
   "cell_type": "code",
   "execution_count": 37,
   "metadata": {},
   "outputs": [
    {
     "name": "stdout",
     "output_type": "stream",
     "text": [
      "+-------------+-------------------+\n",
      "|           ts|          timestamp|\n",
      "+-------------+-------------------+\n",
      "|1538352117000|2018-09-30 20:01:57|\n",
      "|1538352180000|2018-09-30 20:03:00|\n",
      "|1538352394000|2018-09-30 20:06:34|\n",
      "|1538352416000|2018-09-30 20:06:56|\n",
      "|1538352676000|2018-09-30 20:11:16|\n",
      "+-------------+-------------------+\n",
      "\n"
     ]
    }
   ],
   "source": [
    "spark.sql('''\n",
    "          SELECT ts, timestamp\n",
    "          FROM user_table\n",
    "          ORDER BY 1 ASC\n",
    "          LIMIT 5\n",
    "          '''\n",
    "          ).show()"
   ]
  },
  {
   "cell_type": "code",
   "execution_count": 38,
   "metadata": {},
   "outputs": [
    {
     "data": {
      "image/png": "[encoded data removed]",
      "text/plain": [
       "<Figure size 432x288 with 1 Axes>"
      ]
     },
     "metadata": {
      "needs_background": "light"
     },
     "output_type": "display_data"
    }
   ],
   "source": [
    "hour = udf(lambda x: datetime.datetime.fromtimestamp(int(x) / 1000.0).hour, IntegerType())\n",
    "df = df.withColumn(\"timestampHour\", hour(\"ts\"))\n",
    "df.createOrReplaceTempView(\"user_table\")\n",
    "\n",
    "ts_hour_count = spark.sql('''\n",
    "                          SELECT timestampHour, COUNT(DISTINCT userId) AS count\n",
    "                          FROM user_table\n",
    "                          GROUP BY 1\n",
    "                          ORDER BY 1 ASC\n",
    "                          '''\n",
    "                          ).toPandas()\n",
    "\n",
    "ts_hour_count.sort_values(by='timestampHour', ascending=False).groupby('timestampHour')['count'].sum().plot.bar()\n",
    "plt.xlabel('Hour')\n",
    "plt.ylabel('Count')\n",
    "plt.title('Page Interaction Count at Each Hour');"
   ]
  },
  {
   "cell_type": "code",
   "execution_count": 39,
   "metadata": {},
   "outputs": [
    {
     "name": "stdout",
     "output_type": "stream",
     "text": [
      "+--------------------+------------------+\n",
      "|                page|avg(timestampHour)|\n",
      "+--------------------+------------------+\n",
      "|    Submit Downgrade|10.301587301587302|\n",
      "|               Error|11.031746031746032|\n",
      "|      Submit Upgrade|11.176100628930818|\n",
      "|               About|11.296969696969697|\n",
      "|            Settings|11.479524438573316|\n",
      "|             Upgrade|11.557114228456914|\n",
      "|                Home|11.569728228526087|\n",
      "|       Save Settings|11.619354838709677|\n",
      "|              Logout|11.646311221326721|\n",
      "|           Thumbs Up|11.710301967970679|\n",
      "|            NextSong|11.732745015518965|\n",
      "|           Downgrade| 11.74403892944039|\n",
      "|                Help|11.752407152682256|\n",
      "|     Add to Playlist|   11.784554091327|\n",
      "|              Cancel|11.865384615384615|\n",
      "|          Add Friend|11.880991349076455|\n",
      "|Cancellation Conf...|11.884615384615385|\n",
      "|         Roll Advert|11.966692092550216|\n",
      "|         Thumbs Down|12.055380989787903|\n",
      "+--------------------+------------------+\n",
      "\n"
     ]
    }
   ],
   "source": [
    "spark.sql('''\n",
    "          SELECT DISTINCT page, AVG(timestampHour)\n",
    "          FROM user_table\n",
    "          GROUP BY 1\n",
    "          ORDER BY 2 ASC\n",
    "          '''\n",
    "          ).show()"
   ]
  },
  {
   "cell_type": "markdown",
   "metadata": {},
   "source": [
    "<b>userAgent</b> shows how the user accessed sparkify, the possible values follow.\n",
    "> The variable platform I created could be useful."
   ]
  },
  {
   "cell_type": "code",
   "execution_count": 40,
   "metadata": {},
   "outputs": [],
   "source": [
    "userAgent_count = spark.sql('''\n",
    "                            SELECT userAgent, COUNT(DISTINCT userId) AS count\n",
    "                            FROM user_table\n",
    "                            GROUP BY 1\n",
    "                            ORDER BY 1 ASC\n",
    "                            '''\n",
    "                            ).toPandas()"
   ]
  },
  {
   "cell_type": "code",
   "execution_count": 41,
   "metadata": {
    "scrolled": true
   },
   "outputs": [
    {
     "data": {
      "text/html": [
       "<div>\n",
       "<style scoped>\n",
       "    .dataframe tbody tr th:only-of-type {\n",
       "        vertical-align: middle;\n",
       "    }\n",
       "\n",
       "    .dataframe tbody tr th {\n",
       "        vertical-align: top;\n",
       "    }\n",
       "\n",
       "    .dataframe thead th {\n",
       "        text-align: right;\n",
       "    }\n",
       "</style>\n",
       "<table border=\"1\" class=\"dataframe\">\n",
       "  <thead>\n",
       "    <tr style=\"text-align: right;\">\n",
       "      <th></th>\n",
       "      <th>userAgent</th>\n",
       "      <th>count</th>\n",
       "    </tr>\n",
       "  </thead>\n",
       "  <tbody>\n",
       "    <tr>\n",
       "      <th>0</th>\n",
       "      <td>\"Mozilla/5.0 (Macintosh; Intel Mac OS X 10_10)...</td>\n",
       "      <td>1</td>\n",
       "    </tr>\n",
       "    <tr>\n",
       "      <th>1</th>\n",
       "      <td>\"Mozilla/5.0 (Macintosh; Intel Mac OS X 10_10)...</td>\n",
       "      <td>2</td>\n",
       "    </tr>\n",
       "    <tr>\n",
       "      <th>2</th>\n",
       "      <td>\"Mozilla/5.0 (Macintosh; Intel Mac OS X 10_6_8...</td>\n",
       "      <td>1</td>\n",
       "    </tr>\n",
       "    <tr>\n",
       "      <th>3</th>\n",
       "      <td>\"Mozilla/5.0 (Macintosh; Intel Mac OS X 10_7_5...</td>\n",
       "      <td>1</td>\n",
       "    </tr>\n",
       "    <tr>\n",
       "      <th>4</th>\n",
       "      <td>\"Mozilla/5.0 (Macintosh; Intel Mac OS X 10_7_5...</td>\n",
       "      <td>2</td>\n",
       "    </tr>\n",
       "    <tr>\n",
       "      <th>5</th>\n",
       "      <td>\"Mozilla/5.0 (Macintosh; Intel Mac OS X 10_8_5...</td>\n",
       "      <td>1</td>\n",
       "    </tr>\n",
       "    <tr>\n",
       "      <th>6</th>\n",
       "      <td>\"Mozilla/5.0 (Macintosh; Intel Mac OS X 10_8_5...</td>\n",
       "      <td>1</td>\n",
       "    </tr>\n",
       "    <tr>\n",
       "      <th>7</th>\n",
       "      <td>\"Mozilla/5.0 (Macintosh; Intel Mac OS X 10_9_2...</td>\n",
       "      <td>2</td>\n",
       "    </tr>\n",
       "    <tr>\n",
       "      <th>8</th>\n",
       "      <td>\"Mozilla/5.0 (Macintosh; Intel Mac OS X 10_9_2...</td>\n",
       "      <td>1</td>\n",
       "    </tr>\n",
       "    <tr>\n",
       "      <th>9</th>\n",
       "      <td>\"Mozilla/5.0 (Macintosh; Intel Mac OS X 10_9_2...</td>\n",
       "      <td>1</td>\n",
       "    </tr>\n",
       "    <tr>\n",
       "      <th>10</th>\n",
       "      <td>\"Mozilla/5.0 (Macintosh; Intel Mac OS X 10_9_3...</td>\n",
       "      <td>1</td>\n",
       "    </tr>\n",
       "    <tr>\n",
       "      <th>11</th>\n",
       "      <td>\"Mozilla/5.0 (Macintosh; Intel Mac OS X 10_9_4...</td>\n",
       "      <td>2</td>\n",
       "    </tr>\n",
       "    <tr>\n",
       "      <th>12</th>\n",
       "      <td>\"Mozilla/5.0 (Macintosh; Intel Mac OS X 10_9_4...</td>\n",
       "      <td>16</td>\n",
       "    </tr>\n",
       "    <tr>\n",
       "      <th>13</th>\n",
       "      <td>\"Mozilla/5.0 (Macintosh; Intel Mac OS X 10_9_4...</td>\n",
       "      <td>12</td>\n",
       "    </tr>\n",
       "    <tr>\n",
       "      <th>14</th>\n",
       "      <td>\"Mozilla/5.0 (Macintosh; Intel Mac OS X 10_9_4...</td>\n",
       "      <td>7</td>\n",
       "    </tr>\n",
       "    <tr>\n",
       "      <th>15</th>\n",
       "      <td>\"Mozilla/5.0 (Macintosh; Intel Mac OS X 10_9_4...</td>\n",
       "      <td>12</td>\n",
       "    </tr>\n",
       "    <tr>\n",
       "      <th>16</th>\n",
       "      <td>\"Mozilla/5.0 (Macintosh; Intel Mac OS X 10_9_4...</td>\n",
       "      <td>10</td>\n",
       "    </tr>\n",
       "    <tr>\n",
       "      <th>17</th>\n",
       "      <td>\"Mozilla/5.0 (Windows NT 5.1) AppleWebKit/537....</td>\n",
       "      <td>1</td>\n",
       "    </tr>\n",
       "    <tr>\n",
       "      <th>18</th>\n",
       "      <td>\"Mozilla/5.0 (Windows NT 5.1) AppleWebKit/537....</td>\n",
       "      <td>4</td>\n",
       "    </tr>\n",
       "    <tr>\n",
       "      <th>19</th>\n",
       "      <td>\"Mozilla/5.0 (Windows NT 6.1) AppleWebKit/537....</td>\n",
       "      <td>1</td>\n",
       "    </tr>\n",
       "    <tr>\n",
       "      <th>20</th>\n",
       "      <td>\"Mozilla/5.0 (Windows NT 6.1) AppleWebKit/537....</td>\n",
       "      <td>4</td>\n",
       "    </tr>\n",
       "    <tr>\n",
       "      <th>21</th>\n",
       "      <td>\"Mozilla/5.0 (Windows NT 6.1; WOW64) AppleWebK...</td>\n",
       "      <td>2</td>\n",
       "    </tr>\n",
       "    <tr>\n",
       "      <th>22</th>\n",
       "      <td>\"Mozilla/5.0 (Windows NT 6.1; WOW64) AppleWebK...</td>\n",
       "      <td>10</td>\n",
       "    </tr>\n",
       "    <tr>\n",
       "      <th>23</th>\n",
       "      <td>\"Mozilla/5.0 (Windows NT 6.1; WOW64) AppleWebK...</td>\n",
       "      <td>24</td>\n",
       "    </tr>\n",
       "    <tr>\n",
       "      <th>24</th>\n",
       "      <td>\"Mozilla/5.0 (Windows NT 6.1; WOW64) AppleWebK...</td>\n",
       "      <td>3</td>\n",
       "    </tr>\n",
       "    <tr>\n",
       "      <th>25</th>\n",
       "      <td>\"Mozilla/5.0 (Windows NT 6.1; WOW64) AppleWebK...</td>\n",
       "      <td>4</td>\n",
       "    </tr>\n",
       "    <tr>\n",
       "      <th>26</th>\n",
       "      <td>\"Mozilla/5.0 (Windows NT 6.2; WOW64) AppleWebK...</td>\n",
       "      <td>1</td>\n",
       "    </tr>\n",
       "    <tr>\n",
       "      <th>27</th>\n",
       "      <td>\"Mozilla/5.0 (Windows NT 6.2; WOW64) AppleWebK...</td>\n",
       "      <td>2</td>\n",
       "    </tr>\n",
       "    <tr>\n",
       "      <th>28</th>\n",
       "      <td>\"Mozilla/5.0 (Windows NT 6.3; WOW64) AppleWebK...</td>\n",
       "      <td>5</td>\n",
       "    </tr>\n",
       "    <tr>\n",
       "      <th>29</th>\n",
       "      <td>\"Mozilla/5.0 (Windows NT 6.3; WOW64) AppleWebK...</td>\n",
       "      <td>7</td>\n",
       "    </tr>\n",
       "    <tr>\n",
       "      <th>30</th>\n",
       "      <td>\"Mozilla/5.0 (X11; Linux x86_64) AppleWebKit/5...</td>\n",
       "      <td>2</td>\n",
       "    </tr>\n",
       "    <tr>\n",
       "      <th>31</th>\n",
       "      <td>\"Mozilla/5.0 (X11; Linux x86_64) AppleWebKit/5...</td>\n",
       "      <td>4</td>\n",
       "    </tr>\n",
       "    <tr>\n",
       "      <th>32</th>\n",
       "      <td>\"Mozilla/5.0 (iPad; CPU OS 7_1_1 like Mac OS X...</td>\n",
       "      <td>1</td>\n",
       "    </tr>\n",
       "    <tr>\n",
       "      <th>33</th>\n",
       "      <td>\"Mozilla/5.0 (iPad; CPU OS 7_1_2 like Mac OS X...</td>\n",
       "      <td>2</td>\n",
       "    </tr>\n",
       "    <tr>\n",
       "      <th>34</th>\n",
       "      <td>\"Mozilla/5.0 (iPhone; CPU iPhone OS 7_1 like M...</td>\n",
       "      <td>4</td>\n",
       "    </tr>\n",
       "    <tr>\n",
       "      <th>35</th>\n",
       "      <td>\"Mozilla/5.0 (iPhone; CPU iPhone OS 7_1_1 like...</td>\n",
       "      <td>1</td>\n",
       "    </tr>\n",
       "    <tr>\n",
       "      <th>36</th>\n",
       "      <td>\"Mozilla/5.0 (iPhone; CPU iPhone OS 7_1_2 like...</td>\n",
       "      <td>8</td>\n",
       "    </tr>\n",
       "    <tr>\n",
       "      <th>37</th>\n",
       "      <td>Mozilla/5.0 (Macintosh; Intel Mac OS X 10.6; r...</td>\n",
       "      <td>1</td>\n",
       "    </tr>\n",
       "    <tr>\n",
       "      <th>38</th>\n",
       "      <td>Mozilla/5.0 (Macintosh; Intel Mac OS X 10.7; r...</td>\n",
       "      <td>2</td>\n",
       "    </tr>\n",
       "    <tr>\n",
       "      <th>39</th>\n",
       "      <td>Mozilla/5.0 (Macintosh; Intel Mac OS X 10.8; r...</td>\n",
       "      <td>1</td>\n",
       "    </tr>\n",
       "    <tr>\n",
       "      <th>40</th>\n",
       "      <td>Mozilla/5.0 (Macintosh; Intel Mac OS X 10.9; r...</td>\n",
       "      <td>9</td>\n",
       "    </tr>\n",
       "    <tr>\n",
       "      <th>41</th>\n",
       "      <td>Mozilla/5.0 (Windows NT 6.0; rv:31.0) Gecko/20...</td>\n",
       "      <td>1</td>\n",
       "    </tr>\n",
       "    <tr>\n",
       "      <th>42</th>\n",
       "      <td>Mozilla/5.0 (Windows NT 6.1; WOW64; Trident/7....</td>\n",
       "      <td>7</td>\n",
       "    </tr>\n",
       "    <tr>\n",
       "      <th>43</th>\n",
       "      <td>Mozilla/5.0 (Windows NT 6.1; WOW64; rv:24.0) G...</td>\n",
       "      <td>1</td>\n",
       "    </tr>\n",
       "    <tr>\n",
       "      <th>44</th>\n",
       "      <td>Mozilla/5.0 (Windows NT 6.1; WOW64; rv:30.0) G...</td>\n",
       "      <td>1</td>\n",
       "    </tr>\n",
       "    <tr>\n",
       "      <th>45</th>\n",
       "      <td>Mozilla/5.0 (Windows NT 6.1; WOW64; rv:31.0) G...</td>\n",
       "      <td>18</td>\n",
       "    </tr>\n",
       "    <tr>\n",
       "      <th>46</th>\n",
       "      <td>Mozilla/5.0 (Windows NT 6.1; WOW64; rv:32.0) G...</td>\n",
       "      <td>2</td>\n",
       "    </tr>\n",
       "    <tr>\n",
       "      <th>47</th>\n",
       "      <td>Mozilla/5.0 (Windows NT 6.1; rv:31.0) Gecko/20...</td>\n",
       "      <td>3</td>\n",
       "    </tr>\n",
       "    <tr>\n",
       "      <th>48</th>\n",
       "      <td>Mozilla/5.0 (Windows NT 6.2; WOW64; rv:31.0) G...</td>\n",
       "      <td>1</td>\n",
       "    </tr>\n",
       "    <tr>\n",
       "      <th>49</th>\n",
       "      <td>Mozilla/5.0 (Windows NT 6.3; WOW64; rv:31.0) G...</td>\n",
       "      <td>4</td>\n",
       "    </tr>\n",
       "    <tr>\n",
       "      <th>50</th>\n",
       "      <td>Mozilla/5.0 (X11; Linux x86_64; rv:31.0) Gecko...</td>\n",
       "      <td>1</td>\n",
       "    </tr>\n",
       "    <tr>\n",
       "      <th>51</th>\n",
       "      <td>Mozilla/5.0 (X11; Ubuntu; Linux i686; rv:31.0)...</td>\n",
       "      <td>1</td>\n",
       "    </tr>\n",
       "    <tr>\n",
       "      <th>52</th>\n",
       "      <td>Mozilla/5.0 (X11; Ubuntu; Linux x86_64; rv:31....</td>\n",
       "      <td>4</td>\n",
       "    </tr>\n",
       "    <tr>\n",
       "      <th>53</th>\n",
       "      <td>Mozilla/5.0 (compatible; MSIE 10.0; Windows NT...</td>\n",
       "      <td>1</td>\n",
       "    </tr>\n",
       "    <tr>\n",
       "      <th>54</th>\n",
       "      <td>Mozilla/5.0 (compatible; MSIE 9.0; Windows NT ...</td>\n",
       "      <td>1</td>\n",
       "    </tr>\n",
       "    <tr>\n",
       "      <th>55</th>\n",
       "      <td>Mozilla/5.0 (compatible; MSIE 9.0; Windows NT ...</td>\n",
       "      <td>3</td>\n",
       "    </tr>\n",
       "  </tbody>\n",
       "</table>\n",
       "</div>"
      ],
      "text/plain": [
       "                                            userAgent  count\n",
       "0   \"Mozilla/5.0 (Macintosh; Intel Mac OS X 10_10)...      1\n",
       "1   \"Mozilla/5.0 (Macintosh; Intel Mac OS X 10_10)...      2\n",
       "2   \"Mozilla/5.0 (Macintosh; Intel Mac OS X 10_6_8...      1\n",
       "3   \"Mozilla/5.0 (Macintosh; Intel Mac OS X 10_7_5...      1\n",
       "4   \"Mozilla/5.0 (Macintosh; Intel Mac OS X 10_7_5...      2\n",
       "5   \"Mozilla/5.0 (Macintosh; Intel Mac OS X 10_8_5...      1\n",
       "6   \"Mozilla/5.0 (Macintosh; Intel Mac OS X 10_8_5...      1\n",
       "7   \"Mozilla/5.0 (Macintosh; Intel Mac OS X 10_9_2...      2\n",
       "8   \"Mozilla/5.0 (Macintosh; Intel Mac OS X 10_9_2...      1\n",
       "9   \"Mozilla/5.0 (Macintosh; Intel Mac OS X 10_9_2...      1\n",
       "10  \"Mozilla/5.0 (Macintosh; Intel Mac OS X 10_9_3...      1\n",
       "11  \"Mozilla/5.0 (Macintosh; Intel Mac OS X 10_9_4...      2\n",
       "12  \"Mozilla/5.0 (Macintosh; Intel Mac OS X 10_9_4...     16\n",
       "13  \"Mozilla/5.0 (Macintosh; Intel Mac OS X 10_9_4...     12\n",
       "14  \"Mozilla/5.0 (Macintosh; Intel Mac OS X 10_9_4...      7\n",
       "15  \"Mozilla/5.0 (Macintosh; Intel Mac OS X 10_9_4...     12\n",
       "16  \"Mozilla/5.0 (Macintosh; Intel Mac OS X 10_9_4...     10\n",
       "17  \"Mozilla/5.0 (Windows NT 5.1) AppleWebKit/537....      1\n",
       "18  \"Mozilla/5.0 (Windows NT 5.1) AppleWebKit/537....      4\n",
       "19  \"Mozilla/5.0 (Windows NT 6.1) AppleWebKit/537....      1\n",
       "20  \"Mozilla/5.0 (Windows NT 6.1) AppleWebKit/537....      4\n",
       "21  \"Mozilla/5.0 (Windows NT 6.1; WOW64) AppleWebK...      2\n",
       "22  \"Mozilla/5.0 (Windows NT 6.1; WOW64) AppleWebK...     10\n",
       "23  \"Mozilla/5.0 (Windows NT 6.1; WOW64) AppleWebK...     24\n",
       "24  \"Mozilla/5.0 (Windows NT 6.1; WOW64) AppleWebK...      3\n",
       "25  \"Mozilla/5.0 (Windows NT 6.1; WOW64) AppleWebK...      4\n",
       "26  \"Mozilla/5.0 (Windows NT 6.2; WOW64) AppleWebK...      1\n",
       "27  \"Mozilla/5.0 (Windows NT 6.2; WOW64) AppleWebK...      2\n",
       "28  \"Mozilla/5.0 (Windows NT 6.3; WOW64) AppleWebK...      5\n",
       "29  \"Mozilla/5.0 (Windows NT 6.3; WOW64) AppleWebK...      7\n",
       "30  \"Mozilla/5.0 (X11; Linux x86_64) AppleWebKit/5...      2\n",
       "31  \"Mozilla/5.0 (X11; Linux x86_64) AppleWebKit/5...      4\n",
       "32  \"Mozilla/5.0 (iPad; CPU OS 7_1_1 like Mac OS X...      1\n",
       "33  \"Mozilla/5.0 (iPad; CPU OS 7_1_2 like Mac OS X...      2\n",
       "34  \"Mozilla/5.0 (iPhone; CPU iPhone OS 7_1 like M...      4\n",
       "35  \"Mozilla/5.0 (iPhone; CPU iPhone OS 7_1_1 like...      1\n",
       "36  \"Mozilla/5.0 (iPhone; CPU iPhone OS 7_1_2 like...      8\n",
       "37  Mozilla/5.0 (Macintosh; Intel Mac OS X 10.6; r...      1\n",
       "38  Mozilla/5.0 (Macintosh; Intel Mac OS X 10.7; r...      2\n",
       "39  Mozilla/5.0 (Macintosh; Intel Mac OS X 10.8; r...      1\n",
       "40  Mozilla/5.0 (Macintosh; Intel Mac OS X 10.9; r...      9\n",
       "41  Mozilla/5.0 (Windows NT 6.0; rv:31.0) Gecko/20...      1\n",
       "42  Mozilla/5.0 (Windows NT 6.1; WOW64; Trident/7....      7\n",
       "43  Mozilla/5.0 (Windows NT 6.1; WOW64; rv:24.0) G...      1\n",
       "44  Mozilla/5.0 (Windows NT 6.1; WOW64; rv:30.0) G...      1\n",
       "45  Mozilla/5.0 (Windows NT 6.1; WOW64; rv:31.0) G...     18\n",
       "46  Mozilla/5.0 (Windows NT 6.1; WOW64; rv:32.0) G...      2\n",
       "47  Mozilla/5.0 (Windows NT 6.1; rv:31.0) Gecko/20...      3\n",
       "48  Mozilla/5.0 (Windows NT 6.2; WOW64; rv:31.0) G...      1\n",
       "49  Mozilla/5.0 (Windows NT 6.3; WOW64; rv:31.0) G...      4\n",
       "50  Mozilla/5.0 (X11; Linux x86_64; rv:31.0) Gecko...      1\n",
       "51  Mozilla/5.0 (X11; Ubuntu; Linux i686; rv:31.0)...      1\n",
       "52  Mozilla/5.0 (X11; Ubuntu; Linux x86_64; rv:31....      4\n",
       "53  Mozilla/5.0 (compatible; MSIE 10.0; Windows NT...      1\n",
       "54  Mozilla/5.0 (compatible; MSIE 9.0; Windows NT ...      1\n",
       "55  Mozilla/5.0 (compatible; MSIE 9.0; Windows NT ...      3"
      ]
     },
     "execution_count": 41,
     "metadata": {},
     "output_type": "execute_result"
    }
   ],
   "source": [
    "userAgent_count"
   ]
  },
  {
   "cell_type": "code",
   "execution_count": 42,
   "metadata": {},
   "outputs": [],
   "source": [
    "platform_dict = {'Macintosh': 'Mac',\n",
    "                 'Windows NT 5.1': 'Windows',\n",
    "                 'Windows NT 6.0': 'Windows', \n",
    "                 'Windows NT 6.1': 'Windows',  \n",
    "                 'Windows NT 6.2': 'Windows',\n",
    "                 'Windows NT 6.3': 'Windows',\n",
    "                 'X11': 'Linux',\n",
    "                 'iPad': 'iPad',  \n",
    "                 'iPhone': 'iPhone',  \n",
    "                 'compatible': 'Windows'}"
   ]
  },
  {
   "cell_type": "code",
   "execution_count": 43,
   "metadata": {},
   "outputs": [],
   "source": [
    "userAgent_count['platform'] = userAgent_count['userAgent'].str.extract(r'\\(([^\\)]*)\\)')[0].str.split(';').str[0].map(platform_dict)\n"
   ]
  },
  {
   "cell_type": "code",
   "execution_count": 44,
   "metadata": {
    "scrolled": true
   },
   "outputs": [
    {
     "data": {
      "image/png": "[encoded data removed]",
      "text/plain": [
       "<Figure size 432x288 with 1 Axes>"
      ]
     },
     "metadata": {
      "needs_background": "light"
     },
     "output_type": "display_data"
    }
   ],
   "source": [
    "userAgent_count.groupby('platform')['count'].sum().sort_values().plot.barh()\n",
    "plt.title('Platform Counts')\n",
    "plt.xlabel('count')\n",
    "plt.ylabel('Platform');"
   ]
  },
  {
   "cell_type": "code",
   "execution_count": 45,
   "metadata": {},
   "outputs": [
    {
     "name": "stdout",
     "output_type": "stream",
     "text": [
      "+--------------------+--------+\n",
      "|           userAgent|platform|\n",
      "+--------------------+--------+\n",
      "|Mozilla/5.0 (Wind...| Windows|\n",
      "|\"Mozilla/5.0 (Win...| Windows|\n",
      "|Mozilla/5.0 (Wind...| Windows|\n",
      "|\"Mozilla/5.0 (Win...| Windows|\n",
      "|Mozilla/5.0 (Wind...| Windows|\n",
      "|\"Mozilla/5.0 (Win...| Windows|\n",
      "|\"Mozilla/5.0 (Win...| Windows|\n",
      "|Mozilla/5.0 (Wind...| Windows|\n",
      "|Mozilla/5.0 (Wind...| Windows|\n",
      "|Mozilla/5.0 (Wind...| Windows|\n",
      "|\"Mozilla/5.0 (Win...| Windows|\n",
      "|\"Mozilla/5.0 (Win...| Windows|\n",
      "|Mozilla/5.0 (Wind...| Windows|\n",
      "|\"Mozilla/5.0 (Win...| Windows|\n",
      "|\"Mozilla/5.0 (Win...| Windows|\n",
      "|Mozilla/5.0 (Wind...| Windows|\n",
      "|\"Mozilla/5.0 (Win...| Windows|\n",
      "|\"Mozilla/5.0 (Mac...|     Mac|\n",
      "|Mozilla/5.0 (Wind...| Windows|\n",
      "|\"Mozilla/5.0 (Win...| Windows|\n",
      "|\"Mozilla/5.0 (Mac...|     Mac|\n",
      "|Mozilla/5.0 (Wind...| Windows|\n",
      "|Mozilla/5.0 (Wind...| Windows|\n",
      "|\"Mozilla/5.0 (Win...| Windows|\n",
      "|\"Mozilla/5.0 (Mac...|     Mac|\n",
      "|Mozilla/5.0 (Wind...| Windows|\n",
      "|Mozilla/5.0 (Wind...| Windows|\n",
      "|\"Mozilla/5.0 (Win...| Windows|\n",
      "|\"Mozilla/5.0 (Mac...|     Mac|\n",
      "|Mozilla/5.0 (Wind...| Windows|\n",
      "|Mozilla/5.0 (Wind...| Windows|\n",
      "|\"Mozilla/5.0 (Win...| Windows|\n",
      "|Mozilla/5.0 (Wind...| Windows|\n",
      "|\"Mozilla/5.0 (Mac...|     Mac|\n",
      "|Mozilla/5.0 (Wind...| Windows|\n",
      "|Mozilla/5.0 (Wind...| Windows|\n",
      "|Mozilla/5.0 (Wind...| Windows|\n",
      "|\"Mozilla/5.0 (Win...| Windows|\n",
      "|Mozilla/5.0 (Wind...| Windows|\n",
      "|Mozilla/5.0 (Wind...| Windows|\n",
      "|\"Mozilla/5.0 (Mac...|     Mac|\n",
      "|\"Mozilla/5.0 (Win...| Windows|\n",
      "|\"Mozilla/5.0 (Mac...|     Mac|\n",
      "|Mozilla/5.0 (Wind...| Windows|\n",
      "|Mozilla/5.0 (Wind...| Windows|\n",
      "|Mozilla/5.0 (Wind...| Windows|\n",
      "|\"Mozilla/5.0 (Win...| Windows|\n",
      "|\"Mozilla/5.0 (Win...| Windows|\n",
      "|\"Mozilla/5.0 (Mac...|     Mac|\n",
      "|Mozilla/5.0 (Wind...| Windows|\n",
      "|\"Mozilla/5.0 (Win...| Windows|\n",
      "|\"Mozilla/5.0 (Win...| Windows|\n",
      "|\"Mozilla/5.0 (Win...| Windows|\n",
      "|\"Mozilla/5.0 (Win...| Windows|\n",
      "|\"Mozilla/5.0 (Mac...|     Mac|\n",
      "|Mozilla/5.0 (Wind...| Windows|\n",
      "|\"Mozilla/5.0 (Mac...|     Mac|\n",
      "|\"Mozilla/5.0 (Win...| Windows|\n",
      "|\"Mozilla/5.0 (Win...| Windows|\n",
      "|Mozilla/5.0 (Wind...| Windows|\n",
      "|\"Mozilla/5.0 (Mac...|     Mac|\n",
      "|\"Mozilla/5.0 (Win...| Windows|\n",
      "|\"Mozilla/5.0 (Mac...|     Mac|\n",
      "|\"Mozilla/5.0 (Win...| Windows|\n",
      "|Mozilla/5.0 (Wind...| Windows|\n",
      "|\"Mozilla/5.0 (Mac...|     Mac|\n",
      "|Mozilla/5.0 (Wind...| Windows|\n",
      "|Mozilla/5.0 (Wind...| Windows|\n",
      "|\"Mozilla/5.0 (Mac...|     Mac|\n",
      "|\"Mozilla/5.0 (Win...| Windows|\n",
      "|Mozilla/5.0 (Wind...| Windows|\n",
      "|Mozilla/5.0 (Wind...| Windows|\n",
      "|Mozilla/5.0 (Wind...| Windows|\n",
      "|Mozilla/5.0 (Wind...| Windows|\n",
      "|\"Mozilla/5.0 (Mac...|     Mac|\n",
      "|\"Mozilla/5.0 (Mac...|     Mac|\n",
      "|\"Mozilla/5.0 (Mac...|     Mac|\n",
      "|Mozilla/5.0 (Wind...| Windows|\n",
      "|Mozilla/5.0 (Wind...| Windows|\n",
      "|\"Mozilla/5.0 (Win...| Windows|\n",
      "|Mozilla/5.0 (Wind...| Windows|\n",
      "|\"Mozilla/5.0 (Mac...|     Mac|\n",
      "|\"Mozilla/5.0 (Mac...|     Mac|\n",
      "|Mozilla/5.0 (Wind...| Windows|\n",
      "|\"Mozilla/5.0 (Win...| Windows|\n",
      "|\"Mozilla/5.0 (Win...| Windows|\n",
      "|Mozilla/5.0 (Wind...| Windows|\n",
      "|Mozilla/5.0 (Wind...| Windows|\n",
      "|\"Mozilla/5.0 (Mac...|     Mac|\n",
      "|\"Mozilla/5.0 (Win...| Windows|\n",
      "|Mozilla/5.0 (Wind...| Windows|\n",
      "|Mozilla/5.0 (Wind...| Windows|\n",
      "|\"Mozilla/5.0 (Mac...|     Mac|\n",
      "|\"Mozilla/5.0 (Win...| Windows|\n",
      "|Mozilla/5.0 (Wind...| Windows|\n",
      "|Mozilla/5.0 (Wind...| Windows|\n",
      "|Mozilla/5.0 (Wind...| Windows|\n",
      "|\"Mozilla/5.0 (Win...| Windows|\n",
      "|\"Mozilla/5.0 (Mac...|     Mac|\n",
      "|\"Mozilla/5.0 (Mac...|     Mac|\n",
      "+--------------------+--------+\n",
      "only showing top 100 rows\n",
      "\n"
     ]
    }
   ],
   "source": [
    "platform_dict = {'Macintosh': 'Mac',\n",
    "                 'Windows NT 5.1': 'Windows',\n",
    "                 'Windows NT 6.0': 'Windows', \n",
    "                 'Windows NT 6.1': 'Windows',  \n",
    "                 'Windows NT 6.2': 'Windows',\n",
    "                 'Windows NT 6.3': 'Windows',\n",
    "                 'X11': 'Linux',\n",
    "                 'iPad': 'iPad',  \n",
    "                 'iPhone': 'iPhone',  \n",
    "                 'compatible': 'Windows'}\n",
    "\n",
    "platform =  udf(lambda x: platform_dict[re.findall(r'\\(([^\\)]*)\\)',x)[0].split(';')[0]])\n",
    "df = df.withColumn(\"platform\", platform(\"userAgent\")) \n",
    "df.createOrReplaceTempView(\"user_table\")  \n",
    "                \n",
    "userAgent_count = spark.sql('''\n",
    "                            SELECT userAgent, platform\n",
    "                            FROM user_table\n",
    "                            '''\n",
    "                            ).show(100)"
   ]
  },
  {
   "cell_type": "markdown",
   "metadata": {},
   "source": [
    "<b>userId</b> is between 2 and 5 digits. This is integral to the dataset to isolate instances and events.\n",
    "> This variable is useful"
   ]
  },
  {
   "cell_type": "code",
   "execution_count": 46,
   "metadata": {},
   "outputs": [
    {
     "name": "stdout",
     "output_type": "stream",
     "text": [
      "+------+\n",
      "|userId|\n",
      "+------+\n",
      "|    10|\n",
      "|   100|\n",
      "|100001|\n",
      "|100002|\n",
      "|100003|\n",
      "+------+\n",
      "\n"
     ]
    }
   ],
   "source": [
    "spark.sql('''\n",
    "          SELECT DISTINCT userId\n",
    "          FROM user_table\n",
    "          ORDER BY 1 ASC\n",
    "          LIMIT 5\n",
    "          '''\n",
    "          ).show()"
   ]
  },
  {
   "cell_type": "markdown",
   "metadata": {},
   "source": [
    "<b>gender</b> can only take one of two values: M, F. There are 104 females and 121 males.\n",
    "> This variable is useful"
   ]
  },
  {
   "cell_type": "code",
   "execution_count": 47,
   "metadata": {},
   "outputs": [
    {
     "name": "stdout",
     "output_type": "stream",
     "text": [
      "+------+----------------------+\n",
      "|gender|count(DISTINCT userId)|\n",
      "+------+----------------------+\n",
      "|     F|                   104|\n",
      "|     M|                   121|\n",
      "+------+----------------------+\n",
      "\n"
     ]
    }
   ],
   "source": [
    "spark.sql('''\n",
    "          SELECT gender, COUNT(DISTINCT userId)\n",
    "          FROM user_table\n",
    "          GROUP BY 1\n",
    "          ORDER BY 2 ASC\n",
    "          '''\n",
    "          ).show()"
   ]
  },
  {
   "cell_type": "markdown",
   "metadata": {},
   "source": [
    "Using the results of our exploratory analysis I will condense the dataset to only the useful variables. The variables being:\n",
    "- userId\n",
    "- gender\n",
    "- registrationTimestamp\n",
    "- level\n",
    "- city\n",
    "- state\n",
    "- itemInSession\n",
    "- page\n",
    "- timestamp\n",
    "- platfrom"
   ]
  },
  {
   "cell_type": "code",
   "execution_count": 48,
   "metadata": {},
   "outputs": [],
   "source": [
    "df = spark.sql('''SELECT userId, \n",
    "                    gender,\n",
    "                    registrationTimestamp,\n",
    "                    level, \n",
    "                    city, \n",
    "                    state, \n",
    "                    itemInSession,\n",
    "                    page, \n",
    "                    timestamp, \n",
    "                    platform,\n",
    "                    artist,\n",
    "                    song,\n",
    "                    length\n",
    "                  FROM user_table\n",
    "                  ORDER BY userId, timestamp\n",
    "                  '''\n",
    "                  )\n",
    "\n",
    "df.createOrReplaceTempView(\"user_table\")"
   ]
  },
  {
   "cell_type": "markdown",
   "metadata": {},
   "source": [
    "### Defining Churn\n",
    "\n",
    "Now that we've done some preliminary analysis, let's create a column `Churn` to use as the label for our model. I suggest using the `Cancellation Confirmation` events to define your churn, which happen for both paid and free users. As a bonus task, we can also look into the `Downgrade` events.\n",
    "\n",
    "[Customer Churn](https://www.investopedia.com/terms/c/churnrate.asp) is a metric which measures the rate at which customers stop doing business with an entity. In our case when customers move from Sparkify's paid service level to free.\n",
    "\n",
    "We can encode two variables to try and understand churn. One variable can encode when the page `Cancellation Confrimation` is visited. As well, we can also encode a variable for when the `Downgrade` page is visited. Looking back at our distinct values for the column \"page\" we can assume the process of customer churn goes from `Downgrade`-> `Submit Downgrade`-> `Cancel`->`Cancellation Confirmation`. If we can identify customers who visit the downgrade and don't proceed to submit the downgrade immeadiately we can decrease our churn rate and retain customers. We can also help identify what might cause customers to `Cancel`.\n",
    "\n",
    "Let's create a `possibleChurn` column that marks a `Downgrade` page visit.\n"
   ]
  },
  {
   "cell_type": "code",
   "execution_count": 49,
   "metadata": {},
   "outputs": [
    {
     "name": "stdout",
     "output_type": "stream",
     "text": [
      "+------+------+---------------------+-----+------+-----+-------------+---------+-------------------+--------+------+----+------+\n",
      "|userId|gender|registrationTimestamp|level|  city|state|itemInSession|     page|          timestamp|platform|artist|song|length|\n",
      "+------+------+---------------------+-----+------+-----+-------------+---------+-------------------+--------+------+----+------+\n",
      "|    10|     M|  2018-09-28 14:31:35| paid|Laurel|   MS|           17|Downgrade|2018-10-18 00:42:33|     Mac|  null|null|  null|\n",
      "+------+------+---------------------+-----+------+-----+-------------+---------+-------------------+--------+------+----+------+\n",
      "only showing top 1 row\n",
      "\n"
     ]
    }
   ],
   "source": [
    "df.filter(\"page = 'Downgrade'\").show(1)"
   ]
  },
  {
   "cell_type": "code",
   "execution_count": 50,
   "metadata": {},
   "outputs": [
    {
     "name": "stdout",
     "output_type": "stream",
     "text": [
      "+------+------+---------------------+-----+------+-----+-------------+---------+-------------------+--------+------+----+------+-------------+\n",
      "|userId|gender|registrationTimestamp|level|  city|state|itemInSession|     page|          timestamp|platform|artist|song|length|possibleChurn|\n",
      "+------+------+---------------------+-----+------+-----+-------------+---------+-------------------+--------+------+----+------+-------------+\n",
      "|    10|     M|  2018-09-28 14:31:35| paid|Laurel|   MS|           17|Downgrade|2018-10-18 00:42:33|     Mac|  null|null|  null|            1|\n",
      "+------+------+---------------------+-----+------+-----+-------------+---------+-------------------+--------+------+----+------+-------------+\n",
      "only showing top 1 row\n",
      "\n"
     ]
    }
   ],
   "source": [
    "poss_churn = udf(lambda x: 1 if x == \"Downgrade\" else 0, IntegerType())\n",
    "df = df.withColumn(\"possibleChurn\", poss_churn(\"page\"))\n",
    "df.filter(\"page = 'Downgrade'\").show(1)"
   ]
  },
  {
   "cell_type": "markdown",
   "metadata": {},
   "source": [
    "We successfully encoded a variable for possible customer churn and created a new column `possibleChurn` when the `Downgrade` page is visited. Let's do this again for when the `Cancellation Confirmation` page is vistited."
   ]
  },
  {
   "cell_type": "code",
   "execution_count": 51,
   "metadata": {},
   "outputs": [
    {
     "name": "stdout",
     "output_type": "stream",
     "text": [
      "+------+------+---------------------+-----+-----+-----+-------------+--------------------+-------------------+--------+------+----+------+-------------+\n",
      "|userId|gender|registrationTimestamp|level| city|state|itemInSession|                page|          timestamp|platform|artist|song|length|possibleChurn|\n",
      "+------+------+---------------------+-----+-----+-----+-------------+--------------------+-------------------+--------+------+----+------+-------------+\n",
      "|100001|     F|  2018-08-18 17:24:26| free|Miami|   FL|           23|Cancellation Conf...|2018-10-02 12:36:45|     Mac|  null|null|  null|            0|\n",
      "+------+------+---------------------+-----+-----+-----+-------------+--------------------+-------------------+--------+------+----+------+-------------+\n",
      "only showing top 1 row\n",
      "\n"
     ]
    }
   ],
   "source": [
    "df.filter(\"page = 'Cancellation Confirmation'\").show(1)"
   ]
  },
  {
   "cell_type": "code",
   "execution_count": 52,
   "metadata": {},
   "outputs": [
    {
     "name": "stdout",
     "output_type": "stream",
     "text": [
      "+------+------+---------------------+-----+-----+-----+-------------+--------------------+-------------------+--------+------+----+------+-------------+-----+\n",
      "|userId|gender|registrationTimestamp|level| city|state|itemInSession|                page|          timestamp|platform|artist|song|length|possibleChurn|churn|\n",
      "+------+------+---------------------+-----+-----+-----+-------------+--------------------+-------------------+--------+------+----+------+-------------+-----+\n",
      "|100001|     F|  2018-08-18 17:24:26| free|Miami|   FL|           23|Cancellation Conf...|2018-10-02 12:36:45|     Mac|  null|null|  null|            0|    1|\n",
      "+------+------+---------------------+-----+-----+-----+-------------+--------------------+-------------------+--------+------+----+------+-------------+-----+\n",
      "only showing top 1 row\n",
      "\n"
     ]
    }
   ],
   "source": [
    "churn = udf(lambda x: 1 if x == \"Cancellation Confirmation\" else 0, IntegerType())\n",
    "df = df.withColumn(\"churn\", churn(\"page\"))\n",
    "df.filter(\"page = 'Cancellation Confirmation'\").show(1)"
   ]
  },
  {
   "cell_type": "markdown",
   "metadata": {},
   "source": [
    "Alright we successfully encoded a variable for customer churn and created a new column `churn` when the `Cancellation Confirmation` is visited. Let's explore out data and try and gain insights from our data and use our new variables `possibleChurn` and `churn`."
   ]
  },
  {
   "cell_type": "markdown",
   "metadata": {},
   "source": [
    "### Explore Data\n",
    "Once you've defined churn, perform some exploratory data analysis to observe the behavior for users who stayed vs users who churned. You can start by exploring aggregates on these two groups of users, observing how much of a specific action they experienced per a certain time unit or number of songs played."
   ]
  },
  {
   "cell_type": "code",
   "execution_count": 53,
   "metadata": {},
   "outputs": [],
   "source": [
    "df.createOrReplaceTempView(\"user_table\")"
   ]
  },
  {
   "cell_type": "code",
   "execution_count": 54,
   "metadata": {},
   "outputs": [
    {
     "name": "stdout",
     "output_type": "stream",
     "text": [
      "+------+------+---------------------+-----+------+-----+-------------+--------+-------------------+--------+--------------------+--------------------+---------+-------------+-----+\n",
      "|userId|gender|registrationTimestamp|level|  city|state|itemInSession|    page|          timestamp|platform|              artist|                song|   length|possibleChurn|churn|\n",
      "+------+------+---------------------+-----+------+-----+-------------+--------+-------------------+--------+--------------------+--------------------+---------+-------------+-----+\n",
      "|    10|     M|  2018-09-28 14:31:35| paid|Laurel|   MS|            0|NextSong|2018-10-07 22:20:20|     Mac|            Sea Wolf|       Ses Monuments|265.53424|            0|    0|\n",
      "|    10|     M|  2018-09-28 14:31:35| paid|Laurel|   MS|            1|NextSong|2018-10-07 22:24:45|     Mac|George Baker Sele...|         Morning Sky| 200.4371|            0|    0|\n",
      "|    10|     M|  2018-09-28 14:31:35| paid|Laurel|   MS|            2|NextSong|2018-10-07 22:28:05|     Mac|          Klaus Lage|Du Hast'n Freund ...|208.03873|            0|    0|\n",
      "|    10|     M|  2018-09-28 14:31:35| paid|Laurel|   MS|            3|NextSong|2018-10-07 22:31:33|     Mac|         Dave Grusin|             Playera|526.44526|            0|    0|\n",
      "|    10|     M|  2018-09-28 14:31:35| paid|Laurel|   MS|            4|NextSong|2018-10-07 22:40:19|     Mac|    Blue Oyster Cult|     Burnin' For You|272.06485|            0|    0|\n",
      "+------+------+---------------------+-----+------+-----+-------------+--------+-------------------+--------+--------------------+--------------------+---------+-------------+-----+\n",
      "only showing top 5 rows\n",
      "\n"
     ]
    }
   ],
   "source": [
    "spark.sql('''SELECT *\n",
    "             FROM user_table\n",
    "             ORDER BY userId, timestamp\n",
    "             '''\n",
    "             ).show(5)"
   ]
  },
  {
   "cell_type": "markdown",
   "metadata": {},
   "source": [
    "We can now explore our variables with respect to churn and possible churn before trying to implement machine learning. We can see in the following query that page seems to be a good indicator of Sparkify usage. "
   ]
  },
  {
   "cell_type": "markdown",
   "metadata": {},
   "source": [
    "First let's look at the page interactions for users who cancelled took and compare it to active users."
   ]
  },
  {
   "cell_type": "code",
   "execution_count": 55,
   "metadata": {},
   "outputs": [],
   "source": [
    "temp = spark.sql('''\n",
    "                 SELECT DISTINCT userId\n",
    "                 FROM user_table\n",
    "                 WHERE churn = 0\n",
    "                 ORDER BY 1 ASC\n",
    "                 '''\n",
    "                 )\n",
    "\n",
    "temp.createOrReplaceTempView(\"temp\")\n",
    "\n",
    "users_churn = spark.sql('''\n",
    "                        SELECT DISTINCT userId\n",
    "                        FROM user_table\n",
    "                        WHERE churn = 1\n",
    "                        ORDER BY 1 ASC\n",
    "                        '''\n",
    "                        )\n",
    "\n",
    "users_churn.createOrReplaceTempView(\"users_churn\")\n",
    "\n",
    "users_active = spark.sql('''\n",
    "                         SELECT t.userId\n",
    "                         FROM temp AS t\n",
    "                         LEFT JOIN users_churn AS u\n",
    "                         ON t.userId = u.userId\n",
    "                         WHERE u.userId IS NULL\n",
    "                         ORDER BY 1 ASC\n",
    "                         ''')\n",
    "\n",
    "users_active.createOrReplaceTempView(\"users_active\")"
   ]
  },
  {
   "cell_type": "code",
   "execution_count": 56,
   "metadata": {
    "scrolled": true
   },
   "outputs": [
    {
     "data": {
      "image/png": "[encoded data removed]",
      "text/plain": [
       "<Figure size 1080x1080 with 1 Axes>"
      ]
     },
     "metadata": {
      "needs_background": "light"
     },
     "output_type": "display_data"
    }
   ],
   "source": [
    "churn_page_inter = spark.sql('''\n",
    "                             SELECT page, COUNT(users_churn.userId) AS user_inter\n",
    "                             FROM user_table\n",
    "                             INNER JOIN users_churn\n",
    "                             ON user_table.userId = users_churn.userId\n",
    "                             GROUP BY 1\n",
    "                             ORDER BY 1 ASC\n",
    "                             '''\n",
    "                             ).toPandas()\n",
    "\n",
    "active_page_inter = spark.sql('''\n",
    "                              SELECT page, COUNT(users_active.userId) AS user_inter\n",
    "                              FROM user_table\n",
    "                              INNER JOIN users_active\n",
    "                              ON user_table.userId = users_active.userId\n",
    "                              GROUP BY 1\n",
    "                              ORDER BY 1 ASC\n",
    "                              ''').toPandas()\n",
    "\n",
    "churn_page_inter['user_inter_prop'] = ((churn_page_inter['user_inter'] / churn_page_inter.user_inter.sum())*100)\n",
    "active_page_inter['user_inter_prop'] = ((active_page_inter['user_inter'] / active_page_inter.user_inter.sum())*100)\n",
    "\n",
    "page_inter = churn_page_inter.merge(active_page_inter,how='left', left_on='page', right_on='page')\n",
    "page_inter.fillna(0);\n",
    "\n",
    "# plotting results\n",
    "index = np.arange(19)\n",
    "bar_width = 0.35\n",
    "\n",
    "fig, ax = plt.subplots(figsize=(15,15))\n",
    "active_users_inter = ax.bar(index, page_inter['user_inter_prop_y'], bar_width, label=\"active\")\n",
    "churn_users_inter = ax.bar(index+bar_width, page_inter['user_inter_prop_x'], bar_width, label=\"churn\")\n",
    "\n",
    "ax.set_xlabel('Page', fontsize = 15)\n",
    "ax.set_ylabel('Proportion', fontsize = 15)\n",
    "ax.set_title('Page Interaction Proportions', size = 15)\n",
    "ax.set_xticks(index + bar_width / 2)\n",
    "ax.set_xticklabels(page_inter.page, fontsize = 10, rotation=90)\n",
    "ax.legend(fontsize = 10)\n",
    "plt.show()"
   ]
  },
  {
   "cell_type": "markdown",
   "metadata": {},
   "source": [
    "Customers who cancelled had a slightly higher proportion of seeing advertisements, visiting the settings, and giving songs the thumbs down."
   ]
  },
  {
   "cell_type": "markdown",
   "metadata": {},
   "source": [
    "We should explore how churn affects registration length and registration."
   ]
  },
  {
   "cell_type": "code",
   "execution_count": 57,
   "metadata": {},
   "outputs": [
    {
     "name": "stdout",
     "output_type": "stream",
     "text": [
      "+-----+-----------------------+\n",
      "|churn|avg_registration_length|\n",
      "+-----+-----------------------+\n",
      "|    0|     1915.5011518518518|\n",
      "|    1|      1375.036137820513|\n",
      "+-----+-----------------------+\n",
      "\n"
     ]
    }
   ],
   "source": [
    "df_reg_time = df.groupBy('userId','churn','registrationTimestamp').agg(fmax('timestamp').alias('maxTimestamp'))\n",
    "timedelta = udf(lambda x, y: (datetime.datetime.strptime(x, '%Y-%m-%d %H:%M:%S') - \n",
    "                               datetime.datetime.strptime(y, '%Y-%m-%d %H:%M:%S')).total_seconds()/3600)\n",
    "df_reg_time = df_reg_time.withColumn('registrationLength', timedelta('maxTimestamp','registrationTimestamp'))\n",
    "df_reg_time.createOrReplaceTempView('reg_time')\n",
    "\n",
    "df_reg_time = spark.sql('''SELECT churn, AVG(registrationLength) AS avg_registration_length\n",
    "                           FROM reg_time\n",
    "                           GROUP BY 1\n",
    "                           ORDER BY 1\n",
    "                           '''\n",
    "                           ).show()"
   ]
  },
  {
   "cell_type": "code",
   "execution_count": 58,
   "metadata": {},
   "outputs": [
    {
     "name": "stdout",
     "output_type": "stream",
     "text": [
      "+-----+-----+-----------------------+\n",
      "|churn|level|avg_registration_length|\n",
      "+-----+-----+-----------------------+\n",
      "|    0| free|     1539.1363846153852|\n",
      "|    0| paid|     1966.0698434343437|\n",
      "|    1| free|     1271.1892592592594|\n",
      "|    1| paid|      1445.384023297491|\n",
      "+-----+-----+-----------------------+\n",
      "\n"
     ]
    }
   ],
   "source": [
    "df_reg_time = df.groupBy('userId','churn','level','registrationTimestamp').agg(fmax('timestamp').alias('maxTimestamp'))\n",
    "timedelta = udf(lambda x, y: (datetime.datetime.strptime(x, '%Y-%m-%d %H:%M:%S') - \n",
    "                               datetime.datetime.strptime(y, '%Y-%m-%d %H:%M:%S')).total_seconds()/3600)\n",
    "df_reg_time = df_reg_time.withColumn('registrationLength', timedelta('maxTimestamp','registrationTimestamp'))\n",
    "df_reg_time.createOrReplaceTempView('reg_time')\n",
    "\n",
    "df_reg_time = spark.sql('''SELECT churn, level, AVG(registrationLength) AS avg_registration_length\n",
    "                           FROM reg_time\n",
    "                           GROUP BY 1, 2\n",
    "                           ORDER BY 1, 2\n",
    "                           '''\n",
    "                           ).show()"
   ]
  },
  {
   "cell_type": "markdown",
   "metadata": {},
   "source": [
    "Lets see how location affects churn."
   ]
  },
  {
   "cell_type": "code",
   "execution_count": 59,
   "metadata": {
    "scrolled": false
   },
   "outputs": [
    {
     "data": {
      "image/png": "[encoded data removed]",
      "text/plain": [
       "<Figure size 1080x1080 with 1 Axes>"
      ]
     },
     "metadata": {
      "needs_background": "light"
     },
     "output_type": "display_data"
    }
   ],
   "source": [
    "df_city = df.groupby('city','churn').count().sort(\"city\")\n",
    "df_city_0 = df_city[df_city['churn']==0].toPandas()\n",
    "df_city_1 = df_city[df_city['churn']==1].toPandas()\n",
    "\n",
    "df_city.createOrReplaceTempView('temp')\n",
    "\n",
    "temp_1 = spark.sql('''SELECT COUNT(DISTINCT userId)\n",
    "                      FROM user_table\n",
    "                      WHERE churn = 0\n",
    "                      '''\n",
    "                      ).toPandas()\n",
    "\n",
    "temp_2 = spark.sql('''SELECT COUNT(DISTINCT userId)\n",
    "                      FROM user_table\n",
    "                      WHERE churn = 1\n",
    "                      '''\n",
    "                      ).toPandas()\n",
    "\n",
    "df_city = df_city_0.merge(df_city_1,how='left', left_on='city', right_on='city')\n",
    "df_city['churn_y'] = 1\n",
    "df_city['count_y'] = df_city['count_y'].fillna(0)\n",
    "df_city['count_y'] = df_city['count_y'].astype('int')\n",
    "df_city['active'] = df_city.count_x / (df_city.count_x + df_city.count_y)\n",
    "df_city['churn'] = df_city.count_y / (df_city.count_x + df_city.count_y)\n",
    "\n",
    "plt.figure(figsize=(15,15))\n",
    "plt.bar(df_city['city'], df_city['churn'], width = 0.8)\n",
    "plt.xticks(rotation=90)\n",
    "plt.xlabel('City')\n",
    "plt.ylabel('Proportion of Churn')\n",
    "plt.title('Proportion of Churn by City');"
   ]
  },
  {
   "cell_type": "code",
   "execution_count": 60,
   "metadata": {},
   "outputs": [
    {
     "data": {
      "image/png": "[encoded data removed]",
      "text/plain": [
       "<Figure size 1080x1080 with 1 Axes>"
      ]
     },
     "metadata": {
      "needs_background": "light"
     },
     "output_type": "display_data"
    }
   ],
   "source": [
    "df_state = df.groupby('state','churn').count().sort(\"state\")\n",
    "df_state_0 = df_state[df_state['churn']==0].toPandas()\n",
    "df_state_1 = df_state[df_state['churn']==1].toPandas()\n",
    "\n",
    "df_state.createOrReplaceTempView('temp')\n",
    "\n",
    "temp_1 = spark.sql('''SELECT COUNT(DISTINCT userId)\n",
    "                      FROM user_table\n",
    "                      WHERE churn = 0\n",
    "                      '''\n",
    "                      ).toPandas()\n",
    "\n",
    "temp_2 = spark.sql('''SELECT COUNT(DISTINCT userId)\n",
    "                      FROM user_table\n",
    "                      WHERE churn = 1\n",
    "                      '''\n",
    "                      ).toPandas()\n",
    "\n",
    "df_state = df_state_0.merge(df_state_1,how='left', left_on='state', right_on='state')\n",
    "df_state['churn_y'] = 1\n",
    "df_state['count_y'] = df_state['count_y'].fillna(0)\n",
    "df_state['count_y'] = df_state['count_y'].astype('int')\n",
    "df_state['active'] = df_state.count_x / (df_state.count_x + df_state.count_y)\n",
    "df_state['churn'] = df_state.count_y / (df_state.count_x + df_state.count_y)\n",
    "\n",
    "plt.figure(figsize=(15,15))\n",
    "plt.bar(df_state['state'], df_state['churn'], width = 0.8)\n",
    "plt.xticks(rotation=90)\n",
    "plt.xlabel('State')\n",
    "plt.ylabel('Proportion of Churn')\n",
    "plt.title('Proportion of Churn by State');"
   ]
  },
  {
   "cell_type": "code",
   "execution_count": 61,
   "metadata": {},
   "outputs": [],
   "source": [
    "temp = spark.sql('''\n",
    "                 SELECT DISTINCT userId\n",
    "                 FROM user_table\n",
    "                 WHERE churn = 0\n",
    "                 ORDER BY 1 ASC\n",
    "                 '''\n",
    "                 )\n",
    "\n",
    "temp.createOrReplaceTempView(\"temp\")\n",
    "\n",
    "users_churn = spark.sql('''\n",
    "                        SELECT DISTINCT userId\n",
    "                        FROM user_table\n",
    "                        WHERE churn = 1\n",
    "                        ORDER BY 1 ASC\n",
    "                        '''\n",
    "                        )\n",
    "\n",
    "users_churn.createOrReplaceTempView(\"users_churn\")\n",
    "\n",
    "users_active = spark.sql('''\n",
    "                         SELECT t.userId\n",
    "                         FROM temp AS t\n",
    "                         LEFT JOIN users_churn AS u\n",
    "                         ON t.userId = u.userId\n",
    "                         WHERE u.userId IS NULL\n",
    "                         ORDER BY 1 ASC\n",
    "                         ''')\n",
    "\n",
    "users_active.createOrReplaceTempView(\"users_active\")\n",
    "\n",
    "churn_page_inter = spark.sql('''\n",
    "                             SELECT page, COUNT(users_churn.userId) AS user_inter\n",
    "                             FROM user_table\n",
    "                             INNER JOIN users_churn\n",
    "                             ON user_table.userId = users_churn.userId\n",
    "                             GROUP BY 1\n",
    "                             ORDER BY 1 ASC\n",
    "                             '''\n",
    "                             ).toPandas()\n",
    "\n",
    "active_page_inter = spark.sql('''\n",
    "                              SELECT page, COUNT(users_active.userId) AS user_inter\n",
    "                              FROM user_table\n",
    "                              INNER JOIN users_active\n",
    "                              ON user_table.userId = users_active.userId\n",
    "                              GROUP BY 1\n",
    "                              ORDER BY 1 ASC\n",
    "                              ''').toPandas()"
   ]
  },
  {
   "cell_type": "code",
   "execution_count": 62,
   "metadata": {},
   "outputs": [
    {
     "data": {
      "text/html": [
       "<div>\n",
       "<style scoped>\n",
       "    .dataframe tbody tr th:only-of-type {\n",
       "        vertical-align: middle;\n",
       "    }\n",
       "\n",
       "    .dataframe tbody tr th {\n",
       "        vertical-align: top;\n",
       "    }\n",
       "\n",
       "    .dataframe thead th {\n",
       "        text-align: right;\n",
       "    }\n",
       "</style>\n",
       "<table border=\"1\" class=\"dataframe\">\n",
       "  <thead>\n",
       "    <tr style=\"text-align: right;\">\n",
       "      <th></th>\n",
       "      <th>page</th>\n",
       "      <th>user_inter_1</th>\n",
       "      <th>user_inter_0</th>\n",
       "    </tr>\n",
       "  </thead>\n",
       "  <tbody>\n",
       "    <tr>\n",
       "      <th>0</th>\n",
       "      <td>About</td>\n",
       "      <td>56</td>\n",
       "      <td>439</td>\n",
       "    </tr>\n",
       "    <tr>\n",
       "      <th>1</th>\n",
       "      <td>Add Friend</td>\n",
       "      <td>636</td>\n",
       "      <td>3641</td>\n",
       "    </tr>\n",
       "    <tr>\n",
       "      <th>2</th>\n",
       "      <td>Add to Playlist</td>\n",
       "      <td>1038</td>\n",
       "      <td>5488</td>\n",
       "    </tr>\n",
       "    <tr>\n",
       "      <th>3</th>\n",
       "      <td>Downgrade</td>\n",
       "      <td>337</td>\n",
       "      <td>1718</td>\n",
       "    </tr>\n",
       "    <tr>\n",
       "      <th>4</th>\n",
       "      <td>Error</td>\n",
       "      <td>32</td>\n",
       "      <td>220</td>\n",
       "    </tr>\n",
       "    <tr>\n",
       "      <th>5</th>\n",
       "      <td>Help</td>\n",
       "      <td>239</td>\n",
       "      <td>1215</td>\n",
       "    </tr>\n",
       "    <tr>\n",
       "      <th>6</th>\n",
       "      <td>Home</td>\n",
       "      <td>1672</td>\n",
       "      <td>8410</td>\n",
       "    </tr>\n",
       "    <tr>\n",
       "      <th>7</th>\n",
       "      <td>Logout</td>\n",
       "      <td>553</td>\n",
       "      <td>2673</td>\n",
       "    </tr>\n",
       "    <tr>\n",
       "      <th>8</th>\n",
       "      <td>NextSong</td>\n",
       "      <td>36394</td>\n",
       "      <td>191714</td>\n",
       "    </tr>\n",
       "    <tr>\n",
       "      <th>9</th>\n",
       "      <td>Roll Advert</td>\n",
       "      <td>967</td>\n",
       "      <td>2966</td>\n",
       "    </tr>\n",
       "    <tr>\n",
       "      <th>10</th>\n",
       "      <td>Save Settings</td>\n",
       "      <td>58</td>\n",
       "      <td>252</td>\n",
       "    </tr>\n",
       "    <tr>\n",
       "      <th>11</th>\n",
       "      <td>Settings</td>\n",
       "      <td>270</td>\n",
       "      <td>1244</td>\n",
       "    </tr>\n",
       "    <tr>\n",
       "      <th>12</th>\n",
       "      <td>Submit Downgrade</td>\n",
       "      <td>9</td>\n",
       "      <td>54</td>\n",
       "    </tr>\n",
       "    <tr>\n",
       "      <th>13</th>\n",
       "      <td>Submit Upgrade</td>\n",
       "      <td>32</td>\n",
       "      <td>127</td>\n",
       "    </tr>\n",
       "    <tr>\n",
       "      <th>14</th>\n",
       "      <td>Thumbs Down</td>\n",
       "      <td>496</td>\n",
       "      <td>2050</td>\n",
       "    </tr>\n",
       "    <tr>\n",
       "      <th>15</th>\n",
       "      <td>Thumbs Up</td>\n",
       "      <td>1859</td>\n",
       "      <td>10692</td>\n",
       "    </tr>\n",
       "    <tr>\n",
       "      <th>16</th>\n",
       "      <td>Upgrade</td>\n",
       "      <td>112</td>\n",
       "      <td>387</td>\n",
       "    </tr>\n",
       "  </tbody>\n",
       "</table>\n",
       "</div>"
      ],
      "text/plain": [
       "                page  user_inter_1  user_inter_0\n",
       "0              About            56           439\n",
       "1         Add Friend           636          3641\n",
       "2    Add to Playlist          1038          5488\n",
       "3          Downgrade           337          1718\n",
       "4              Error            32           220\n",
       "5               Help           239          1215\n",
       "6               Home          1672          8410\n",
       "7             Logout           553          2673\n",
       "8           NextSong         36394        191714\n",
       "9        Roll Advert           967          2966\n",
       "10     Save Settings            58           252\n",
       "11          Settings           270          1244\n",
       "12  Submit Downgrade             9            54\n",
       "13    Submit Upgrade            32           127\n",
       "14       Thumbs Down           496          2050\n",
       "15         Thumbs Up          1859         10692\n",
       "16           Upgrade           112           387"
      ]
     },
     "execution_count": 62,
     "metadata": {},
     "output_type": "execute_result"
    }
   ],
   "source": [
    "churn_page_inter.merge(active_page_inter, on='page', suffixes = ('_1','_0'))"
   ]
  },
  {
   "cell_type": "code",
   "execution_count": 63,
   "metadata": {},
   "outputs": [
    {
     "name": "stdout",
     "output_type": "stream",
     "text": [
      "+------+------+---------------------+-----+--------------+-----+-------------+--------------------+-------------------+--------+------+----+------+-------------+-----+\n",
      "|userId|gender|registrationTimestamp|level|          city|state|itemInSession|                page|          timestamp|platform|artist|song|length|possibleChurn|churn|\n",
      "+------+------+---------------------+-----+--------------+-----+-------------+--------------------+-------------------+--------+------+----+------+-------------+-----+\n",
      "|   125|     M|  2018-08-01 16:58:59| free|Corpus Christi|   TX|           10|Cancellation Conf...|2018-10-12 00:35:18|     Mac|  null|null|  null|            0|    1|\n",
      "+------+------+---------------------+-----+--------------+-----+-------------+--------------------+-------------------+--------+------+----+------+-------------+-----+\n",
      "only showing top 1 row\n",
      "\n"
     ]
    }
   ],
   "source": [
    "# good for visualizations but bad for machine learning\n",
    "churn = udf(lambda x: 1 if x == \"Cancellation Confirmation\" else 0, IntegerType())\n",
    "df_test = df.withColumn(\"churn\", churn(\"page\"))\n",
    "userwindow = Window.partitionBy('userId').rangeBetween(Window.unboundedPreceding,Window.unboundedFollowing)\n",
    "df_test = df_test.withColumn('churn', fmax('churn').over(userwindow))\n",
    "\n",
    "df_test.filter(\"page = 'Cancellation Confirmation'\").show(1)"
   ]
  },
  {
   "cell_type": "code",
   "execution_count": 64,
   "metadata": {},
   "outputs": [
    {
     "name": "stdout",
     "output_type": "stream",
     "text": [
      "+-----+--------------------+------+\n",
      "|churn|                page| count|\n",
      "+-----+--------------------+------+\n",
      "|    1|               About|    56|\n",
      "|    0|               About|   439|\n",
      "|    0|          Add Friend|  3641|\n",
      "|    1|          Add Friend|   636|\n",
      "|    0|     Add to Playlist|  5488|\n",
      "|    1|     Add to Playlist|  1038|\n",
      "|    1|              Cancel|    52|\n",
      "|    1|Cancellation Conf...|    52|\n",
      "|    0|           Downgrade|  1718|\n",
      "|    1|           Downgrade|   337|\n",
      "|    0|               Error|   220|\n",
      "|    1|               Error|    32|\n",
      "|    1|                Help|   239|\n",
      "|    0|                Help|  1215|\n",
      "|    0|                Home|  8410|\n",
      "|    1|                Home|  1672|\n",
      "|    0|              Logout|  2673|\n",
      "|    1|              Logout|   553|\n",
      "|    1|            NextSong| 36394|\n",
      "|    0|            NextSong|191714|\n",
      "+-----+--------------------+------+\n",
      "only showing top 20 rows\n",
      "\n"
     ]
    }
   ],
   "source": [
    "df_test.select([\"churn\", \"page\"]).groupby([\"churn\", \"page\"]).count().sort(\"page\").show()"
   ]
  },
  {
   "cell_type": "code",
   "execution_count": 65,
   "metadata": {},
   "outputs": [
    {
     "name": "stdout",
     "output_type": "stream",
     "text": [
      "+------+-----+----------+\n",
      "|userId|churn|numFriends|\n",
      "+------+-----+----------+\n",
      "|    10|    0|        12|\n",
      "|   100|    0|        49|\n",
      "|100001|    1|         2|\n",
      "|100002|    0|         1|\n",
      "|100004|    0|        19|\n",
      "|100005|    1|         3|\n",
      "|100006|    1|         4|\n",
      "|100007|    1|        17|\n",
      "|100008|    0|        17|\n",
      "|100009|    1|         7|\n",
      "|100010|    0|         4|\n",
      "|100012|    1|         2|\n",
      "|100013|    1|        28|\n",
      "|100014|    1|         6|\n",
      "|100015|    1|        14|\n",
      "|100016|    0|        13|\n",
      "|100018|    0|        23|\n",
      "|100019|    1|         2|\n",
      "|100021|    1|         7|\n",
      "|100022|    1|        11|\n",
      "+------+-----+----------+\n",
      "only showing top 20 rows\n",
      "\n"
     ]
    }
   ],
   "source": [
    "friends = df_test.filter(df.page=='Add Friend')\\\n",
    "        .select('userId', 'page', 'churn')\\\n",
    "        .groupBy('userId','churn').count()\\\n",
    "        .withColumnRenamed('count', 'numFriends')\\\n",
    "        .sort('userId').show()"
   ]
  },
  {
   "cell_type": "code",
   "execution_count": 66,
   "metadata": {},
   "outputs": [
    {
     "name": "stdout",
     "output_type": "stream",
     "text": [
      "+--------+-----+------+\n",
      "|platform|churn| count|\n",
      "+--------+-----+------+\n",
      "|   Linux|    1|     5|\n",
      "|   Linux|    0|  8956|\n",
      "|     Mac|    0|102730|\n",
      "|     Mac|    1|    19|\n",
      "| Windows|    0|143847|\n",
      "| Windows|    1|    24|\n",
      "|    iPad|    0| 11381|\n",
      "|  iPhone|    1|     4|\n",
      "|  iPhone|    0| 11188|\n",
      "+--------+-----+------+\n",
      "\n"
     ]
    }
   ],
   "source": [
    "browser_data = df.select([\"platform\",\"churn\"])\\\n",
    "                 .groupby([ \"platform\",\"churn\"])\\\n",
    "                 .count()\\\n",
    "                 .sort(\"churn\")\\\n",
    "                 .sort(\"platform\").show()"
   ]
  },
  {
   "cell_type": "code",
   "execution_count": 67,
   "metadata": {},
   "outputs": [
    {
     "name": "stdout",
     "output_type": "stream",
     "text": [
      "+--------+-----+------+\n",
      "|platform|churn| count|\n",
      "+--------+-----+------+\n",
      "|   Linux|    1|  1762|\n",
      "|   Linux|    0|  7199|\n",
      "|     Mac|    1| 17355|\n",
      "|     Mac|    0| 85394|\n",
      "| Windows|    0|119134|\n",
      "| Windows|    1| 24737|\n",
      "|    iPad|    0| 11381|\n",
      "|  iPhone|    0| 10182|\n",
      "|  iPhone|    1|  1010|\n",
      "+--------+-----+------+\n",
      "\n"
     ]
    }
   ],
   "source": [
    "browser_data = df_test.select([\"platform\",\"churn\"])\\\n",
    "                 .groupby([ \"platform\",\"churn\"])\\\n",
    "                 .count()\\\n",
    "                 .sort(\"churn\")\\\n",
    "                 .sort(\"platform\").show()"
   ]
  },
  {
   "cell_type": "code",
   "execution_count": 68,
   "metadata": {},
   "outputs": [
    {
     "name": "stdout",
     "output_type": "stream",
     "text": [
      "Average number of interactions for active users: 1037\n",
      "Average number of interactions for users who cancelled: 863\n"
     ]
    }
   ],
   "source": [
    "avg_int_active = df_test.where(df_test['churn']==0).count()/df_test.where(df['churn']==0).groupBy('userId').count().count()\n",
    "print('Average number of interactions for active users: {:.0f}'.format(avg_int_active))\n",
    "avg_int_churn = df_test.where(df_test['churn']==1).count()/df_test.where(df['churn']==1).groupBy('userId').count().count()\n",
    "print('Average number of interactions for users who cancelled: {:.0f}'.format(avg_int_churn))"
   ]
  },
  {
   "cell_type": "code",
   "execution_count": 69,
   "metadata": {},
   "outputs": [],
   "source": [
    "df.toPandas().to_csv('cleaned_data.csv')"
   ]
  },
  {
   "cell_type": "markdown",
   "metadata": {},
   "source": [
    "# Feature Engineering\n",
    "Now that we've familiarized ourself with the data, let's build out the features we find promising to train our model on. To work with the full dataset, we can follow the following steps.\n",
    "- Write a script to extract the necessary features from the smaller subset of data\n",
    "- Ensure that your script is scalable\n",
    "- Try our script on the full data set, debugging our script if necessary"
   ]
  },
  {
   "cell_type": "markdown",
   "metadata": {},
   "source": [
    "We need to make a dataframe with variables that don't change throughout a users use of sparkify. If we don't spark will give us an error when we try to condense our original data and get multiple values for a column. <br>\n",
    "\n",
    "For this reason we have to neglect variables we explored like:\n",
    "> * **location** - state, city\n",
    "> * **platform**\n",
    "\n",
    "We should focus on the following variables:\n",
    "> * **userId**\n",
    "> * **page**\n",
    "> * **level**\n",
    "> * **churn**\n",
    "\n",
    "By using feature engineering we can create even more variables which will be useful for machine learning. Let's give it a try.\n"
   ]
  },
  {
   "cell_type": "code",
   "execution_count": 92,
   "metadata": {},
   "outputs": [],
   "source": [
    "import pandas as pd\n",
    "import numpy as np\n",
    "import re\n",
    "import matplotlib.pyplot as plt\n",
    "from pyspark.sql import SparkSession\n",
    "from pyspark.sql.functions import max as fmax, isnull, avg, udf, split, sum as Fsum, countDistinct, col\n",
    "from pyspark.sql.window import Window\n",
    "from pyspark.sql.types import *\n",
    "from pyspark.ml.feature import VectorAssembler, MinMaxScaler\n",
    "from pyspark.ml.classification import RandomForestClassifier, GBTClassifier, LinearSVC, LogisticRegression, DecisionTreeClassifier\n",
    "from pyspark.ml.evaluation import  MulticlassClassificationEvaluator\n",
    "from pyspark.ml.tuning import CrossValidator, ParamGridBuilder\n",
    "import datetime\n",
    "import time\n",
    "\n",
    "# creating a spark session\n",
    "spark = SparkSession.builder.appName(\"Sparkify\").getOrCreate()"
   ]
  },
  {
   "cell_type": "code",
   "execution_count": 71,
   "metadata": {},
   "outputs": [],
   "source": [
    "def feature_engineering(filepath):\n",
    "    '''\n",
    "    Engineers features based on exploratory data analysis\n",
    "    \n",
    "    Input - filepath (str) - path to json dataset on file\n",
    "        \n",
    "    Output - df (dataframe) - engineered dataset\n",
    "    '''\n",
    "### defined dataframes\n",
    "\n",
    "    # data from filepath to dataframe\n",
    "    df = spark.read.json(filepath)\n",
    "    \n",
    "    # created dataframe of user ids\n",
    "    users = df.where((df.userId != \"\") | (df.sessionId != \"\"))\\\n",
    "              .select('userId').dropDuplicates()\n",
    "\n",
    "### defined metrics as dataframes\n",
    "\n",
    "    # returns day\n",
    "    day = udf(lambda x: datetime.datetime.fromtimestamp(x / 1000), DateType())\n",
    "    # average thumbs up by user\n",
    "    avgThumbsUp = df.filter(df.page == 'Thumbs Up').select('userId', 'page', 'ts')\\\n",
    "                    .withColumn('date', day(col('ts'))).groupBy('userId', 'date')\\\n",
    "                    .agg({'page':'count'}).groupBy('userId').mean()\\\n",
    "                    .withColumnRenamed('avg(count(page))', 'avgThumbsUp')\n",
    "    \n",
    "    # average thumbs down by user\n",
    "    avgThumbsDown = df.filter(df.page == 'Thumbs Down').select('userId', 'page', 'ts')\\\n",
    "                      .withColumn('date', day(col('ts'))).groupBy('userId', 'date')\\\n",
    "                      .agg({'page':'count'}).groupBy('userId').mean()\\\n",
    "                      .withColumnRenamed('avg(count(page))', 'avgThumbsDown')\n",
    "    \n",
    "    # average number of friends for user\n",
    "    numFriends = df.filter(df.page == 'Add Friend').select('userId', 'page')\\\n",
    "                   .groupBy('userId').count()\\\n",
    "                   .withColumnRenamed('count', 'numFriends')\n",
    "    \n",
    "    # user defined function returns biananry value if 'Home' is visited\n",
    "    page_home = udf(lambda x : int(x == 'Home'), IntegerType())\n",
    "    # defined window for calculation of temp\n",
    "    windowval = Window.partitionBy('userId').orderBy(desc('ts'))\\\n",
    "                      .rangeBetween(Window.unboundedPreceding, 0)\n",
    "    # temporary calculations for avgSongsTillHome\n",
    "    temp = df.filter((df.page == 'NextSong') | (df.page == 'Home'))\\\n",
    "             .select('userID', 'page', 'ts')\\\n",
    "             .withColumn('homePage', page_home(col('page'))) \\\n",
    "             .withColumn('songTemp', Fsum('homePage').over(windowval))\n",
    "    \n",
    "    # average songs played by user before returning to home page\n",
    "    avgSongsToHome = temp.filter((temp.page == 'NextSong')).groupBy('userId', 'songTemp')\\\n",
    "                         .agg({'songTemp':'count'}).drop('songTemp').groupby('userId').mean()\\\n",
    "                         .withColumnRenamed('avg(count(songTemp))', 'avgSongsToHome')\n",
    "    \n",
    "    # average daily visits to help page\n",
    "    dvHelp = df.filter(df.page == 'Help').select('userId', 'page', 'ts', 'length')\\\n",
    "               .withColumn('date', day(col('ts'))).groupBy('userId', 'date')\\\n",
    "               .agg({'page':'count'}).groupBy('userId').mean()\\\n",
    "               .withColumnRenamed('avg(count(page))', 'dvHelp')\n",
    "    \n",
    "    # average daily errors for user\n",
    "    dvErrors = df.filter(df.page == 'Error').select('userId', 'page', 'ts', 'length')\\\n",
    "                    .withColumn('date', day(col('ts'))).groupBy('userId', 'date')\\\n",
    "                    .agg({'page':'count'}).groupBy('userId').mean()\\\n",
    "                    .withColumnRenamed('avg(count(page))', 'dvErrors')\n",
    "    \n",
    "    # average daily settings visit for user\n",
    "    dvSettings = df.filter(df.page == 'Settings').select('userId', 'page', 'ts', 'length')\\\n",
    "                    .withColumn('date', day(col('ts'))).groupBy('userId', 'date')\\\n",
    "                    .agg({'page':'count'}).groupBy('userId').mean()\\\n",
    "                    .withColumnRenamed('avg(count(page))', 'dvSettings')\n",
    "    \n",
    "    # average daily logouts for user\n",
    "    dvLogout = df.filter(df.page == 'Logout').select('userId', 'page', 'ts', 'length')\\\n",
    "                    .withColumn('date', day(col('ts'))).groupBy('userId', 'date')\\\n",
    "                    .agg({'page':'count'}).groupBy('userId').mean()\\\n",
    "                    .withColumnRenamed('avg(count(page))', 'dvLogout')\n",
    "    \n",
    "    # average advertisments for user\n",
    "    dvAdvert = df.filter(df.page == 'Roll Advert').select('userId', 'page', 'ts', 'length')\\\n",
    "                    .withColumn('date', day(col('ts'))).groupBy('userId', 'date')\\\n",
    "                    .agg({'page':'count'}).groupBy('userId').mean()\\\n",
    "                    .withColumnRenamed('avg(count(page))', 'dvAdvert')\n",
    "    \n",
    "    # user defined functions return binanry value if respective page is visited\n",
    "    churn_downgrade = udf(lambda x: int(x == 'Submit Downgrade'), IntegerType())\n",
    "    churn = udf(lambda x: int(x == 'Cancellation Confirmation'), IntegerType())\n",
    "    page_cancel = udf(lambda x: int(x == 'Cancel'), IntegerType())\n",
    "    page_downgrade = udf(lambda x: int(x == 'Downgrade'), IntegerType())\n",
    "    # users who have downgraded and then cancelled\n",
    "    churn = df.withColumn('downgradeVisit', page_downgrade('page'))\\\n",
    "              .withColumn('downgraded', churn_downgrade('page'))\\\n",
    "              .withColumn('cancelVisit', page_cancel('page'))\\\n",
    "              .withColumn('cancelled', churn('page'))\\\n",
    "              .select(['userId', 'downgradeVisit', 'downgraded', 'cancelVisit', 'cancelled'])\\\n",
    "              .groupBy('userId').sum()\\\n",
    "              .withColumnRenamed('sum(downgradeVisit)', 'downgradeVisit')\\\n",
    "              .withColumnRenamed('sum(downgraded)', 'downgraded')\\\n",
    "              .withColumnRenamed('sum(cancelVisit)', 'cancelVisit')\\\n",
    "              .withColumnRenamed('sum(cancelled)', 'cancelled')\n",
    "    \n",
    "    # user defined function returns binanry value if respective page is visited\n",
    "    level_free = udf(lambda x: int(x == 'free'), IntegerType())\n",
    "    level_paid = udf(lambda x: int(x == 'paid'), IntegerType())\n",
    "    # subscription level of user\n",
    "    user_level = df.select('userId', 'level')\\\n",
    "                   .where((df.level == 'free') | (df.level == 'paid'))\\\n",
    "                   .dropDuplicates()\\\n",
    "                   .withColumn('free', level_free('level'))\\\n",
    "                   .withColumn('paid', level_paid('level')).drop('level')\n",
    "\n",
    "### joining engineered features dataframe's to user Id dataframe\n",
    "    df = users.join(avgThumbsUp, on='userId')\\\n",
    "              .join(avgThumbsDown, on='userId')\\\n",
    "              .join(numFriends, on='userId')\\\n",
    "              .join(avgSongsToHome, on='userId')\\\n",
    "              .join(dvHelp, on='userId')\\\n",
    "              .join(dvErrors, on='userId')\\\n",
    "              .join(dvSettings, on='userId')\\\n",
    "              .join(dvLogout, on='userId')\\\n",
    "              .join(dvAdvert, on='userId')\\\n",
    "              .join(user_level, on='userId')\\\n",
    "              .join(churn, on='userId')\n",
    "               \n",
    "    return df"
   ]
  },
  {
   "cell_type": "code",
   "execution_count": 72,
   "metadata": {},
   "outputs": [],
   "source": [
    "def feature_scaling(df):\n",
    "    '''\n",
    "    Scales features in dataframe other than the {label:cancelled} and userId\n",
    "    \n",
    "    Input: df - dataframe of sparkify data\n",
    "    \n",
    "    Output: df_scaled - dataframe of sparkify data scaled features\n",
    "    '''\n",
    "    # vectorizing data\n",
    "    feature_cols = df.drop('userId', 'cancelVisit','cancelled').columns\n",
    "    assembler = VectorAssembler(inputCols = feature_cols, outputCol = 'feature_vec')\n",
    "    \n",
    "    # adding label column and correcting data type for pyspark.ml\n",
    "    df = df.withColumn('label', df['cancelled'].cast(DoubleType()))\n",
    "    \n",
    "    # scaling data\n",
    "    scaler = MinMaxScaler(inputCol = 'feature_vec', outputCol = 'features')\n",
    "    \n",
    "    # scaling dataframe\n",
    "    df = assembler.transform(df)\n",
    "    model = scaler.fit(df)\n",
    "    df_scaled = model.transform(df)\n",
    "    \n",
    "    # exporting model\n",
    "    return df_scaled"
   ]
  },
  {
   "cell_type": "code",
   "execution_count": 73,
   "metadata": {},
   "outputs": [],
   "source": [
    "df = feature_engineering('mini_sparkify_event_data.json')\n",
    "df_scaled = feature_scaling(df)"
   ]
  },
  {
   "cell_type": "code",
   "execution_count": 74,
   "metadata": {
    "scrolled": true
   },
   "outputs": [
    {
     "name": "stdout",
     "output_type": "stream",
     "text": [
      "+------+-----------------+------------------+----------+------------------+------------------+--------+------------------+------------------+------------------+----+----+--------------+----------+-----------+---------+-----+--------------------+--------------------+\n",
      "|userId|      avgThumbsUp|     avgThumbsDown|numFriends|    avgSongsToHome|            dvHelp|dvErrors|        dvSettings|          dvLogout|          dvAdvert|free|paid|downgradeVisit|downgraded|cancelVisit|cancelled|label|         feature_vec|            features|\n",
      "+------+-----------------+------------------+----------+------------------+------------------+--------+------------------+------------------+------------------+----+----+--------------+----------+-----------+---------+-----+--------------------+--------------------+\n",
      "|   124|6.333333333333333|1.8636363636363635|        74|  24.4251497005988|1.3529411764705883|     1.2|1.8181818181818181|2.4583333333333335|               1.0|   0|   1|            41|         0|          0|        0|  0.0|[6.33333333333333...|[0.62711864406779...|\n",
      "|     7|              1.4|               1.0|         1|13.636363636363637|               1.0|     1.0|               1.5|               1.5|2.6666666666666665|   1|   0|             0|         0|          0|        0|  0.0|[1.4,1.0,1.0,13.6...|(13,[3,6,7,8,9],[...|\n",
      "|    15|5.785714285714286|1.5555555555555556|        31|21.266666666666666|1.1428571428571428|     1.0|               1.6| 2.076923076923077|               1.0|   0|   1|            28|         0|          0|        0|  0.0|[5.78571428571428...|[0.55750605326876...|\n",
      "+------+-----------------+------------------+----------+------------------+------------------+--------+------------------+------------------+------------------+----+----+--------------+----------+-----------+---------+-----+--------------------+--------------------+\n",
      "only showing top 3 rows\n",
      "\n"
     ]
    }
   ],
   "source": [
    "df_scaled.show(3)"
   ]
  },
  {
   "cell_type": "markdown",
   "metadata": {},
   "source": [
    "See appendix for exploratory data analysis of engineered features."
   ]
  },
  {
   "cell_type": "markdown",
   "metadata": {},
   "source": [
    "\n",
    "\n",
    "# Modeling\n",
    "Split the full dataset into train, test, and validation sets. Test out several of the machine learning methods you learned. Evaluate the accuracy of the various models, tuning parameters as necessary. Determine your winning model based on test accuracy and report results on the validation set. Since the churned users are a fairly small subset, I suggest using F1 score as the metric to optimize.\n",
    "\n"
   ]
  },
  {
   "cell_type": "code",
   "execution_count": 75,
   "metadata": {},
   "outputs": [],
   "source": [
    "rest, train = df_scaled.randomSplit([0.8, 0.2], seed=42)\n",
    "test, validation = rest.randomSplit([0.5,0.5], seed=42)"
   ]
  },
  {
   "cell_type": "code",
   "execution_count": 76,
   "metadata": {},
   "outputs": [],
   "source": [
    "def fit_transform(model, train, validation):\n",
    "    '''\n",
    "    Trains model and makes predictions\n",
    "    \n",
    "    Input: model - classification machine learning algorithm from pyspark.ml.classification\n",
    "           train - contains training dataframe\n",
    "           validation - contains validation dataframe\n",
    "    \n",
    "    Output: clf - trained machine learning algorithm\n",
    "            results - predictions on validation data\n",
    "    \n",
    "    '''\n",
    "    clf = model.fit(train)\n",
    "    results = clf.transform(validation)\n",
    "    \n",
    "    return clf, results"
   ]
  },
  {
   "cell_type": "code",
   "execution_count": 99,
   "metadata": {},
   "outputs": [],
   "source": [
    "def evaluate(results):\n",
    "    '''\n",
    "    Evaluates model performance with f1 and accuracy score\n",
    "    \n",
    "    Input: results - predictions on validation data\n",
    "    \n",
    "    Output: printed performance metrics f1 and accuracy score\n",
    "    \n",
    "    '''\n",
    "    metrics = [ 'f1', 'accuracy']\n",
    "    \n",
    "    for metric in metrics:\n",
    "        evaluator = MulticlassClassificationEvaluator(metricName = metric)\n",
    "        score = evaluator.evaluate(results.select(col('label'), col('prediction')))\n",
    "        print(metric)\n",
    "        print('The score on the validation set is {:.2%}'.format(score))\n",
    "        \n",
    "    return"
   ]
  },
  {
   "cell_type": "code",
   "execution_count": 100,
   "metadata": {},
   "outputs": [
    {
     "name": "stdout",
     "output_type": "stream",
     "text": [
      "Training Model... RandomForestClassifier_91a4a5ba9c0d\n",
      "Evaluating Model...\n",
      "f1\n",
      "The score on the validation set is 83.15%\n",
      "accuracy\n",
      "The score on the validation set is 83.61%\n",
      "Time: 3.379539183775584 minutes \n",
      "\n",
      "Training Model... GBTClassifier_c85a705d4413\n",
      "Evaluating Model...\n",
      "f1\n",
      "The score on the validation set is 70.49%\n",
      "accuracy\n",
      "The score on the validation set is 70.49%\n",
      "Time: 3.6169323166211447 minutes \n",
      "\n",
      "Training Model... LinearSVC_af5ff1a89fde\n",
      "Evaluating Model...\n",
      "f1\n",
      "The score on the validation set is 75.88%\n",
      "accuracy\n",
      "The score on the validation set is 78.69%\n",
      "Time: 6.911215448379517 minutes \n",
      "\n",
      "Training Model... LogisticRegression_31dcc564b8e8\n",
      "Evaluating Model...\n",
      "f1\n",
      "The score on the validation set is 88.66%\n",
      "accuracy\n",
      "The score on the validation set is 88.52%\n",
      "Time: 2.940087036291758 minutes \n",
      "\n",
      "Training Model... DecisionTreeClassifier_5733937a6108\n",
      "Evaluating Model...\n",
      "f1\n",
      "The score on the validation set is 70.49%\n",
      "accuracy\n",
      "The score on the validation set is 70.49%\n",
      "Time: 1.940229598681132 minutes \n",
      "\n"
     ]
    }
   ],
   "source": [
    "models = [RandomForestClassifier(), GBTClassifier(), LinearSVC(),\n",
    "          LogisticRegression(), DecisionTreeClassifier()]\n",
    "\n",
    "def model_selection(models):\n",
    "    '''\n",
    "    Trains, makes predictions and evaluates a list of machine learning models\n",
    "    \n",
    "    Input: models -  a list of classification machine learning algorithms \n",
    "                     from pyspark.ml.classification\n",
    "    \n",
    "    Output: printed performance metrics f1, accuracy score, and training time\n",
    "    \n",
    "    '''\n",
    "\n",
    "    for m in models:\n",
    "        start_time = time.time()\n",
    "        model = m\n",
    "        print('Training Model...',m)\n",
    "        clf, results = fit_transform(model, train, validation)\n",
    "        print('Evaluating Model...')\n",
    "        evaluate(results)\n",
    "        current_time = time.time()\n",
    "        elapsed_time = current_time - start_time\n",
    "        print('Time:',elapsed_time/60,'minutes \\n')\n",
    "        \n",
    "    return\n",
    "\n",
    "model_selection(models) "
   ]
  },
  {
   "cell_type": "markdown",
   "metadata": {},
   "source": [
    "The logistic regression classifier had the best combination of training time and f1 score. We can choose this algorithm and grid search our parameters with cross validation them on our f1 metric."
   ]
  },
  {
   "cell_type": "code",
   "execution_count": 111,
   "metadata": {},
   "outputs": [
    {
     "name": "stdout",
     "output_type": "stream",
     "text": [
      "f1\n",
      "The score on the validation set is 67.06%\n",
      "accuracy\n",
      "The score on the validation set is 77.05%\n"
     ]
    }
   ],
   "source": [
    "model = LogisticRegression(maxIter=10, regParam=0.3, elasticNetParam=0.8, family='multinomial')\n",
    "\n",
    "param_grid = ParamGridBuilder().addGrid(model.maxIter, [10, 15])\\\n",
    "                               .addGrid(model.regParam, [0.3, 0.1])\\\n",
    "                               .addGrid(model.family, ['auto','multinomial'])\\\n",
    "                               .build()\n",
    "\n",
    "    \n",
    "crossval = CrossValidator(estimator=model,\n",
    "                          estimatorParamMaps=param_grid,\n",
    "                          evaluator=MulticlassClassificationEvaluator(metricName='f1'),\n",
    "                          numFolds=3)\n",
    "\n",
    "model_cv = crossval\n",
    "clf = model_cv.fit(train)\n",
    "results = clf.transform(validation)\n",
    "evaluate(results)"
   ]
  },
  {
   "cell_type": "markdown",
   "metadata": {},
   "source": [
    "The grid search did not produce a more promising model. So we will keep the default parameters and evaluate it against the testing set."
   ]
  },
  {
   "cell_type": "code",
   "execution_count": 117,
   "metadata": {},
   "outputs": [
    {
     "name": "stdout",
     "output_type": "stream",
     "text": [
      "f1\n",
      "The score on the validation set is 86.81%\n",
      "accuracy\n",
      "The score on the validation set is 86.81%\n"
     ]
    }
   ],
   "source": [
    "model = LogisticRegression()\n",
    "clf = model.fit(train)\n",
    "results = clf.transform(test)\n",
    "evaluate(results)"
   ]
  },
  {
   "cell_type": "code",
   "execution_count": null,
   "metadata": {},
   "outputs": [],
   "source": [
    "results.select('features', 'rawPrediction', 'probability',\n",
    "               'prediction', 'label', 'userId').show()"
   ]
  },
  {
   "cell_type": "code",
   "execution_count": null,
   "metadata": {},
   "outputs": [],
   "source": [
    "df_scaled.show()"
   ]
  },
  {
   "cell_type": "markdown",
   "metadata": {},
   "source": [
    "Our algorithm seems to have done a great job identifying 86.1% of users who are going to churn. The evaluation with which we chose the logistic regression classifier is based on f1 score:<br>\n",
    "\n",
    "$F1 = \\frac{2*Precision*Recall}{Precision+Recall}$<br>\n",
    "\n",
    "We also tested it against the validation and testing data set with an f1 and accuracy score of approximately 86-88%. All of the models we tested had an f1 and accuracy score less than that. I'm sure we could have gridsearched and crossvalidated our parameters to make the model preform better. However, the clssififer provided the best predictions and trained the fastest.\n",
    "\n",
    "This is important because we are planning to scale our analysis to a 12 GB dataset on AWS on a distributed computing spark cluster framework. The longer our algorithm takes to train, the more money we spend and therefore the less economical our choice becomes."
   ]
  },
  {
   "cell_type": "markdown",
   "metadata": {},
   "source": [
    "# Discussion\n",
    "\n",
    "Our analysis had three main steps:\n",
    "\n",
    ">1. Exploratory Data Analysis <br>\n",
    ">2. Feature Engineering <br>\n",
    ">3. Modelling <br>\n",
    "\n",
    "Each presented its own challenges. <br>\n",
    "\n",
    "Spark has many different ways you can query. There is imperative and declaritive programming. I tried used both to become more fluent in the options available to me. <br>\n",
    "\n",
    "Here is an example of imperative programming:<br>\n",
    "```python\n",
    "churn = udf(lambda x: 1 if x == \"Cancellation Confirmation\" else 0, IntegerType())\n",
    "df_test = df.withColumn(\"churn\", churn(\"page\"))\n",
    "userwindow = Window.partitionBy('userId')\n",
    "                   .rangeBetween(Window.unboundedPreceding,Window.unboundedFollowing)\n",
    "df_test = df_test.withColumn('churn', fmax('churn').over(userwindow))\n",
    "df_test.select([\"churn\", \"page\"]).groupby([\"churn\", \"page\"]).count().sort(\"page\").show()\n",
    "```\n",
    "\n",
    "Here is an example of declaritive programming:<br>\n",
    "```python\n",
    "temp = spark.sql('''\n",
    "                 SELECT DISTINCT userId\n",
    "                 FROM user_table\n",
    "                 WHERE churn = 0\n",
    "                 ORDER BY 1 ASC\n",
    "                 '''\n",
    "                 )\n",
    "\n",
    "temp.createOrReplaceTempView(\"temp\")\n",
    "\n",
    "users_churn = spark.sql('''\n",
    "                        SELECT DISTINCT userId\n",
    "                        FROM user_table\n",
    "                        WHERE churn = 1\n",
    "                        ORDER BY 1 ASC\n",
    "                        '''\n",
    "                        )\n",
    "\n",
    "users_churn.createOrReplaceTempView(\"users_churn\")\n",
    "\n",
    "users_active = spark.sql('''\n",
    "                         SELECT t.userId\n",
    "                         FROM temp AS t\n",
    "                         LEFT JOIN users_churn AS u\n",
    "                         ON t.userId = u.userId\n",
    "                         WHERE u.userId IS NULL\n",
    "                         ORDER BY 1 ASC\n",
    "                         ''')\n",
    "\n",
    "users_active.createOrReplaceTempView(\"users_active\")\n",
    "\n",
    "churn_page_inter = spark.sql('''\n",
    "                             SELECT page, COUNT(users_churn.userId) AS user_inter\n",
    "                             FROM user_table\n",
    "                             INNER JOIN users_churn\n",
    "                             ON user_table.userId = users_churn.userId\n",
    "                             GROUP BY 1\n",
    "                             ORDER BY 1 ASC\n",
    "                             '''\n",
    "                             ).toPandas()\n",
    "\n",
    "active_page_inter = spark.sql('''\n",
    "                              SELECT page, COUNT(users_active.userId) AS user_inter\n",
    "                              FROM user_table\n",
    "                              INNER JOIN users_active\n",
    "                              ON user_table.userId = users_active.userId\n",
    "                              GROUP BY 1\n",
    "                              ORDER BY 1 ASC\n",
    "                              ''').toPandas()\n",
    "churn_page_inter.merge(active_page_inter, on='page', suffixes = ('_1','_0'))\n",
    "```\n",
    "\n",
    "Amazingly both produce the same information, one is much faster and easier to program. This made the exploratory data analysis a challenge with some many options to query data. I eventually figured the best pratices and used it in my feature engineering <br>\n",
    "\n",
    "Feature engineering had its difficulties as well. Choosing which pieces of the original data we wanted to keep and transform to the variables we would use for modelling took alot of trial and error. What you see in the feature engineering section is my final polished work. I challeneged myself to refrain from using SQL or declaritive programming, which I'm more comfortable with, and used imperative programming to make it more concise and clean. <br>\n",
    "\n",
    "I could further improve the exploratory data analysis section which could be made more concise by the use of imperative programming instead of declarative. Furthermore, I wish I choose more parameters to hyper tune. Afterall, the more accurate the model the more users we can retain."
   ]
  },
  {
   "cell_type": "markdown",
   "metadata": {},
   "source": [
    "# Conclusion\n",
    "\n",
    "The goal of this project is to take a dataset, perform feature engineering, scale the features and preform some modelling so that we can make accurate predictions on whether a customer will churn or not.\n",
    "\n",
    "This was accomplished through imperative feature engineering of the userId, page, level, and churn columns. Minmax feature scaling was applied to all engineered features. For modelling a logistic regression classifier was used. I was able to make a model with an f1 and accuracy score of 86-88%% on testing and validation datasets."
   ]
  },
  {
   "cell_type": "markdown",
   "metadata": {},
   "source": [
    "### Appendix\n",
    "Proof of concept exploratory data analysis for engineered features"
   ]
  },
  {
   "cell_type": "code",
   "execution_count": 118,
   "metadata": {},
   "outputs": [
    {
     "name": "stdout",
     "output_type": "stream",
     "text": [
      "+---------+----+----+------------------+\n",
      "|cancelled|free|paid|avg(avgThumbsDown)|\n",
      "+---------+----+----+------------------+\n",
      "|        0|   0|   1|1.7890910789274492|\n",
      "|        1|   0|   1| 2.116830065359477|\n",
      "|        0|   1|   0|1.7343928887673639|\n",
      "|        1|   1|   0| 2.015972222222222|\n",
      "+---------+----+----+------------------+\n",
      "\n"
     ]
    }
   ],
   "source": [
    "df.select([\"avgThumbsDown\",\"free\",\"paid\",\"cancelled\"])\\\n",
    "  .groupby([\"cancelled\",\"free\", \"paid\"]).mean()\\\n",
    "  .drop('avg(cancelled)','avg(free)','avg(paid)').show()"
   ]
  },
  {
   "cell_type": "code",
   "execution_count": 119,
   "metadata": {},
   "outputs": [
    {
     "name": "stdout",
     "output_type": "stream",
     "text": [
      "+---------+----+----+-----------------+\n",
      "|cancelled|free|paid| avg(avgThumbsUp)|\n",
      "+---------+----+----+-----------------+\n",
      "|        0|   0|   1|5.583632689210535|\n",
      "|        1|   0|   1|4.642760901151904|\n",
      "|        0|   1|   0|5.238824144411893|\n",
      "|        1|   1|   0|4.396346765979119|\n",
      "+---------+----+----+-----------------+\n",
      "\n"
     ]
    }
   ],
   "source": [
    "df.select([\"avgThumbsUp\",\"free\",\"paid\",\"cancelled\"])\\\n",
    "  .groupby([\"cancelled\",\"free\", \"paid\"]).mean()\\\n",
    "  .drop('avg(cancelled)','avg(free)','avg(paid)').show()"
   ]
  },
  {
   "cell_type": "code",
   "execution_count": 120,
   "metadata": {},
   "outputs": [
    {
     "name": "stdout",
     "output_type": "stream",
     "text": [
      "+---------+----+----+------------------+\n",
      "|cancelled|free|paid|       avg(dvHelp)|\n",
      "+---------+----+----+------------------+\n",
      "|        0|   0|   1|1.5953027194938962|\n",
      "|        1|   0|   1|1.4343264578558694|\n",
      "|        0|   1|   0|1.5928493177278347|\n",
      "|        1|   1|   0|1.3941774891774892|\n",
      "+---------+----+----+------------------+\n",
      "\n"
     ]
    }
   ],
   "source": [
    "df.select([\"dvHelp\",\"free\",\"paid\",\"cancelled\"])\\\n",
    "  .groupby([\"cancelled\",\"free\", \"paid\"]).mean()\\\n",
    "  .drop('avg(cancelled)','avg(free)','avg(paid)').show()"
   ]
  },
  {
   "cell_type": "code",
   "execution_count": 121,
   "metadata": {},
   "outputs": [
    {
     "name": "stdout",
     "output_type": "stream",
     "text": [
      "+---------+----+----+------------------+\n",
      "|cancelled|free|paid|     avg(dvAdvert)|\n",
      "+---------+----+----+------------------+\n",
      "|        0|   0|   1|2.5936811150626937|\n",
      "|        1|   0|   1|  3.90855614973262|\n",
      "|        0|   1|   0| 3.053989270398499|\n",
      "|        1|   1|   0| 4.129217171717172|\n",
      "+---------+----+----+------------------+\n",
      "\n"
     ]
    }
   ],
   "source": [
    "df.select([\"dvAdvert\",\"free\",\"paid\",\"cancelled\"])\\\n",
    "  .groupby([\"cancelled\",\"free\", \"paid\"]).mean()\\\n",
    "  .drop('avg(cancelled)','avg(free)','avg(paid)').show()"
   ]
  },
  {
   "cell_type": "code",
   "execution_count": 122,
   "metadata": {},
   "outputs": [
    {
     "name": "stdout",
     "output_type": "stream",
     "text": [
      "+---------+----+----+------------------+\n",
      "|cancelled|free|paid|     avg(dvLogout)|\n",
      "+---------+----+----+------------------+\n",
      "|        0|   0|   1|1.8916003898221312|\n",
      "|        1|   0|   1|2.2402702474683895|\n",
      "|        0|   1|   0|1.8357056276753216|\n",
      "|        1|   1|   0| 2.201199407317828|\n",
      "+---------+----+----+------------------+\n",
      "\n"
     ]
    }
   ],
   "source": [
    "df.select([\"dvLogout\",\"free\",\"paid\",\"cancelled\"])\\\n",
    "  .groupby([\"cancelled\",\"free\", \"paid\"]).mean()\\\n",
    "  .drop('avg(cancelled)','avg(free)','avg(paid)').show()"
   ]
  },
  {
   "cell_type": "code",
   "execution_count": 123,
   "metadata": {},
   "outputs": [
    {
     "name": "stdout",
     "output_type": "stream",
     "text": [
      "+---------+----+----+------------------+\n",
      "|cancelled|free|paid|     avg(dvErrors)|\n",
      "+---------+----+----+------------------+\n",
      "|        0|   0|   1|1.0905405405405406|\n",
      "|        1|   0|   1| 1.088235294117647|\n",
      "|        0|   1|   0|1.1002415458937198|\n",
      "|        1|   1|   0|             1.075|\n",
      "+---------+----+----+------------------+\n",
      "\n"
     ]
    }
   ],
   "source": [
    "df.select([\"dvErrors\",\"free\",\"paid\",\"cancelled\"])\\\n",
    "  .groupby([\"cancelled\",\"free\", \"paid\"]).mean()\\\n",
    "  .drop('avg(cancelled)','avg(free)','avg(paid)').show()"
   ]
  },
  {
   "cell_type": "code",
   "execution_count": 124,
   "metadata": {},
   "outputs": [
    {
     "name": "stdout",
     "output_type": "stream",
     "text": [
      "+---------+----+----+------------------+\n",
      "|cancelled|free|paid|   avg(numFriends)|\n",
      "+---------+----+----+------------------+\n",
      "|        0|   0|   1| 36.37837837837838|\n",
      "|        1|   0|   1|17.941176470588236|\n",
      "|        0|   1|   0|33.869565217391305|\n",
      "|        1|   1|   0|              16.0|\n",
      "+---------+----+----+------------------+\n",
      "\n"
     ]
    }
   ],
   "source": [
    "df.select([\"numFriends\",\"free\",\"paid\",\"cancelled\"])\\\n",
    "  .groupby([\"cancelled\",\"free\", \"paid\"]).mean()\\\n",
    "  .drop('avg(cancelled)','avg(free)','avg(paid)').show()"
   ]
  },
  {
   "cell_type": "code",
   "execution_count": 125,
   "metadata": {},
   "outputs": [
    {
     "name": "stdout",
     "output_type": "stream",
     "text": [
      "+---------+----+----+-------------------+\n",
      "|cancelled|free|paid|avg(avgSongsToHome)|\n",
      "+---------+----+----+-------------------+\n",
      "|        0|   0|   1| 24.758349648357875|\n",
      "|        1|   0|   1|  22.62305583353883|\n",
      "|        0|   1|   0|  23.52721580408913|\n",
      "|        1|   1|   0| 21.675841754752305|\n",
      "+---------+----+----+-------------------+\n",
      "\n"
     ]
    }
   ],
   "source": [
    "df.select([\"avgSongsToHome\",\"free\",\"paid\",\"cancelled\"])\\\n",
    "  .groupby([\"cancelled\",\"free\", \"paid\"]).mean()\\\n",
    "  .drop('avg(cancelled)','avg(free)','avg(paid)').show()"
   ]
  },
  {
   "cell_type": "code",
   "execution_count": 127,
   "metadata": {},
   "outputs": [
    {
     "name": "stdout",
     "output_type": "stream",
     "text": [
      "+---------+----+----+----------------+\n",
      "|cancelled|free|paid|avg(cancelVisit)|\n",
      "+---------+----+----+----------------+\n",
      "|        0|   0|   1|             0.0|\n",
      "|        1|   0|   1|             1.0|\n",
      "|        0|   1|   0|             0.0|\n",
      "|        1|   1|   0|             1.0|\n",
      "+---------+----+----+----------------+\n",
      "\n"
     ]
    }
   ],
   "source": [
    "df.select([\"cancelVisit\",\"free\",\"paid\",\"cancelled\"])\\\n",
    "  .groupby([\"cancelled\",\"free\", \"paid\"]).mean()\\\n",
    "  .drop('avg(cancelled)','avg(free)','avg(paid)').show()"
   ]
  },
  {
   "cell_type": "markdown",
   "metadata": {},
   "source": [
    "### Saving Data for Web App"
   ]
  },
  {
   "cell_type": "code",
   "execution_count": 128,
   "metadata": {},
   "outputs": [],
   "source": [
    "df.toPandas().to_csv('feat_eng_data.csv')\n",
    "results.toPandas().to_csv('results_data.csv')"
   ]
  },
  {
   "cell_type": "code",
   "execution_count": 130,
   "metadata": {},
   "outputs": [
    {
     "data": {
      "image/png": "[encoded data removed]",
      "text/plain": [
       "<Figure size 1080x1080 with 1 Axes>"
      ]
     },
     "metadata": {
      "needs_background": "light"
     },
     "output_type": "display_data"
    }
   ],
   "source": [
    "plot_1 = df.groupby([\"paid\"]).mean()\\\n",
    "           .drop('avg(paid)','avg(free)')\\\n",
    "           .withColumnRenamed('avg(avgThumbsUp)', 'ThumbsUp')\\\n",
    "           .withColumnRenamed('avg(avgThumbsDown)', 'ThumbsDown')\\\n",
    "           .withColumnRenamed('avg(numFriends)', 'NumFriends')\\\n",
    "           .withColumnRenamed('avg(avgSongsToHome)', 'SongsToHome')\\\n",
    "           .withColumnRenamed('avg(dvHelp)', 'Help')\\\n",
    "           .withColumnRenamed('avg(dvErrors)', 'Errors')\\\n",
    "           .withColumnRenamed('avg(dvSettings)', 'Settings')\\\n",
    "           .withColumnRenamed('avg(dvLogout)', 'Logouts')\\\n",
    "           .withColumnRenamed('avg(dvAdvert)', 'Adverts')\\\n",
    "           .withColumnRenamed('avg(downgradeVisit)', 'DowngradeVisit')\\\n",
    "           .withColumnRenamed('avg(downgraded)', 'Downgraded')\\\n",
    "           .withColumnRenamed('avg(cancelVisit)', 'CancelVisit')\\\n",
    "           .withColumnRenamed('avg(cancelled)', 'Cancel')\\\n",
    "           .toPandas()\n",
    "\n",
    "plot_1 = pd.melt(plot_1, id_vars=['paid'])\n",
    "plot_1.to_csv('plot_1_data.csv')\n",
    "\n",
    "index = np.arange(13)\n",
    "bar_width = 0.35\n",
    "\n",
    "fig, ax = plt.subplots(figsize=(15,15))\n",
    "ax.bar(index, plot_1[plot_1['paid'] ==1].value, bar_width, label=\"paid\")\n",
    "ax.bar(index+bar_width, plot_1[plot_1['paid'] ==0].value, bar_width, label=\"free\")\n",
    "\n",
    "ax.set_xlabel('Variable', fontsize = 15)\n",
    "ax.set_ylabel('Average Value', fontsize = 15)\n",
    "ax.set_title('Page Interactions for Paid and Free Subscriptions', size = 15)\n",
    "ax.set_xticks(index + bar_width / 2)\n",
    "ax.set_xticklabels(plot_1[plot_1['paid'] ==1].variable, fontsize = 10, rotation=45)\n",
    "ax.legend(fontsize = 10)\n",
    "plt.show()"
   ]
  },
  {
   "cell_type": "code",
   "execution_count": 131,
   "metadata": {},
   "outputs": [
    {
     "data": {
      "image/png": "[encoded data removed]",
      "text/plain": [
       "<Figure size 1080x1080 with 1 Axes>"
      ]
     },
     "metadata": {
      "needs_background": "light"
     },
     "output_type": "display_data"
    }
   ],
   "source": [
    "plot_2 = df.groupby([\"cancelled\"]).mean()\\\n",
    "           .drop('avg(paid)','avg(free)')\\\n",
    "           .withColumnRenamed('avg(avgThumbsUp)', 'ThumbsUp')\\\n",
    "           .withColumnRenamed('avg(avgThumbsDown)', 'ThumbsDown')\\\n",
    "           .withColumnRenamed('avg(numFriends)', 'NumFriends')\\\n",
    "           .withColumnRenamed('avg(avgSongsToHome)', 'SongsToHome')\\\n",
    "           .withColumnRenamed('avg(dvHelp)', 'Help')\\\n",
    "           .withColumnRenamed('avg(dvErrors)', 'Errors')\\\n",
    "           .withColumnRenamed('avg(dvSettings)', 'Settings')\\\n",
    "           .withColumnRenamed('avg(dvLogout)', 'Logouts')\\\n",
    "           .withColumnRenamed('avg(dvAdvert)', 'Adevrts')\\\n",
    "           .withColumnRenamed('avg(downgradeVisit)', 'DowngradeVisit')\\\n",
    "           .withColumnRenamed('avg(downgraded)', 'Downgraded')\\\n",
    "           .withColumnRenamed('avg(cancelVisit)', 'CancelVisit')\\\n",
    "           .withColumnRenamed('avg(cancelled)', 'Cancel')\\\n",
    "           .toPandas()\n",
    "\n",
    "plot_2 = pd.melt(plot_2, id_vars=['cancelled'])\n",
    "plot_2.to_csv('plot_2_data.csv')\n",
    "\n",
    "index = np.arange(13)\n",
    "bar_width = 0.35\n",
    "\n",
    "fig, ax = plt.subplots(figsize=(15,15))\n",
    "ax.bar(index, plot_2[plot_2['cancelled'] ==1].value, bar_width, label=\"cancelled\")\n",
    "ax.bar(index+bar_width, plot_2[plot_2['cancelled'] ==0].value, bar_width, label=\"active\")\n",
    "\n",
    "ax.set_xlabel('Variable', fontsize = 15)\n",
    "ax.set_ylabel('Average Value', fontsize = 15)\n",
    "ax.set_title('Page Interactions for Cancelled and Active Users', size = 15)\n",
    "ax.set_xticks(index + bar_width / 2)\n",
    "ax.set_xticklabels(plot_2[plot_2['cancelled'] ==1].variable, fontsize = 10, rotation=45)\n",
    "ax.legend(fontsize = 10)\n",
    "plt.show()"
   ]
  },
  {
   "cell_type": "code",
   "execution_count": null,
   "metadata": {},
   "outputs": [],
   "source": []
  }
 ],
 "metadata": {
  "kernelspec": {
   "display_name": "Python 3",
   "language": "python",
   "name": "python3"
  }
 },
 "nbformat": 4,
 "nbformat_minor": 2
}
