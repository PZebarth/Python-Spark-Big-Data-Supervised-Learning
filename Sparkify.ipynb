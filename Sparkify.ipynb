{
 "cells": [
  {
   "cell_type": "markdown",
   "metadata": {},
   "source": [
    "# Sparkify Project Workspace\n",
    "This workspace contains a tiny subset (128MB) of the full dataset available (12GB). This workspace is to build my project, and to explore a smaller subset with Spark before deploying my cluster on AWS. "
   ]
  },
  {
   "cell_type": "code",
   "execution_count": 1,
   "metadata": {},
   "outputs": [],
   "source": [
    "# importing neccesary libraries\n",
    "from pyspark.sql import SparkSession\n",
    "import pandas as pd\n",
    "from pyspark.sql.functions import max as fmax, isnull, avg, udf, split, sum as fsum, countDistinct, col, desc\n",
    "from pyspark.sql.window import Window\n",
    "from pyspark.sql.types import *\n",
    "from pyspark.ml.feature import VectorAssembler, MinMaxScaler\n",
    "import datetime\n",
    "\n",
    "import numpy as np\n",
    "import re\n",
    "import matplotlib.pyplot as plt\n",
    "%matplotlib inline"
   ]
  },
  {
   "cell_type": "code",
   "execution_count": 2,
   "metadata": {},
   "outputs": [],
   "source": [
    "# creating a Spark session\n",
    "spark = SparkSession.builder.appName('Sparkify').getOrCreate()"
   ]
  },
  {
   "cell_type": "markdown",
   "metadata": {},
   "source": [
    "# Load and Clean Dataset\n",
    "In this workspace, the mini-dataset file is `mini_sparkify_event_data.json`. I will load and clean the dataset, checking for invalid or missing data - for example, records without userids or sessionids. "
   ]
  },
  {
   "cell_type": "markdown",
   "metadata": {},
   "source": [
    "Let's load our data and take a look a quick look to understand how it's organized."
   ]
  },
  {
   "cell_type": "code",
   "execution_count": 3,
   "metadata": {},
   "outputs": [],
   "source": [
    "# loading data\n",
    "event_data = 'mini_sparkify_event_data.json'\n",
    "df = spark.read.json(event_data)\n",
    "df.head()\n",
    "df.toPandas().to_csv('sparkify_data.csv')"
   ]
  },
  {
   "cell_type": "code",
   "execution_count": 4,
   "metadata": {},
   "outputs": [
    {
     "name": "stdout",
     "output_type": "stream",
     "text": [
      "root\n",
      " |-- artist: string (nullable = true)\n",
      " |-- auth: string (nullable = true)\n",
      " |-- firstName: string (nullable = true)\n",
      " |-- gender: string (nullable = true)\n",
      " |-- itemInSession: long (nullable = true)\n",
      " |-- lastName: string (nullable = true)\n",
      " |-- length: double (nullable = true)\n",
      " |-- level: string (nullable = true)\n",
      " |-- location: string (nullable = true)\n",
      " |-- method: string (nullable = true)\n",
      " |-- page: string (nullable = true)\n",
      " |-- registration: long (nullable = true)\n",
      " |-- sessionId: long (nullable = true)\n",
      " |-- song: string (nullable = true)\n",
      " |-- status: long (nullable = true)\n",
      " |-- ts: long (nullable = true)\n",
      " |-- userAgent: string (nullable = true)\n",
      " |-- userId: string (nullable = true)\n",
      "\n"
     ]
    }
   ],
   "source": [
    "# data schema\n",
    "df.printSchema()"
   ]
  },
  {
   "cell_type": "code",
   "execution_count": 5,
   "metadata": {},
   "outputs": [
    {
     "data": {
      "text/plain": [
       "286500"
      ]
     },
     "execution_count": 5,
     "metadata": {},
     "output_type": "execute_result"
    }
   ],
   "source": [
    "# total number of records before cleaning\n",
    "df.count()"
   ]
  },
  {
   "cell_type": "markdown",
   "metadata": {},
   "source": [
    "To begin cleaning let's look for any missing data that wasn't entered and would be a blank entry."
   ]
  },
  {
   "cell_type": "code",
   "execution_count": 6,
   "metadata": {},
   "outputs": [
    {
     "name": "stdout",
     "output_type": "stream",
     "text": [
      "artist 0\n",
      "auth 0\n",
      "firstName 0\n",
      "gender 0\n",
      "itemInSession 0\n",
      "lastName 0\n",
      "length 0\n",
      "level 0\n",
      "location 0\n",
      "method 0\n",
      "page 0\n",
      "registration 0\n",
      "sessionId 0\n",
      "song 0\n",
      "status 0\n",
      "ts 0\n",
      "userAgent 0\n",
      "userId 8346\n"
     ]
    }
   ],
   "source": [
    "# checking for missing data\n",
    "cols = df.columns\n",
    "\n",
    "for col in cols:\n",
    "    print(col, df.filter(df[col] == '').count())"
   ]
  },
  {
   "cell_type": "markdown",
   "metadata": {},
   "source": [
    "The 'userId' column has 8346 invalid enteries so let's remove these because we want to make conclusions about users in the future."
   ]
  },
  {
   "cell_type": "code",
   "execution_count": 7,
   "metadata": {
    "scrolled": true
   },
   "outputs": [
    {
     "name": "stdout",
     "output_type": "stream",
     "text": [
      "+-------+------------------+\n",
      "|summary|            userId|\n",
      "+-------+------------------+\n",
      "|  count|            286500|\n",
      "|   mean| 59682.02278593872|\n",
      "| stddev|109091.94999910559|\n",
      "|    min|                  |\n",
      "|    max|                99|\n",
      "+-------+------------------+\n",
      "\n"
     ]
    }
   ],
   "source": [
    "df.describe('userId').show()"
   ]
  },
  {
   "cell_type": "code",
   "execution_count": 8,
   "metadata": {},
   "outputs": [],
   "source": [
    "df = df.filter(df['userId'] != '')"
   ]
  },
  {
   "cell_type": "code",
   "execution_count": 9,
   "metadata": {
    "scrolled": true
   },
   "outputs": [
    {
     "name": "stdout",
     "output_type": "stream",
     "text": [
      "+-------+------------------+\n",
      "|summary|            userId|\n",
      "+-------+------------------+\n",
      "|  count|            278154|\n",
      "|   mean| 59682.02278593872|\n",
      "| stddev|109091.94999910559|\n",
      "|    min|                10|\n",
      "|    max|                99|\n",
      "+-------+------------------+\n",
      "\n"
     ]
    }
   ],
   "source": [
    "df.describe('userId').show()"
   ]
  },
  {
   "cell_type": "markdown",
   "metadata": {},
   "source": [
    "We succesfully removed the invalid enteries. \n",
    "\n",
    "I'm skeptical that is the furthest extent to which we need to clean this data so lets look for other irregularities.\n",
    "\n",
    "Looking back our schema I want to investigate the columns where invalid enteries could be important to catch. Specifically, auth, itemInSession, length, level, location, method, page, registration, sessionId, status, ts, userAgent, userId.\n",
    "\n",
    "These columns either have values I want to know more about or have a possibility to affect our results. Let's take a look.\n"
   ]
  },
  {
   "cell_type": "code",
   "execution_count": 10,
   "metadata": {},
   "outputs": [
    {
     "name": "stdout",
     "output_type": "stream",
     "text": [
      "artist 0\n",
      "auth 0\n",
      "firstName 0\n",
      "gender 0\n",
      "itemInSession 0\n",
      "lastName 0\n",
      "length 0\n",
      "level 0\n",
      "location 0\n",
      "method 0\n",
      "page 0\n",
      "registration 0\n",
      "sessionId 0\n",
      "song 0\n",
      "status 0\n",
      "ts 0\n",
      "userAgent 0\n",
      "userId 0\n"
     ]
    }
   ],
   "source": [
    "cols = df.columns\n",
    "\n",
    "for col in cols:\n",
    "    print(col, df.filter(df[col] == 'null').count())"
   ]
  },
  {
   "cell_type": "markdown",
   "metadata": {},
   "source": [
    "We should investigate further it is unlikely there are no null values in this dataset."
   ]
  },
  {
   "cell_type": "code",
   "execution_count": 11,
   "metadata": {},
   "outputs": [
    {
     "name": "stdout",
     "output_type": "stream",
     "text": [
      "artist 50046\n",
      "auth 0\n",
      "firstName 0\n",
      "gender 0\n",
      "itemInSession 0\n",
      "lastName 0\n",
      "length 50046\n",
      "level 0\n",
      "location 0\n",
      "method 0\n",
      "page 0\n",
      "registration 0\n",
      "sessionId 0\n",
      "song 50046\n",
      "status 0\n",
      "ts 0\n",
      "userAgent 0\n",
      "userId 0\n"
     ]
    }
   ],
   "source": [
    "cols = df.columns\n",
    "\n",
    "for col in cols:\n",
    "    print(col, df.filter(isnull(df[col])).count())"
   ]
  },
  {
   "cell_type": "markdown",
   "metadata": {},
   "source": [
    "Well that's interesting, it appears the null value is not saved as a string. This is something to be wary of. \n",
    "\n",
    "The null values will not affect our results because they are not important to define cutomer churn. We will leave them in place and I will discuss customer churn in the coming sections."
   ]
  },
  {
   "cell_type": "markdown",
   "metadata": {},
   "source": [
    "## Exploratory Data Analysis\n"
   ]
  },
  {
   "cell_type": "markdown",
   "metadata": {},
   "source": [
    "### Variable Exploration"
   ]
  },
  {
   "cell_type": "markdown",
   "metadata": {},
   "source": [
    "Let's creat a table to use Spark SQL to investigate our variables."
   ]
  },
  {
   "cell_type": "code",
   "execution_count": 12,
   "metadata": {},
   "outputs": [],
   "source": [
    "df.createOrReplaceTempView('user_table')"
   ]
  },
  {
   "cell_type": "markdown",
   "metadata": {},
   "source": [
    "Here I will investigate variables which I find of interest and might prove to be useful in predictions or simply to understand their meaning. The variables are:\n",
    "- auth\n",
    "- itemInSession\n",
    "- level\n",
    "- location\n",
    "- method\n",
    "- page\n",
    "- registration\n",
    "- sessionId\n",
    "- status\n",
    "- ts\n",
    "- userAgent\n",
    "- userId\n",
    "- gender"
   ]
  },
  {
   "cell_type": "markdown",
   "metadata": {},
   "source": [
    "- <b>auth</b> takes on the following values: Cancelled, Logged In\n",
    "> There are 225 active users in this dataset and 52 users who have cancelled. This will not be a useful variable. We can find this information in other variables."
   ]
  },
  {
   "cell_type": "code",
   "execution_count": 13,
   "metadata": {
    "scrolled": true
   },
   "outputs": [
    {
     "name": "stdout",
     "output_type": "stream",
     "text": [
      "+---------+-----+\n",
      "|     auth|count|\n",
      "+---------+-----+\n",
      "|Logged In|  225|\n",
      "|Cancelled|   52|\n",
      "+---------+-----+\n",
      "\n"
     ]
    }
   ],
   "source": [
    "spark.sql('''\n",
    "          SELECT auth, COUNT(DISTINCT userId) AS count\n",
    "          FROM user_table\n",
    "          GROUP BY 1\n",
    "          ORDER BY 2 DESC\n",
    "          '''\n",
    "          ).show()"
   ]
  },
  {
   "cell_type": "code",
   "execution_count": 14,
   "metadata": {
    "scrolled": true
   },
   "outputs": [
    {
     "name": "stdout",
     "output_type": "stream",
     "text": [
      "+----------+\n",
      "|user_count|\n",
      "+----------+\n",
      "|       225|\n",
      "+----------+\n",
      "\n"
     ]
    }
   ],
   "source": [
    "spark.sql('''\n",
    "          SELECT COUNT(DISTINCT userId) AS user_count\n",
    "          FROM user_table\n",
    "          '''\n",
    "          ).show()"
   ]
  },
  {
   "cell_type": "markdown",
   "metadata": {},
   "source": [
    "- <b>itemInSession</b>: takes on incremental values for each action during a session on Sparkify\n",
    "> We would have assumed as itemInSession incremented the counts would decrease but this isn't the case. It looks like this variable won't be very useful due to this unpredictable nature for the general population. However, this variable might be useful for predictions on individual users."
   ]
  },
  {
   "cell_type": "code",
   "execution_count": 15,
   "metadata": {
    "scrolled": true
   },
   "outputs": [
    {
     "name": "stdout",
     "output_type": "stream",
     "text": [
      "+-------------+-----+\n",
      "|itemInSession|count|\n",
      "+-------------+-----+\n",
      "|            0| 2689|\n",
      "|            1| 2818|\n",
      "|            2| 2941|\n",
      "|            3| 2917|\n",
      "|            4| 2887|\n",
      "+-------------+-----+\n",
      "\n"
     ]
    }
   ],
   "source": [
    "spark.sql('''\n",
    "          SELECT itemInSession, COUNT(*) AS count\n",
    "          FROM user_table\n",
    "          GROUP BY 1\n",
    "          ORDER BY 1 ASC\n",
    "          LIMIT 5\n",
    "          '''\n",
    "          ).show()"
   ]
  },
  {
   "cell_type": "code",
   "execution_count": 16,
   "metadata": {
    "scrolled": true
   },
   "outputs": [
    {
     "name": "stdout",
     "output_type": "stream",
     "text": [
      "+--------------------+---------+---------+------+-------------+--------+---------+-----+----------+------+--------+-------------+---------+--------------------+------+-------------+--------------------+------+\n",
      "|              artist|     auth|firstName|gender|itemInSession|lastName|   length|level|  location|method|    page| registration|sessionId|                song|status|           ts|           userAgent|userId|\n",
      "+--------------------+---------+---------+------+-------------+--------+---------+-----+----------+------+--------+-------------+---------+--------------------+------+-------------+--------------------+------+\n",
      "|            Sea Wolf|Logged In|   Brycen|     M|            0| Bradley|265.53424| paid|Laurel, MS|   PUT|NextSong|1538159495000|        9|       Ses Monuments|   200|1538965220000|\"Mozilla/5.0 (Mac...|    10|\n",
      "|George Baker Sele...|Logged In|   Brycen|     M|            1| Bradley| 200.4371| paid|Laurel, MS|   PUT|NextSong|1538159495000|        9|         Morning Sky|   200|1538965485000|\"Mozilla/5.0 (Mac...|    10|\n",
      "|          Klaus Lage|Logged In|   Brycen|     M|            2| Bradley|208.03873| paid|Laurel, MS|   PUT|NextSong|1538159495000|        9|Du Hast'n Freund ...|   200|1538965685000|\"Mozilla/5.0 (Mac...|    10|\n",
      "|         Dave Grusin|Logged In|   Brycen|     M|            3| Bradley|526.44526| paid|Laurel, MS|   PUT|NextSong|1538159495000|        9|             Playera|   200|1538965893000|\"Mozilla/5.0 (Mac...|    10|\n",
      "|    Blue Oyster Cult|Logged In|   Brycen|     M|            4| Bradley|272.06485| paid|Laurel, MS|   PUT|NextSong|1538159495000|        9|     Burnin' For You|   200|1538966419000|\"Mozilla/5.0 (Mac...|    10|\n",
      "+--------------------+---------+---------+------+-------------+--------+---------+-----+----------+------+--------+-------------+---------+--------------------+------+-------------+--------------------+------+\n",
      "\n"
     ]
    }
   ],
   "source": [
    "spark.sql('''\n",
    "          SELECT *\n",
    "          FROM user_table\n",
    "          WHERE userId = 10\n",
    "          LIMIT 5\n",
    "          '''\n",
    "          ).show()"
   ]
  },
  {
   "cell_type": "markdown",
   "metadata": {},
   "source": [
    "- <b>level</b> takes on the following values: free, paid\n",
    "> There have been a max of 195 users using the free service and 165 users using the paid service. This may be a useful variable."
   ]
  },
  {
   "cell_type": "code",
   "execution_count": 17,
   "metadata": {},
   "outputs": [
    {
     "name": "stdout",
     "output_type": "stream",
     "text": [
      "+-----+-----+\n",
      "|level|count|\n",
      "+-----+-----+\n",
      "| free|  195|\n",
      "| paid|  165|\n",
      "+-----+-----+\n",
      "\n"
     ]
    }
   ],
   "source": [
    "spark.sql('''\n",
    "          SELECT level, COUNT(DISTINCT userId) AS count\n",
    "          FROM user_table\n",
    "          GROUP BY 1\n",
    "          ORDER BY 2 DESC\n",
    "          '''\n",
    "          ).show()"
   ]
  },
  {
   "cell_type": "markdown",
   "metadata": {},
   "source": [
    "- <b>location</b> has the following format: city, state(2 digit abbreviation)\n",
    "> The variables I created, city and state are useful"
   ]
  },
  {
   "cell_type": "code",
   "execution_count": 18,
   "metadata": {
    "scrolled": true
   },
   "outputs": [
    {
     "name": "stdout",
     "output_type": "stream",
     "text": [
      "+---------------------------------------------+----------------------+\n",
      "|location                                     |count(DISTINCT userId)|\n",
      "+---------------------------------------------+----------------------+\n",
      "|Los Angeles-Long Beach-Anaheim, CA           |16                    |\n",
      "|New York-Newark-Jersey City, NY-NJ-PA        |15                    |\n",
      "|Dallas-Fort Worth-Arlington, TX              |7                     |\n",
      "|Phoenix-Mesa-Scottsdale, AZ                  |7                     |\n",
      "|Chicago-Naperville-Elgin, IL-IN-WI           |6                     |\n",
      "|Charlotte-Concord-Gastonia, NC-SC            |6                     |\n",
      "|St. Louis, MO-IL                             |6                     |\n",
      "|Boston-Cambridge-Newton, MA-NH               |5                     |\n",
      "|Philadelphia-Camden-Wilmington, PA-NJ-DE-MD  |5                     |\n",
      "|Miami-Fort Lauderdale-West Palm Beach, FL    |5                     |\n",
      "|Atlanta-Sandy Springs-Roswell, GA            |4                     |\n",
      "|Houston-The Woodlands-Sugar Land, TX         |4                     |\n",
      "|Washington-Arlington-Alexandria, DC-VA-MD-WV |4                     |\n",
      "|San Diego-Carlsbad, CA                       |3                     |\n",
      "|Las Vegas-Henderson-Paradise, NV             |3                     |\n",
      "|New Haven-Milford, CT                        |3                     |\n",
      "|Buffalo-Cheektowaga-Niagara Falls, NY        |2                     |\n",
      "|Greenville-Anderson-Mauldin, SC              |2                     |\n",
      "|San Francisco-Oakland-Hayward, CA            |2                     |\n",
      "|Denver-Aurora-Lakewood, CO                   |2                     |\n",
      "|Hartford-West Hartford-East Hartford, CT     |2                     |\n",
      "|Baltimore-Columbia-Towson, MD                |2                     |\n",
      "|Indianapolis-Carmel-Anderson, IN             |2                     |\n",
      "|Syracuse, NY                                 |2                     |\n",
      "|Providence-Warwick, RI-MA                    |2                     |\n",
      "|Columbus, GA-AL                              |2                     |\n",
      "|Minneapolis-St. Paul-Bloomington, MN-WI      |2                     |\n",
      "|Kansas City, MO-KS                           |2                     |\n",
      "|Cincinnati, OH-KY-IN                         |2                     |\n",
      "|Truckee-Grass Valley, CA                     |2                     |\n",
      "|Pittsburgh, PA                               |2                     |\n",
      "|Spokane-Spokane Valley, WA                   |2                     |\n",
      "|Flint, MI                                    |2                     |\n",
      "|Jackson, MS                                  |2                     |\n",
      "|Sacramento--Roseville--Arden-Arcade, CA      |2                     |\n",
      "|Tampa-St. Petersburg-Clearwater, FL          |2                     |\n",
      "|London, KY                                   |2                     |\n",
      "|San Antonio-New Braunfels, TX                |2                     |\n",
      "|Tallahassee, FL                              |2                     |\n",
      "|Virginia Beach-Norfolk-Newport News, VA-NC   |2                     |\n",
      "|Detroit-Warren-Dearborn, MI                  |2                     |\n",
      "|Seattle-Tacoma-Bellevue, WA                  |2                     |\n",
      "|Bridgeport-Stamford-Norwalk, CT              |2                     |\n",
      "|Portland-Vancouver-Hillsboro, OR-WA          |2                     |\n",
      "|Bakersfield, CA                              |1                     |\n",
      "|Cookeville, TN                               |1                     |\n",
      "|Cleveland-Elyria, OH                         |1                     |\n",
      "|North Wilkesboro, NC                         |1                     |\n",
      "|Atlantic City-Hammonton, NJ                  |1                     |\n",
      "|Corpus Christi, TX                           |1                     |\n",
      "|Birmingham-Hoover, AL                        |1                     |\n",
      "|Oklahoma City, OK                            |1                     |\n",
      "|Winston-Salem, NC                            |1                     |\n",
      "|Allentown-Bethlehem-Easton, PA-NJ            |1                     |\n",
      "|Kingsport-Bristol-Bristol, TN-VA             |1                     |\n",
      "|Selma, AL                                    |1                     |\n",
      "|Price, UT                                    |1                     |\n",
      "|Little Rock-North Little Rock-Conway, AR     |1                     |\n",
      "|Albany, OR                                   |1                     |\n",
      "|New Philadelphia-Dover, OH                   |1                     |\n",
      "|Anchorage, AK                                |1                     |\n",
      "|McAllen-Edinburg-Mission, TX                 |1                     |\n",
      "|Oxnard-Thousand Oaks-Ventura, CA             |1                     |\n",
      "|Memphis, TN-MS-AR                            |1                     |\n",
      "|San Jose-Sunnyvale-Santa Clara, CA           |1                     |\n",
      "|Dayton, OH                                   |1                     |\n",
      "|Napa, CA                                     |1                     |\n",
      "|Greensboro-High Point, NC                    |1                     |\n",
      "|Sterling, IL                                 |1                     |\n",
      "|Monroe, LA                                   |1                     |\n",
      "|Austin-Round Rock, TX                        |1                     |\n",
      "|Logan, UT-ID                                 |1                     |\n",
      "|Myrtle Beach-Conway-North Myrtle Beach, SC-NC|1                     |\n",
      "|Albany-Schenectady-Troy, NY                  |1                     |\n",
      "|Pontiac, IL                                  |1                     |\n",
      "|Orlando-Kissimmee-Sanford, FL                |1                     |\n",
      "|Port St. Lucie, FL                           |1                     |\n",
      "|Omaha-Council Bluffs, NE-IA                  |1                     |\n",
      "|Lexington-Fayette, KY                        |1                     |\n",
      "|Duluth, MN-WI                                |1                     |\n",
      "|Roanoke, VA                                  |1                     |\n",
      "|Troy, AL                                     |1                     |\n",
      "|Danville, VA                                 |1                     |\n",
      "|Milwaukee-Waukesha-West Allis, WI            |1                     |\n",
      "|Boulder, CO                                  |1                     |\n",
      "|Vineland-Bridgeton, NJ                       |1                     |\n",
      "|Salinas, CA                                  |1                     |\n",
      "|Manchester-Nashua, NH                        |1                     |\n",
      "|Louisville/Jefferson County, KY-IN           |1                     |\n",
      "|Bozeman, MT                                  |1                     |\n",
      "|Quincy, IL-MO                                |1                     |\n",
      "|Jacksonville, FL                             |1                     |\n",
      "|Fairbanks, AK                                |1                     |\n",
      "|Montgomery, AL                               |1                     |\n",
      "|Raleigh, NC                                  |1                     |\n",
      "|Laurel, MS                                   |1                     |\n",
      "|Riverside-San Bernardino-Ontario, CA         |1                     |\n",
      "|Concord, NH                                  |1                     |\n",
      "|Stockton-Lodi, CA                            |1                     |\n",
      "|Billings, MT                                 |1                     |\n",
      "+---------------------------------------------+----------------------+\n",
      "only showing top 100 rows\n",
      "\n"
     ]
    }
   ],
   "source": [
    "spark.sql('''\n",
    "          SELECT location, COUNT(DISTINCT userId)\n",
    "          FROM user_table\n",
    "          GROUP BY 1\n",
    "          ORDER BY 2 DESC\n",
    "          '''\n",
    "          ).show(100, truncate = False)"
   ]
  },
  {
   "cell_type": "code",
   "execution_count": 19,
   "metadata": {},
   "outputs": [],
   "source": [
    "# new column city\n",
    "df = df.withColumn('city', split(df['location'], ',').getItem(0))\n",
    "df = df.withColumn('city', split(df['city'], '-').getItem(0))\n",
    "# new column state\n",
    "df = df.withColumn('state', split(df['location'], ',').getItem(1))\n",
    "df = df.withColumn('state', split(df['state'], '-').getItem(0))\n",
    "# creating an updated view\n",
    "df.createOrReplaceTempView('user_table')"
   ]
  },
  {
   "cell_type": "code",
   "execution_count": 20,
   "metadata": {},
   "outputs": [
    {
     "name": "stdout",
     "output_type": "stream",
     "text": [
      "+---------------------------+----------------------+\n",
      "|city                       |count(DISTINCT userId)|\n",
      "+---------------------------+----------------------+\n",
      "|Los Angeles                |16                    |\n",
      "|New York                   |15                    |\n",
      "|Dallas                     |7                     |\n",
      "|Phoenix                    |7                     |\n",
      "|Chicago                    |6                     |\n",
      "|Charlotte                  |6                     |\n",
      "|St. Louis                  |6                     |\n",
      "|Miami                      |5                     |\n",
      "|Philadelphia               |5                     |\n",
      "|Boston                     |5                     |\n",
      "|Atlanta                    |4                     |\n",
      "|Houston                    |4                     |\n",
      "|Washington                 |4                     |\n",
      "|Las Vegas                  |3                     |\n",
      "|San Diego                  |3                     |\n",
      "|New Haven                  |3                     |\n",
      "|Sacramento                 |2                     |\n",
      "|Flint                      |2                     |\n",
      "|Baltimore                  |2                     |\n",
      "|San Antonio                |2                     |\n",
      "|Portland                   |2                     |\n",
      "|Hartford                   |2                     |\n",
      "|Truckee                    |2                     |\n",
      "|Pittsburgh                 |2                     |\n",
      "|Indianapolis               |2                     |\n",
      "|Tampa                      |2                     |\n",
      "|Jackson                    |2                     |\n",
      "|San Francisco              |2                     |\n",
      "|Greenville                 |2                     |\n",
      "|Denver                     |2                     |\n",
      "|Seattle                    |2                     |\n",
      "|Detroit                    |2                     |\n",
      "|Kansas City                |2                     |\n",
      "|Bridgeport                 |2                     |\n",
      "|Albany                     |2                     |\n",
      "|Spokane                    |2                     |\n",
      "|London                     |2                     |\n",
      "|Tallahassee                |2                     |\n",
      "|Columbus                   |2                     |\n",
      "|Minneapolis                |2                     |\n",
      "|Jacksonville               |2                     |\n",
      "|Virginia Beach             |2                     |\n",
      "|Buffalo                    |2                     |\n",
      "|Cincinnati                 |2                     |\n",
      "|Providence                 |2                     |\n",
      "|Syracuse                   |2                     |\n",
      "|Cleveland                  |1                     |\n",
      "|Ionia                      |1                     |\n",
      "|Sterling                   |1                     |\n",
      "|Winston                    |1                     |\n",
      "|Napa                       |1                     |\n",
      "|Morgantown                 |1                     |\n",
      "|Anchorage                  |1                     |\n",
      "|Montgomery                 |1                     |\n",
      "|Port St. Lucie             |1                     |\n",
      "|Alexandria                 |1                     |\n",
      "|Raleigh                    |1                     |\n",
      "|Milwaukee                  |1                     |\n",
      "|Greensboro                 |1                     |\n",
      "|Allentown                  |1                     |\n",
      "|Manchester                 |1                     |\n",
      "|Gainesville                |1                     |\n",
      "|Bakersfield                |1                     |\n",
      "|Oxnard                     |1                     |\n",
      "|Dayton                     |1                     |\n",
      "|Santa Maria                |1                     |\n",
      "|Riverside                  |1                     |\n",
      "|Boulder                    |1                     |\n",
      "|North Wilkesboro           |1                     |\n",
      "|Hagerstown                 |1                     |\n",
      "|Scranton                   |1                     |\n",
      "|Atlantic City              |1                     |\n",
      "|Oklahoma City              |1                     |\n",
      "|Lexington                  |1                     |\n",
      "|Birmingham                 |1                     |\n",
      "|Myrtle Beach               |1                     |\n",
      "|Dubuque                    |1                     |\n",
      "|McAllen                    |1                     |\n",
      "|Muncie                     |1                     |\n",
      "|Selma                      |1                     |\n",
      "|Quincy                     |1                     |\n",
      "|Roanoke                    |1                     |\n",
      "|Duluth                     |1                     |\n",
      "|Vineland                   |1                     |\n",
      "|Memphis                    |1                     |\n",
      "|Logan                      |1                     |\n",
      "|Austin                     |1                     |\n",
      "|Danville                   |1                     |\n",
      "|Corpus Christi             |1                     |\n",
      "|Pontiac                    |1                     |\n",
      "|Louisville/Jefferson County|1                     |\n",
      "|Little Rock                |1                     |\n",
      "|Laurel                     |1                     |\n",
      "|Salinas                    |1                     |\n",
      "|San Jose                   |1                     |\n",
      "|Troy                       |1                     |\n",
      "|Billings                   |1                     |\n",
      "|Stockton                   |1                     |\n",
      "|Bozeman                    |1                     |\n",
      "|Deltona                    |1                     |\n",
      "+---------------------------+----------------------+\n",
      "only showing top 100 rows\n",
      "\n"
     ]
    }
   ],
   "source": [
    "spark.sql('''\n",
    "          SELECT city, COUNT(DISTINCT userId)\n",
    "          FROM user_table\n",
    "          GROUP BY 1\n",
    "          ORDER BY 2 DESC\n",
    "          '''\n",
    "          ).show(100, truncate = False)"
   ]
  },
  {
   "cell_type": "code",
   "execution_count": 21,
   "metadata": {
    "scrolled": true
   },
   "outputs": [
    {
     "data": {
      "image/png": "[encoded data removed]",
      "text/plain": [
       "<Figure size 1440x1440 with 1 Axes>"
      ]
     },
     "metadata": {
      "needs_background": "light"
     },
     "output_type": "display_data"
    }
   ],
   "source": [
    "city_count = spark.sql('''\n",
    "                       SELECT city, COUNT(DISTINCT userId) AS count\n",
    "                       FROM user_table\n",
    "                       GROUP BY 1\n",
    "                       ORDER BY 2 DESC\n",
    "                       '''\n",
    "                       ).toPandas()\n",
    "\n",
    "plt.figure(figsize = (20,20))\n",
    "city_count.groupby('city')['count'].sum().sort_values(ascending=False).plot.bar()\n",
    "plt.xlabel('City')\n",
    "plt.ylabel('Count')\n",
    "plt.title('User Counts by City');"
   ]
  },
  {
   "cell_type": "code",
   "execution_count": 22,
   "metadata": {
    "scrolled": true
   },
   "outputs": [
    {
     "name": "stdout",
     "output_type": "stream",
     "text": [
      "+-----+----------------------+\n",
      "|state|count(DISTINCT userId)|\n",
      "+-----+----------------------+\n",
      "|   CA|                    33|\n",
      "|   NY|                    20|\n",
      "|   TX|                    16|\n",
      "|   FL|                    14|\n",
      "|   NC|                    12|\n",
      "|   IL|                    10|\n",
      "|   PA|                     9|\n",
      "|   MO|                     8|\n",
      "|   CT|                     7|\n",
      "|   AZ|                     7|\n",
      "|   GA|                     6|\n",
      "|   MA|                     5|\n",
      "|   OH|                     5|\n",
      "|   MI|                     5|\n",
      "|   KY|                     4|\n",
      "|   VA|                     4|\n",
      "|   CO|                     4|\n",
      "|   WA|                     4|\n",
      "|   DC|                     4|\n",
      "|   AL|                     4|\n",
      "|   MD|                     3|\n",
      "|   IN|                     3|\n",
      "|   NV|                     3|\n",
      "|   OR|                     3|\n",
      "|   MS|                     3|\n",
      "|   SC|                     3|\n",
      "|   TN|                     3|\n",
      "|   MN|                     3|\n",
      "|   NH|                     2|\n",
      "|   AK|                     2|\n",
      "|   RI|                     2|\n",
      "|   NJ|                     2|\n",
      "|   MT|                     2|\n",
      "|   LA|                     2|\n",
      "|   UT|                     2|\n",
      "|   NE|                     1|\n",
      "|   WV|                     1|\n",
      "|   AR|                     1|\n",
      "|   WI|                     1|\n",
      "|   OK|                     1|\n",
      "|   IA|                     1|\n",
      "+-----+----------------------+\n",
      "\n"
     ]
    }
   ],
   "source": [
    "spark.sql('''\n",
    "          SELECT state, COUNT(DISTINCT userId)\n",
    "          FROM user_table\n",
    "          GROUP BY 1\n",
    "          ORDER BY 2 DESC\n",
    "          '''\n",
    "          ).show(52)"
   ]
  },
  {
   "cell_type": "code",
   "execution_count": 23,
   "metadata": {},
   "outputs": [
    {
     "data": {
      "image/png": "[encoded data removed]",
      "text/plain": [
       "<Figure size 1440x1440 with 1 Axes>"
      ]
     },
     "metadata": {
      "needs_background": "light"
     },
     "output_type": "display_data"
    }
   ],
   "source": [
    "state_count = spark.sql('''\n",
    "                        SELECT state, COUNT(DISTINCT userId) AS count\n",
    "                        FROM user_table\n",
    "                        GROUP BY 1\n",
    "                        ORDER BY 2 DESC\n",
    "                        '''\n",
    "                        ).toPandas()\n",
    "\n",
    "plt.figure(figsize = (20,20))\n",
    "state_count.groupby('state')['count'].sum().sort_values(ascending=False).plot.bar()\n",
    "plt.xlabel('State')\n",
    "plt.ylabel('Count')\n",
    "plt.title('User Counts by State');"
   ]
  },
  {
   "cell_type": "markdown",
   "metadata": {},
   "source": [
    "- <b>method</b> has the following values: PUT, GET\n",
    "> It is correlated to all the null values from artist, song, and length we discovered while cleaning. Not quite sure what this variable means so it wont be useful. "
   ]
  },
  {
   "cell_type": "code",
   "execution_count": 24,
   "metadata": {
    "scrolled": true
   },
   "outputs": [
    {
     "name": "stdout",
     "output_type": "stream",
     "text": [
      "+------+\n",
      "|method|\n",
      "+------+\n",
      "|   PUT|\n",
      "|   GET|\n",
      "+------+\n",
      "\n"
     ]
    }
   ],
   "source": [
    "spark.sql('''\n",
    "          SELECT DISTINCT method\n",
    "          FROM user_table\n",
    "          '''\n",
    "          ).show()"
   ]
  },
  {
   "cell_type": "code",
   "execution_count": 25,
   "metadata": {},
   "outputs": [
    {
     "name": "stdout",
     "output_type": "stream",
     "text": [
      "+------+---------+---------+------+-------------+--------+------+-----+--------------------+------+-----------+-------------+---------+----+------+-------------+--------------------+------+---------+-----+\n",
      "|artist|     auth|firstName|gender|itemInSession|lastName|length|level|            location|method|       page| registration|sessionId|song|status|           ts|           userAgent|userId|     city|state|\n",
      "+------+---------+---------+------+-------------+--------+------+-----+--------------------+------+-----------+-------------+---------+----+------+-------------+--------------------+------+---------+-----+\n",
      "|  null|Logged In|    Micah|     M|           84|    Long|  null| free|Boston-Cambridge-...|   GET|Roll Advert|1538331630000|        8|null|   200|1538353150000|\"Mozilla/5.0 (Win...|     9|   Boston|   MA|\n",
      "|  null|Logged In|    Alexi|     F|            4|  Warren|  null| paid|Spokane-Spokane V...|   GET|  Downgrade|1532482662000|       53|null|   200|1538354749000|Mozilla/5.0 (Wind...|    54|  Spokane|   WA|\n",
      "|  null|Logged In|    Micah|     M|           97|    Long|  null| free|Boston-Cambridge-...|   GET|       Home|1538331630000|        8|null|   200|1538355504000|\"Mozilla/5.0 (Win...|     9|   Boston|   MA|\n",
      "|  null|Logged In|    Micah|     M|          104|    Long|  null| free|Boston-Cambridge-...|   GET|       Home|1538331630000|        8|null|   200|1538355855000|\"Mozilla/5.0 (Win...|     9|   Boston|   MA|\n",
      "|  null|Logged In|   Warren|     M|            4|  Miller|  null| free|Baltimore-Columbi...|   GET|       Home|1538169823000|      240|null|   200|1538356686000|Mozilla/5.0 (Wind...|     4|Baltimore|   MD|\n",
      "+------+---------+---------+------+-------------+--------+------+-----+--------------------+------+-----------+-------------+---------+----+------+-------------+--------------------+------+---------+-----+\n",
      "\n"
     ]
    }
   ],
   "source": [
    "spark.sql('''\n",
    "          SELECT *\n",
    "          FROM user_table\n",
    "          WHERE method = 'GET'\n",
    "          LIMIT 5\n",
    "          '''\n",
    "          ).show()"
   ]
  },
  {
   "cell_type": "markdown",
   "metadata": {},
   "source": [
    "- <b>page</b> is the most insightful variable of the current users behaviour with the following values:\n",
    ">Cancel<br>\n",
    ">Submit Downgrade<br>\n",
    ">Thumbs Down<br>\n",
    ">Home<br>\n",
    ">Downgrade<br>\n",
    ">Roll Advert<br>\n",
    ">Logout<br>\n",
    ">Save Settings<br>\n",
    ">Cancellation Confirmation<br>\n",
    ">About<br>\n",
    ">Settings<br>\n",
    ">Add to Playlist<br>\n",
    ">Add Friend<br>\n",
    ">NextSong<br>\n",
    ">Thumbs Up<br>\n",
    ">Help<br>\n",
    ">Upgrade<br>\n",
    ">Error<br>\n",
    ">Submit Upgrade<br>\n",
    "<br>\n",
    "> This variable will be useful<br>\n",
    "\n"
   ]
  },
  {
   "cell_type": "code",
   "execution_count": 26,
   "metadata": {},
   "outputs": [
    {
     "name": "stdout",
     "output_type": "stream",
     "text": [
      "+--------------------+-------------+\n",
      "|                page|count(userId)|\n",
      "+--------------------+-------------+\n",
      "|            NextSong|       228108|\n",
      "|           Thumbs Up|        12551|\n",
      "|                Home|        10082|\n",
      "|     Add to Playlist|         6526|\n",
      "|          Add Friend|         4277|\n",
      "|         Roll Advert|         3933|\n",
      "|              Logout|         3226|\n",
      "|         Thumbs Down|         2546|\n",
      "|           Downgrade|         2055|\n",
      "|            Settings|         1514|\n",
      "|                Help|         1454|\n",
      "|             Upgrade|          499|\n",
      "|               About|          495|\n",
      "|       Save Settings|          310|\n",
      "|               Error|          252|\n",
      "|      Submit Upgrade|          159|\n",
      "|    Submit Downgrade|           63|\n",
      "|              Cancel|           52|\n",
      "|Cancellation Conf...|           52|\n",
      "+--------------------+-------------+\n",
      "\n"
     ]
    }
   ],
   "source": [
    "spark.sql('''\n",
    "          SELECT page, COUNT(userId)\n",
    "          FROM user_table\n",
    "          GROUP BY 1\n",
    "          ORDER BY 2 DESC\n",
    "          '''\n",
    "          ).show()"
   ]
  },
  {
   "cell_type": "markdown",
   "metadata": {},
   "source": [
    "- <b>registration</b>: formatted in a 13 digit unixtime format which appears to be the time of registration\n",
    "> This variable will be useful as the registrationTimestamp variable I created."
   ]
  },
  {
   "cell_type": "code",
   "execution_count": 27,
   "metadata": {},
   "outputs": [
    {
     "name": "stdout",
     "output_type": "stream",
     "text": [
      "+-------------+---------------------+\n",
      "| registration|registrationTimestamp|\n",
      "+-------------+---------------------+\n",
      "|1521380675000|  2018-03-18 09:44:35|\n",
      "|1526739206000|  2018-05-19 10:13:26|\n",
      "|1526838391000|  2018-05-20 13:46:31|\n",
      "|1528403713000|  2018-06-07 16:35:13|\n",
      "|1528560242000|  2018-06-09 12:04:02|\n",
      "+-------------+---------------------+\n",
      "\n"
     ]
    }
   ],
   "source": [
    "dateTime = udf(lambda x: datetime.datetime.fromtimestamp(int(x) / 1000.0).strftime('%Y-%m-%d %H:%M:%S'))\n",
    "df = df.withColumn('registrationTimestamp', dateTime('registration'))\n",
    "df.createOrReplaceTempView('user_table')\n",
    "\n",
    "spark.sql('''\n",
    "          SELECT DISTINCT registration, registrationTimestamp\n",
    "          FROM user_table\n",
    "          ORDER BY 1 ASC\n",
    "          LIMIT 5\n",
    "          '''\n",
    "          ).show()"
   ]
  },
  {
   "cell_type": "code",
   "execution_count": 28,
   "metadata": {
    "scrolled": true
   },
   "outputs": [
    {
     "data": {
      "image/png": "[encoded data removed]",
      "text/plain": [
       "<Figure size 432x288 with 1 Axes>"
      ]
     },
     "metadata": {
      "needs_background": "light"
     },
     "output_type": "display_data"
    }
   ],
   "source": [
    "hour = udf(lambda x: datetime.datetime.fromtimestamp(int(x) / 1000.0).hour, IntegerType())\n",
    "df = df.withColumn('registrationHour', hour('registration'))\n",
    "df.createOrReplaceTempView('user_table')\n",
    "\n",
    "reg_hour_count = spark.sql('''\n",
    "                           SELECT registrationHour, COUNT(DISTINCT userId) AS count\n",
    "                           FROM user_table\n",
    "                           GROUP BY 1\n",
    "                           ORDER BY 1 ASC\n",
    "                           '''\n",
    "                           ).toPandas()\n",
    "\n",
    "reg_hour_count.groupby('registrationHour')['count'].sum().plot.bar()\n",
    "plt.xlabel('Hour')\n",
    "plt.ylabel('Count')\n",
    "plt.title('Registration Count at Each Hour');"
   ]
  },
  {
   "cell_type": "code",
   "execution_count": 29,
   "metadata": {
    "scrolled": false
   },
   "outputs": [
    {
     "data": {
      "image/png": "[encoded data removed]",
      "text/plain": [
       "<Figure size 1080x1080 with 1 Axes>"
      ]
     },
     "metadata": {
      "needs_background": "light"
     },
     "output_type": "display_data"
    }
   ],
   "source": [
    "date = udf(lambda x: datetime.datetime.fromtimestamp(int(x) / 1000.0).strftime('%Y-%m-%d'))\n",
    "df = df.withColumn('registrationDay', date('registration'))\n",
    "df.createOrReplaceTempView('user_table')\n",
    "\n",
    "reg_day_count = spark.sql('''\n",
    "                           SELECT registrationDay, COUNT(DISTINCT userId) AS count\n",
    "                           FROM user_table\n",
    "                           GROUP BY 1\n",
    "                           ORDER BY 1 ASC\n",
    "                           '''\n",
    "                           ).toPandas()\n",
    "\n",
    "plt.figure(figsize=(15,15))\n",
    "reg_day_count.groupby('registrationDay')['count'].sum().plot.bar()\n",
    "plt.xlabel('Day')\n",
    "plt.ylabel('Count')\n",
    "plt.title('Registration Count Each Day');"
   ]
  },
  {
   "cell_type": "markdown",
   "metadata": {},
   "source": [
    "- <b>sessionId</b>: doesn't seem to be unique to any user or increment.\n",
    "> This variable will not be useful."
   ]
  },
  {
   "cell_type": "code",
   "execution_count": 30,
   "metadata": {},
   "outputs": [
    {
     "data": {
      "image/png": "[encoded data removed]",
      "text/plain": [
       "<Figure size 1440x1440 with 1 Axes>"
      ]
     },
     "metadata": {
      "needs_background": "light"
     },
     "output_type": "display_data"
    }
   ],
   "source": [
    "sessionId_count = spark.sql('''\n",
    "                            SELECT sessionId, COUNT(DISTINCT userId) AS count\n",
    "                            FROM user_table\n",
    "                            GROUP BY 1\n",
    "                            ORDER BY 1 ASC\n",
    "                            LIMIT 50\n",
    "                            '''\n",
    "                            ).toPandas()\n",
    "\n",
    "sessionId_count.sessionId.astype('int64')\n",
    "plt.figure(figsize=(20,20))\n",
    "sessionId_count.groupby('sessionId')['count'].sum().plot.bar()\n",
    "plt.xlabel('Session Id')\n",
    "plt.ylabel('Count')\n",
    "plt.title('Session Id Count');"
   ]
  },
  {
   "cell_type": "code",
   "execution_count": 31,
   "metadata": {},
   "outputs": [
    {
     "name": "stdout",
     "output_type": "stream",
     "text": [
      "+----+---------+\n",
      "|page|sessionId|\n",
      "+----+---------+\n",
      "|Home|        8|\n",
      "|Home|        8|\n",
      "|Home|      240|\n",
      "|Home|      240|\n",
      "|Home|      100|\n",
      "|Home|      187|\n",
      "|Home|      241|\n",
      "|Home|      100|\n",
      "|Home|      187|\n",
      "|Home|      187|\n",
      "|Home|      187|\n",
      "|Home|      187|\n",
      "|Home|      222|\n",
      "|Home|      100|\n",
      "|Home|      141|\n",
      "|Home|      255|\n",
      "|Home|      141|\n",
      "|Home|      267|\n",
      "|Home|       86|\n",
      "|Home|      266|\n",
      "+----+---------+\n",
      "\n"
     ]
    }
   ],
   "source": [
    "spark.sql('''\n",
    "          SELECT page, sessionId\n",
    "          FROM user_table\n",
    "          WHERE page = 'Home'\n",
    "          LIMIT 20\n",
    "          '''\n",
    "          ).show()"
   ]
  },
  {
   "cell_type": "markdown",
   "metadata": {},
   "source": [
    "<b>status</b> takes on the following values: 200, 307, 400\n",
    "> 200 -> Next Song<br>\n",
    "> 307 -> Thumbs Up, Thumbs Down, Logout<br>\n",
    "> 400 -> error<br>\n",
    "<br>\n",
    "> Other variables show us this same information. This variable is not useful."
   ]
  },
  {
   "cell_type": "code",
   "execution_count": 32,
   "metadata": {},
   "outputs": [
    {
     "name": "stdout",
     "output_type": "stream",
     "text": [
      "+------+\n",
      "|status|\n",
      "+------+\n",
      "|   200|\n",
      "|   307|\n",
      "|   404|\n",
      "+------+\n",
      "\n"
     ]
    }
   ],
   "source": [
    "spark.sql('''\n",
    "          SELECT DISTINCT status\n",
    "          FROM user_table\n",
    "          ORDER BY 1 ASC\n",
    "          '''\n",
    "          ).show()"
   ]
  },
  {
   "cell_type": "code",
   "execution_count": 33,
   "metadata": {},
   "outputs": [
    {
     "name": "stdout",
     "output_type": "stream",
     "text": [
      "+----------------+---------+---------+------+-------------+--------+---------+-----+--------------------+------+--------+-------------+---------+--------------------+------+-------------+--------------------+------+-----------+-----+---------------------+----------------+---------------+\n",
      "|          artist|     auth|firstName|gender|itemInSession|lastName|   length|level|            location|method|    page| registration|sessionId|                song|status|           ts|           userAgent|userId|       city|state|registrationTimestamp|registrationHour|registrationDay|\n",
      "+----------------+---------+---------+------+-------------+--------+---------+-----+--------------------+------+--------+-------------+---------+--------------------+------+-------------+--------------------+------+-----------+-----+---------------------+----------------+---------------+\n",
      "|  Martha Tilston|Logged In|    Colin|     M|           50| Freeman|277.89016| paid|     Bakersfield, CA|   PUT|NextSong|1538173362000|       29|           Rockpools|   200|1538352117000|Mozilla/5.0 (Wind...|    30|Bakersfield|   CA|  2018-09-28 18:22:42|              18|     2018-09-28|\n",
      "|Five Iron Frenzy|Logged In|    Micah|     M|           79|    Long|236.09424| free|Boston-Cambridge-...|   PUT|NextSong|1538331630000|        8|              Canada|   200|1538352180000|\"Mozilla/5.0 (Win...|     9|     Boston|   MA|  2018-09-30 14:20:30|              14|     2018-09-30|\n",
      "|    Adam Lambert|Logged In|    Colin|     M|           51| Freeman| 282.8273| paid|     Bakersfield, CA|   PUT|NextSong|1538173362000|       29|   Time For Miracles|   200|1538352394000|Mozilla/5.0 (Wind...|    30|Bakersfield|   CA|  2018-09-28 18:22:42|              18|     2018-09-28|\n",
      "|          Enigma|Logged In|    Micah|     M|           80|    Long|262.71302| free|Boston-Cambridge-...|   PUT|NextSong|1538331630000|        8|Knocking On Forbi...|   200|1538352416000|\"Mozilla/5.0 (Win...|     9|     Boston|   MA|  2018-09-30 14:20:30|              14|     2018-09-30|\n",
      "|       Daft Punk|Logged In|    Colin|     M|           52| Freeman|223.60771| paid|     Bakersfield, CA|   PUT|NextSong|1538173362000|       29|Harder Better Fas...|   200|1538352676000|Mozilla/5.0 (Wind...|    30|Bakersfield|   CA|  2018-09-28 18:22:42|              18|     2018-09-28|\n",
      "+----------------+---------+---------+------+-------------+--------+---------+-----+--------------------+------+--------+-------------+---------+--------------------+------+-------------+--------------------+------+-----------+-----+---------------------+----------------+---------------+\n",
      "only showing top 5 rows\n",
      "\n"
     ]
    }
   ],
   "source": [
    "spark.sql('''\n",
    "          SELECT *\n",
    "          FROM user_table\n",
    "          WHERE status = 200\n",
    "          '''\n",
    "          ).show(5)"
   ]
  },
  {
   "cell_type": "code",
   "execution_count": 34,
   "metadata": {},
   "outputs": [
    {
     "name": "stdout",
     "output_type": "stream",
     "text": [
      "+------+---------+---------+------+-------------+--------+------+-----+--------------------+------+-----------+-------------+---------+----+------+-------------+--------------------+------+-----------+-----+---------------------+----------------+---------------+\n",
      "|artist|     auth|firstName|gender|itemInSession|lastName|length|level|            location|method|       page| registration|sessionId|song|status|           ts|           userAgent|userId|       city|state|registrationTimestamp|registrationHour|registrationDay|\n",
      "+------+---------+---------+------+-------------+--------+------+-----+--------------------+------+-----------+-------------+---------+----+------+-------------+--------------------+------+-----------+-----+---------------------+----------------+---------------+\n",
      "|  null|Logged In|    Micah|     M|           86|    Long|  null| free|Boston-Cambridge-...|   PUT|  Thumbs Up|1538331630000|        8|null|   307|1538353376000|\"Mozilla/5.0 (Win...|     9|     Boston|   MA|  2018-09-30 14:20:30|              14|     2018-09-30|\n",
      "|  null|Logged In|    Alexi|     F|            7|  Warren|  null| paid|Spokane-Spokane V...|   PUT|  Thumbs Up|1532482662000|       53|null|   307|1538355255000|Mozilla/5.0 (Wind...|    54|    Spokane|   WA|  2018-07-24 21:37:42|              21|     2018-07-24|\n",
      "|  null|Logged In|    Micah|     M|           95|    Long|  null| free|Boston-Cambridge-...|   PUT|Thumbs Down|1538331630000|        8|null|   307|1538355306000|\"Mozilla/5.0 (Win...|     9|     Boston|   MA|  2018-09-30 14:20:30|              14|     2018-09-30|\n",
      "|  null|Logged In|    Micah|     M|           99|    Long|  null| free|Boston-Cambridge-...|   PUT|     Logout|1538331630000|        8|null|   307|1538355687000|\"Mozilla/5.0 (Win...|     9|     Boston|   MA|  2018-09-30 14:20:30|              14|     2018-09-30|\n",
      "|  null|Logged In|  Ashlynn|     F|            9|Williams|  null| free|     Tallahassee, FL|   PUT|  Thumbs Up|1537365219000|      217|null|   307|1538355711000|\"Mozilla/5.0 (Mac...|    74|Tallahassee|   FL|  2018-09-19 09:53:39|               9|     2018-09-19|\n",
      "+------+---------+---------+------+-------------+--------+------+-----+--------------------+------+-----------+-------------+---------+----+------+-------------+--------------------+------+-----------+-----+---------------------+----------------+---------------+\n",
      "only showing top 5 rows\n",
      "\n"
     ]
    }
   ],
   "source": [
    "spark.sql('''\n",
    "          SELECT *\n",
    "          FROM user_table\n",
    "          WHERE status = 307\n",
    "          '''\n",
    "          ).show(5)"
   ]
  },
  {
   "cell_type": "code",
   "execution_count": 35,
   "metadata": {},
   "outputs": [
    {
     "name": "stdout",
     "output_type": "stream",
     "text": [
      "+------+---------+---------+------+-------------+--------+------+-----+--------------------+------+-----+-------------+---------+----+------+-------------+--------------------+------+--------------------+-----+---------------------+----------------+---------------+\n",
      "|artist|     auth|firstName|gender|itemInSession|lastName|length|level|            location|method| page| registration|sessionId|song|status|           ts|           userAgent|userId|                city|state|registrationTimestamp|registrationHour|registrationDay|\n",
      "+------+---------+---------+------+-------------+--------+------+-----+--------------------+------+-----+-------------+---------+----+------+-------------+--------------------+------+--------------------+-----+---------------------+----------------+---------------+\n",
      "|  null|Logged In|     Kael|     M|           48|   Baker|  null| paid|Kingsport-Bristol...|   GET|Error|1533102330000|      249|null|   404|1538393848000|\"Mozilla/5.0 (Mac...|   131|           Kingsport|   TN|  2018-08-01 01:45:30|               1|     2018-08-01|\n",
      "|  null|Logged In|   Lucero|     F|           10|    Reed|  null| free|Louisville/Jeffer...|   GET|Error|1536642109000|      139|null|   404|1538407927000|\"Mozilla/5.0 (Win...|   140|Louisville/Jeffer...|   KY|  2018-09-11 01:01:49|               1|     2018-09-11|\n",
      "|  null|Logged In|Sebastian|     M|           38|    Wang|  null| free|         Jackson, MS|   GET|Error|1538050164000|       52|null|   404|1538425401000|\"Mozilla/5.0 (Mac...|    53|             Jackson|   MS|  2018-09-27 08:09:24|               8|     2018-09-27|\n",
      "|  null|Logged In|    Micah|     M|           38|    Long|  null| free|Boston-Cambridge-...|   GET|Error|1538331630000|      262|null|   404|1538489751000|\"Mozilla/5.0 (Win...|     9|              Boston|   MA|  2018-09-30 14:20:30|              14|     2018-09-30|\n",
      "|  null|Logged In|   Payton|     F|           19|Campbell|  null| free|Los Angeles-Long ...|   GET|Error|1529027541000|      354|null|   404|1538515176000|\"Mozilla/5.0 (Win...|    39|         Los Angeles|   CA|  2018-06-14 21:52:21|              21|     2018-06-14|\n",
      "+------+---------+---------+------+-------------+--------+------+-----+--------------------+------+-----+-------------+---------+----+------+-------------+--------------------+------+--------------------+-----+---------------------+----------------+---------------+\n",
      "only showing top 5 rows\n",
      "\n"
     ]
    }
   ],
   "source": [
    "spark.sql('''\n",
    "          SELECT *\n",
    "          FROM user_table\n",
    "          WHERE status = 404\n",
    "          '''\n",
    "          ).show(5)"
   ]
  },
  {
   "cell_type": "markdown",
   "metadata": {},
   "source": [
    "<b>ts</b> is in 13 digit unixtime which shows the time that the page was visited.\n",
    "> The variable timstamp I created will be useful."
   ]
  },
  {
   "cell_type": "code",
   "execution_count": 36,
   "metadata": {},
   "outputs": [],
   "source": [
    "dateTime = udf(lambda x: datetime.datetime.fromtimestamp(int(x) / 1000.0).strftime('%Y-%m-%d %H:%M:%S'))\n",
    "df = df.withColumn('timestamp', dateTime('ts'))\n",
    "df.createOrReplaceTempView('user_table')"
   ]
  },
  {
   "cell_type": "code",
   "execution_count": 37,
   "metadata": {},
   "outputs": [
    {
     "name": "stdout",
     "output_type": "stream",
     "text": [
      "+-------------+-------------------+\n",
      "|           ts|          timestamp|\n",
      "+-------------+-------------------+\n",
      "|1538352117000|2018-09-30 20:01:57|\n",
      "|1538352180000|2018-09-30 20:03:00|\n",
      "|1538352394000|2018-09-30 20:06:34|\n",
      "|1538352416000|2018-09-30 20:06:56|\n",
      "|1538352676000|2018-09-30 20:11:16|\n",
      "+-------------+-------------------+\n",
      "\n"
     ]
    }
   ],
   "source": [
    "spark.sql('''\n",
    "          SELECT ts, timestamp\n",
    "          FROM user_table\n",
    "          ORDER BY 1 ASC\n",
    "          LIMIT 5\n",
    "          '''\n",
    "          ).show()"
   ]
  },
  {
   "cell_type": "code",
   "execution_count": 38,
   "metadata": {},
   "outputs": [
    {
     "data": {
      "image/png": "[encoded data removed]",
      "text/plain": [
       "<Figure size 432x288 with 1 Axes>"
      ]
     },
     "metadata": {
      "needs_background": "light"
     },
     "output_type": "display_data"
    }
   ],
   "source": [
    "hour = udf(lambda x: datetime.datetime.fromtimestamp(int(x) / 1000.0).hour, IntegerType())\n",
    "df = df.withColumn('timestampHour', hour('ts'))\n",
    "df.createOrReplaceTempView('user_table')\n",
    "\n",
    "ts_hour_count = spark.sql('''\n",
    "                          SELECT timestampHour, COUNT(DISTINCT userId) AS count\n",
    "                          FROM user_table\n",
    "                          GROUP BY 1\n",
    "                          ORDER BY 1 ASC\n",
    "                          '''\n",
    "                          ).toPandas()\n",
    "\n",
    "ts_hour_count.groupby('timestampHour')['count'].sum().plot.bar()\n",
    "plt.xlabel('Hour')\n",
    "plt.ylabel('Count')\n",
    "plt.title('Page Interaction Count at Each Hour');"
   ]
  },
  {
   "cell_type": "code",
   "execution_count": 39,
   "metadata": {},
   "outputs": [
    {
     "name": "stdout",
     "output_type": "stream",
     "text": [
      "+--------------------+------------------+\n",
      "|                page|avg(timestampHour)|\n",
      "+--------------------+------------------+\n",
      "|    Submit Downgrade|10.301587301587302|\n",
      "|               Error|11.031746031746032|\n",
      "|      Submit Upgrade|11.176100628930818|\n",
      "|               About|11.296969696969697|\n",
      "|            Settings|11.479524438573316|\n",
      "|             Upgrade|11.557114228456914|\n",
      "|                Home|11.569728228526087|\n",
      "|       Save Settings|11.619354838709677|\n",
      "|              Logout|11.646311221326721|\n",
      "|           Thumbs Up|11.710301967970679|\n",
      "|            NextSong|11.732745015518965|\n",
      "|           Downgrade| 11.74403892944039|\n",
      "|                Help|11.752407152682256|\n",
      "|     Add to Playlist|   11.784554091327|\n",
      "|              Cancel|11.865384615384615|\n",
      "|          Add Friend|11.880991349076455|\n",
      "|Cancellation Conf...|11.884615384615385|\n",
      "|         Roll Advert|11.966692092550216|\n",
      "|         Thumbs Down|12.055380989787903|\n",
      "+--------------------+------------------+\n",
      "\n"
     ]
    }
   ],
   "source": [
    "spark.sql('''\n",
    "          SELECT DISTINCT page, AVG(timestampHour)\n",
    "          FROM user_table\n",
    "          GROUP BY 1\n",
    "          ORDER BY 2 ASC\n",
    "          '''\n",
    "          ).show()"
   ]
  },
  {
   "cell_type": "markdown",
   "metadata": {},
   "source": [
    "<b>userAgent</b> shows how the user accessed sparkify, the possible values follow.\n",
    "> This variable will not be useful because a user could have accessed sparkify through multiple platforms."
   ]
  },
  {
   "cell_type": "code",
   "execution_count": 40,
   "metadata": {},
   "outputs": [],
   "source": [
    "userAgent_count = spark.sql('''\n",
    "                            SELECT userAgent, COUNT(DISTINCT userId) AS count\n",
    "                            FROM user_table\n",
    "                            GROUP BY 1\n",
    "                            ORDER BY 1 ASC\n",
    "                            '''\n",
    "                            ).toPandas()"
   ]
  },
  {
   "cell_type": "code",
   "execution_count": 41,
   "metadata": {
    "scrolled": true
   },
   "outputs": [
    {
     "data": {
      "text/html": [
       "<div>\n",
       "<style scoped>\n",
       "    .dataframe tbody tr th:only-of-type {\n",
       "        vertical-align: middle;\n",
       "    }\n",
       "\n",
       "    .dataframe tbody tr th {\n",
       "        vertical-align: top;\n",
       "    }\n",
       "\n",
       "    .dataframe thead th {\n",
       "        text-align: right;\n",
       "    }\n",
       "</style>\n",
       "<table border=\"1\" class=\"dataframe\">\n",
       "  <thead>\n",
       "    <tr style=\"text-align: right;\">\n",
       "      <th></th>\n",
       "      <th>userAgent</th>\n",
       "      <th>count</th>\n",
       "    </tr>\n",
       "  </thead>\n",
       "  <tbody>\n",
       "    <tr>\n",
       "      <th>0</th>\n",
       "      <td>\"Mozilla/5.0 (Macintosh; Intel Mac OS X 10_10)...</td>\n",
       "      <td>1</td>\n",
       "    </tr>\n",
       "    <tr>\n",
       "      <th>1</th>\n",
       "      <td>\"Mozilla/5.0 (Macintosh; Intel Mac OS X 10_10)...</td>\n",
       "      <td>2</td>\n",
       "    </tr>\n",
       "    <tr>\n",
       "      <th>2</th>\n",
       "      <td>\"Mozilla/5.0 (Macintosh; Intel Mac OS X 10_6_8...</td>\n",
       "      <td>1</td>\n",
       "    </tr>\n",
       "    <tr>\n",
       "      <th>3</th>\n",
       "      <td>\"Mozilla/5.0 (Macintosh; Intel Mac OS X 10_7_5...</td>\n",
       "      <td>1</td>\n",
       "    </tr>\n",
       "    <tr>\n",
       "      <th>4</th>\n",
       "      <td>\"Mozilla/5.0 (Macintosh; Intel Mac OS X 10_7_5...</td>\n",
       "      <td>2</td>\n",
       "    </tr>\n",
       "    <tr>\n",
       "      <th>5</th>\n",
       "      <td>\"Mozilla/5.0 (Macintosh; Intel Mac OS X 10_8_5...</td>\n",
       "      <td>1</td>\n",
       "    </tr>\n",
       "    <tr>\n",
       "      <th>6</th>\n",
       "      <td>\"Mozilla/5.0 (Macintosh; Intel Mac OS X 10_8_5...</td>\n",
       "      <td>1</td>\n",
       "    </tr>\n",
       "    <tr>\n",
       "      <th>7</th>\n",
       "      <td>\"Mozilla/5.0 (Macintosh; Intel Mac OS X 10_9_2...</td>\n",
       "      <td>2</td>\n",
       "    </tr>\n",
       "    <tr>\n",
       "      <th>8</th>\n",
       "      <td>\"Mozilla/5.0 (Macintosh; Intel Mac OS X 10_9_2...</td>\n",
       "      <td>1</td>\n",
       "    </tr>\n",
       "    <tr>\n",
       "      <th>9</th>\n",
       "      <td>\"Mozilla/5.0 (Macintosh; Intel Mac OS X 10_9_2...</td>\n",
       "      <td>1</td>\n",
       "    </tr>\n",
       "    <tr>\n",
       "      <th>10</th>\n",
       "      <td>\"Mozilla/5.0 (Macintosh; Intel Mac OS X 10_9_3...</td>\n",
       "      <td>1</td>\n",
       "    </tr>\n",
       "    <tr>\n",
       "      <th>11</th>\n",
       "      <td>\"Mozilla/5.0 (Macintosh; Intel Mac OS X 10_9_4...</td>\n",
       "      <td>2</td>\n",
       "    </tr>\n",
       "    <tr>\n",
       "      <th>12</th>\n",
       "      <td>\"Mozilla/5.0 (Macintosh; Intel Mac OS X 10_9_4...</td>\n",
       "      <td>16</td>\n",
       "    </tr>\n",
       "    <tr>\n",
       "      <th>13</th>\n",
       "      <td>\"Mozilla/5.0 (Macintosh; Intel Mac OS X 10_9_4...</td>\n",
       "      <td>12</td>\n",
       "    </tr>\n",
       "    <tr>\n",
       "      <th>14</th>\n",
       "      <td>\"Mozilla/5.0 (Macintosh; Intel Mac OS X 10_9_4...</td>\n",
       "      <td>7</td>\n",
       "    </tr>\n",
       "    <tr>\n",
       "      <th>15</th>\n",
       "      <td>\"Mozilla/5.0 (Macintosh; Intel Mac OS X 10_9_4...</td>\n",
       "      <td>12</td>\n",
       "    </tr>\n",
       "    <tr>\n",
       "      <th>16</th>\n",
       "      <td>\"Mozilla/5.0 (Macintosh; Intel Mac OS X 10_9_4...</td>\n",
       "      <td>10</td>\n",
       "    </tr>\n",
       "    <tr>\n",
       "      <th>17</th>\n",
       "      <td>\"Mozilla/5.0 (Windows NT 5.1) AppleWebKit/537....</td>\n",
       "      <td>1</td>\n",
       "    </tr>\n",
       "    <tr>\n",
       "      <th>18</th>\n",
       "      <td>\"Mozilla/5.0 (Windows NT 5.1) AppleWebKit/537....</td>\n",
       "      <td>4</td>\n",
       "    </tr>\n",
       "    <tr>\n",
       "      <th>19</th>\n",
       "      <td>\"Mozilla/5.0 (Windows NT 6.1) AppleWebKit/537....</td>\n",
       "      <td>1</td>\n",
       "    </tr>\n",
       "    <tr>\n",
       "      <th>20</th>\n",
       "      <td>\"Mozilla/5.0 (Windows NT 6.1) AppleWebKit/537....</td>\n",
       "      <td>4</td>\n",
       "    </tr>\n",
       "    <tr>\n",
       "      <th>21</th>\n",
       "      <td>\"Mozilla/5.0 (Windows NT 6.1; WOW64) AppleWebK...</td>\n",
       "      <td>2</td>\n",
       "    </tr>\n",
       "    <tr>\n",
       "      <th>22</th>\n",
       "      <td>\"Mozilla/5.0 (Windows NT 6.1; WOW64) AppleWebK...</td>\n",
       "      <td>10</td>\n",
       "    </tr>\n",
       "    <tr>\n",
       "      <th>23</th>\n",
       "      <td>\"Mozilla/5.0 (Windows NT 6.1; WOW64) AppleWebK...</td>\n",
       "      <td>24</td>\n",
       "    </tr>\n",
       "    <tr>\n",
       "      <th>24</th>\n",
       "      <td>\"Mozilla/5.0 (Windows NT 6.1; WOW64) AppleWebK...</td>\n",
       "      <td>3</td>\n",
       "    </tr>\n",
       "    <tr>\n",
       "      <th>25</th>\n",
       "      <td>\"Mozilla/5.0 (Windows NT 6.1; WOW64) AppleWebK...</td>\n",
       "      <td>4</td>\n",
       "    </tr>\n",
       "    <tr>\n",
       "      <th>26</th>\n",
       "      <td>\"Mozilla/5.0 (Windows NT 6.2; WOW64) AppleWebK...</td>\n",
       "      <td>1</td>\n",
       "    </tr>\n",
       "    <tr>\n",
       "      <th>27</th>\n",
       "      <td>\"Mozilla/5.0 (Windows NT 6.2; WOW64) AppleWebK...</td>\n",
       "      <td>2</td>\n",
       "    </tr>\n",
       "    <tr>\n",
       "      <th>28</th>\n",
       "      <td>\"Mozilla/5.0 (Windows NT 6.3; WOW64) AppleWebK...</td>\n",
       "      <td>5</td>\n",
       "    </tr>\n",
       "    <tr>\n",
       "      <th>29</th>\n",
       "      <td>\"Mozilla/5.0 (Windows NT 6.3; WOW64) AppleWebK...</td>\n",
       "      <td>7</td>\n",
       "    </tr>\n",
       "    <tr>\n",
       "      <th>30</th>\n",
       "      <td>\"Mozilla/5.0 (X11; Linux x86_64) AppleWebKit/5...</td>\n",
       "      <td>2</td>\n",
       "    </tr>\n",
       "    <tr>\n",
       "      <th>31</th>\n",
       "      <td>\"Mozilla/5.0 (X11; Linux x86_64) AppleWebKit/5...</td>\n",
       "      <td>4</td>\n",
       "    </tr>\n",
       "    <tr>\n",
       "      <th>32</th>\n",
       "      <td>\"Mozilla/5.0 (iPad; CPU OS 7_1_1 like Mac OS X...</td>\n",
       "      <td>1</td>\n",
       "    </tr>\n",
       "    <tr>\n",
       "      <th>33</th>\n",
       "      <td>\"Mozilla/5.0 (iPad; CPU OS 7_1_2 like Mac OS X...</td>\n",
       "      <td>2</td>\n",
       "    </tr>\n",
       "    <tr>\n",
       "      <th>34</th>\n",
       "      <td>\"Mozilla/5.0 (iPhone; CPU iPhone OS 7_1 like M...</td>\n",
       "      <td>4</td>\n",
       "    </tr>\n",
       "    <tr>\n",
       "      <th>35</th>\n",
       "      <td>\"Mozilla/5.0 (iPhone; CPU iPhone OS 7_1_1 like...</td>\n",
       "      <td>1</td>\n",
       "    </tr>\n",
       "    <tr>\n",
       "      <th>36</th>\n",
       "      <td>\"Mozilla/5.0 (iPhone; CPU iPhone OS 7_1_2 like...</td>\n",
       "      <td>8</td>\n",
       "    </tr>\n",
       "    <tr>\n",
       "      <th>37</th>\n",
       "      <td>Mozilla/5.0 (Macintosh; Intel Mac OS X 10.6; r...</td>\n",
       "      <td>1</td>\n",
       "    </tr>\n",
       "    <tr>\n",
       "      <th>38</th>\n",
       "      <td>Mozilla/5.0 (Macintosh; Intel Mac OS X 10.7; r...</td>\n",
       "      <td>2</td>\n",
       "    </tr>\n",
       "    <tr>\n",
       "      <th>39</th>\n",
       "      <td>Mozilla/5.0 (Macintosh; Intel Mac OS X 10.8; r...</td>\n",
       "      <td>1</td>\n",
       "    </tr>\n",
       "    <tr>\n",
       "      <th>40</th>\n",
       "      <td>Mozilla/5.0 (Macintosh; Intel Mac OS X 10.9; r...</td>\n",
       "      <td>9</td>\n",
       "    </tr>\n",
       "    <tr>\n",
       "      <th>41</th>\n",
       "      <td>Mozilla/5.0 (Windows NT 6.0; rv:31.0) Gecko/20...</td>\n",
       "      <td>1</td>\n",
       "    </tr>\n",
       "    <tr>\n",
       "      <th>42</th>\n",
       "      <td>Mozilla/5.0 (Windows NT 6.1; WOW64; Trident/7....</td>\n",
       "      <td>7</td>\n",
       "    </tr>\n",
       "    <tr>\n",
       "      <th>43</th>\n",
       "      <td>Mozilla/5.0 (Windows NT 6.1; WOW64; rv:24.0) G...</td>\n",
       "      <td>1</td>\n",
       "    </tr>\n",
       "    <tr>\n",
       "      <th>44</th>\n",
       "      <td>Mozilla/5.0 (Windows NT 6.1; WOW64; rv:30.0) G...</td>\n",
       "      <td>1</td>\n",
       "    </tr>\n",
       "    <tr>\n",
       "      <th>45</th>\n",
       "      <td>Mozilla/5.0 (Windows NT 6.1; WOW64; rv:31.0) G...</td>\n",
       "      <td>18</td>\n",
       "    </tr>\n",
       "    <tr>\n",
       "      <th>46</th>\n",
       "      <td>Mozilla/5.0 (Windows NT 6.1; WOW64; rv:32.0) G...</td>\n",
       "      <td>2</td>\n",
       "    </tr>\n",
       "    <tr>\n",
       "      <th>47</th>\n",
       "      <td>Mozilla/5.0 (Windows NT 6.1; rv:31.0) Gecko/20...</td>\n",
       "      <td>3</td>\n",
       "    </tr>\n",
       "    <tr>\n",
       "      <th>48</th>\n",
       "      <td>Mozilla/5.0 (Windows NT 6.2; WOW64; rv:31.0) G...</td>\n",
       "      <td>1</td>\n",
       "    </tr>\n",
       "    <tr>\n",
       "      <th>49</th>\n",
       "      <td>Mozilla/5.0 (Windows NT 6.3; WOW64; rv:31.0) G...</td>\n",
       "      <td>4</td>\n",
       "    </tr>\n",
       "    <tr>\n",
       "      <th>50</th>\n",
       "      <td>Mozilla/5.0 (X11; Linux x86_64; rv:31.0) Gecko...</td>\n",
       "      <td>1</td>\n",
       "    </tr>\n",
       "    <tr>\n",
       "      <th>51</th>\n",
       "      <td>Mozilla/5.0 (X11; Ubuntu; Linux i686; rv:31.0)...</td>\n",
       "      <td>1</td>\n",
       "    </tr>\n",
       "    <tr>\n",
       "      <th>52</th>\n",
       "      <td>Mozilla/5.0 (X11; Ubuntu; Linux x86_64; rv:31....</td>\n",
       "      <td>4</td>\n",
       "    </tr>\n",
       "    <tr>\n",
       "      <th>53</th>\n",
       "      <td>Mozilla/5.0 (compatible; MSIE 10.0; Windows NT...</td>\n",
       "      <td>1</td>\n",
       "    </tr>\n",
       "    <tr>\n",
       "      <th>54</th>\n",
       "      <td>Mozilla/5.0 (compatible; MSIE 9.0; Windows NT ...</td>\n",
       "      <td>1</td>\n",
       "    </tr>\n",
       "    <tr>\n",
       "      <th>55</th>\n",
       "      <td>Mozilla/5.0 (compatible; MSIE 9.0; Windows NT ...</td>\n",
       "      <td>3</td>\n",
       "    </tr>\n",
       "  </tbody>\n",
       "</table>\n",
       "</div>"
      ],
      "text/plain": [
       "                                            userAgent  count\n",
       "0   \"Mozilla/5.0 (Macintosh; Intel Mac OS X 10_10)...      1\n",
       "1   \"Mozilla/5.0 (Macintosh; Intel Mac OS X 10_10)...      2\n",
       "2   \"Mozilla/5.0 (Macintosh; Intel Mac OS X 10_6_8...      1\n",
       "3   \"Mozilla/5.0 (Macintosh; Intel Mac OS X 10_7_5...      1\n",
       "4   \"Mozilla/5.0 (Macintosh; Intel Mac OS X 10_7_5...      2\n",
       "5   \"Mozilla/5.0 (Macintosh; Intel Mac OS X 10_8_5...      1\n",
       "6   \"Mozilla/5.0 (Macintosh; Intel Mac OS X 10_8_5...      1\n",
       "7   \"Mozilla/5.0 (Macintosh; Intel Mac OS X 10_9_2...      2\n",
       "8   \"Mozilla/5.0 (Macintosh; Intel Mac OS X 10_9_2...      1\n",
       "9   \"Mozilla/5.0 (Macintosh; Intel Mac OS X 10_9_2...      1\n",
       "10  \"Mozilla/5.0 (Macintosh; Intel Mac OS X 10_9_3...      1\n",
       "11  \"Mozilla/5.0 (Macintosh; Intel Mac OS X 10_9_4...      2\n",
       "12  \"Mozilla/5.0 (Macintosh; Intel Mac OS X 10_9_4...     16\n",
       "13  \"Mozilla/5.0 (Macintosh; Intel Mac OS X 10_9_4...     12\n",
       "14  \"Mozilla/5.0 (Macintosh; Intel Mac OS X 10_9_4...      7\n",
       "15  \"Mozilla/5.0 (Macintosh; Intel Mac OS X 10_9_4...     12\n",
       "16  \"Mozilla/5.0 (Macintosh; Intel Mac OS X 10_9_4...     10\n",
       "17  \"Mozilla/5.0 (Windows NT 5.1) AppleWebKit/537....      1\n",
       "18  \"Mozilla/5.0 (Windows NT 5.1) AppleWebKit/537....      4\n",
       "19  \"Mozilla/5.0 (Windows NT 6.1) AppleWebKit/537....      1\n",
       "20  \"Mozilla/5.0 (Windows NT 6.1) AppleWebKit/537....      4\n",
       "21  \"Mozilla/5.0 (Windows NT 6.1; WOW64) AppleWebK...      2\n",
       "22  \"Mozilla/5.0 (Windows NT 6.1; WOW64) AppleWebK...     10\n",
       "23  \"Mozilla/5.0 (Windows NT 6.1; WOW64) AppleWebK...     24\n",
       "24  \"Mozilla/5.0 (Windows NT 6.1; WOW64) AppleWebK...      3\n",
       "25  \"Mozilla/5.0 (Windows NT 6.1; WOW64) AppleWebK...      4\n",
       "26  \"Mozilla/5.0 (Windows NT 6.2; WOW64) AppleWebK...      1\n",
       "27  \"Mozilla/5.0 (Windows NT 6.2; WOW64) AppleWebK...      2\n",
       "28  \"Mozilla/5.0 (Windows NT 6.3; WOW64) AppleWebK...      5\n",
       "29  \"Mozilla/5.0 (Windows NT 6.3; WOW64) AppleWebK...      7\n",
       "30  \"Mozilla/5.0 (X11; Linux x86_64) AppleWebKit/5...      2\n",
       "31  \"Mozilla/5.0 (X11; Linux x86_64) AppleWebKit/5...      4\n",
       "32  \"Mozilla/5.0 (iPad; CPU OS 7_1_1 like Mac OS X...      1\n",
       "33  \"Mozilla/5.0 (iPad; CPU OS 7_1_2 like Mac OS X...      2\n",
       "34  \"Mozilla/5.0 (iPhone; CPU iPhone OS 7_1 like M...      4\n",
       "35  \"Mozilla/5.0 (iPhone; CPU iPhone OS 7_1_1 like...      1\n",
       "36  \"Mozilla/5.0 (iPhone; CPU iPhone OS 7_1_2 like...      8\n",
       "37  Mozilla/5.0 (Macintosh; Intel Mac OS X 10.6; r...      1\n",
       "38  Mozilla/5.0 (Macintosh; Intel Mac OS X 10.7; r...      2\n",
       "39  Mozilla/5.0 (Macintosh; Intel Mac OS X 10.8; r...      1\n",
       "40  Mozilla/5.0 (Macintosh; Intel Mac OS X 10.9; r...      9\n",
       "41  Mozilla/5.0 (Windows NT 6.0; rv:31.0) Gecko/20...      1\n",
       "42  Mozilla/5.0 (Windows NT 6.1; WOW64; Trident/7....      7\n",
       "43  Mozilla/5.0 (Windows NT 6.1; WOW64; rv:24.0) G...      1\n",
       "44  Mozilla/5.0 (Windows NT 6.1; WOW64; rv:30.0) G...      1\n",
       "45  Mozilla/5.0 (Windows NT 6.1; WOW64; rv:31.0) G...     18\n",
       "46  Mozilla/5.0 (Windows NT 6.1; WOW64; rv:32.0) G...      2\n",
       "47  Mozilla/5.0 (Windows NT 6.1; rv:31.0) Gecko/20...      3\n",
       "48  Mozilla/5.0 (Windows NT 6.2; WOW64; rv:31.0) G...      1\n",
       "49  Mozilla/5.0 (Windows NT 6.3; WOW64; rv:31.0) G...      4\n",
       "50  Mozilla/5.0 (X11; Linux x86_64; rv:31.0) Gecko...      1\n",
       "51  Mozilla/5.0 (X11; Ubuntu; Linux i686; rv:31.0)...      1\n",
       "52  Mozilla/5.0 (X11; Ubuntu; Linux x86_64; rv:31....      4\n",
       "53  Mozilla/5.0 (compatible; MSIE 10.0; Windows NT...      1\n",
       "54  Mozilla/5.0 (compatible; MSIE 9.0; Windows NT ...      1\n",
       "55  Mozilla/5.0 (compatible; MSIE 9.0; Windows NT ...      3"
      ]
     },
     "execution_count": 41,
     "metadata": {},
     "output_type": "execute_result"
    }
   ],
   "source": [
    "userAgent_count"
   ]
  },
  {
   "cell_type": "markdown",
   "metadata": {},
   "source": [
    "<b>userId</b> is between 2 and 5 digits. This is integral to the dataset to isolate instances and events.\n",
    "> This variable is useful"
   ]
  },
  {
   "cell_type": "code",
   "execution_count": 42,
   "metadata": {},
   "outputs": [
    {
     "name": "stdout",
     "output_type": "stream",
     "text": [
      "+------+\n",
      "|userId|\n",
      "+------+\n",
      "|    10|\n",
      "|   100|\n",
      "|100001|\n",
      "|100002|\n",
      "|100003|\n",
      "+------+\n",
      "\n"
     ]
    }
   ],
   "source": [
    "spark.sql('''\n",
    "          SELECT DISTINCT userId\n",
    "          FROM user_table\n",
    "          ORDER BY 1 ASC\n",
    "          LIMIT 5\n",
    "          '''\n",
    "          ).show()"
   ]
  },
  {
   "cell_type": "markdown",
   "metadata": {},
   "source": [
    "<b>gender</b> can only take one of two values: M, F. There are 104 females and 121 males.\n",
    "> This variable is useful"
   ]
  },
  {
   "cell_type": "code",
   "execution_count": 43,
   "metadata": {},
   "outputs": [
    {
     "name": "stdout",
     "output_type": "stream",
     "text": [
      "+------+----------------------+\n",
      "|gender|count(DISTINCT userId)|\n",
      "+------+----------------------+\n",
      "|     F|                   104|\n",
      "|     M|                   121|\n",
      "+------+----------------------+\n",
      "\n"
     ]
    }
   ],
   "source": [
    "spark.sql('''\n",
    "          SELECT gender, COUNT(DISTINCT userId)\n",
    "          FROM user_table\n",
    "          GROUP BY 1\n",
    "          ORDER BY 2 ASC\n",
    "          '''\n",
    "          ).show()"
   ]
  },
  {
   "cell_type": "code",
   "execution_count": 44,
   "metadata": {},
   "outputs": [
    {
     "name": "stdout",
     "output_type": "stream",
     "text": [
      "root\n",
      " |-- artist: string (nullable = true)\n",
      " |-- auth: string (nullable = true)\n",
      " |-- firstName: string (nullable = true)\n",
      " |-- gender: string (nullable = true)\n",
      " |-- itemInSession: long (nullable = true)\n",
      " |-- lastName: string (nullable = true)\n",
      " |-- length: double (nullable = true)\n",
      " |-- level: string (nullable = true)\n",
      " |-- location: string (nullable = true)\n",
      " |-- method: string (nullable = true)\n",
      " |-- page: string (nullable = true)\n",
      " |-- registration: long (nullable = true)\n",
      " |-- sessionId: long (nullable = true)\n",
      " |-- song: string (nullable = true)\n",
      " |-- status: long (nullable = true)\n",
      " |-- ts: long (nullable = true)\n",
      " |-- userAgent: string (nullable = true)\n",
      " |-- userId: string (nullable = true)\n",
      " |-- city: string (nullable = true)\n",
      " |-- state: string (nullable = true)\n",
      " |-- registrationTimestamp: string (nullable = true)\n",
      " |-- registrationHour: integer (nullable = true)\n",
      " |-- registrationDay: string (nullable = true)\n",
      " |-- timestamp: string (nullable = true)\n",
      " |-- timestampHour: integer (nullable = true)\n",
      "\n"
     ]
    }
   ],
   "source": [
    "df.printSchema()"
   ]
  },
  {
   "cell_type": "markdown",
   "metadata": {},
   "source": [
    "Using the results of our exploratory analysis I will condense the dataset to only the useful variables. The variables being:\n",
    "- userId\n",
    "- gender\n",
    "- registrationTimestamp\n",
    "- level\n",
    "- city\n",
    "- state\n",
    "- itemInSession\n",
    "- page\n",
    "- timestamp\n",
    "- platfrom"
   ]
  },
  {
   "cell_type": "code",
   "execution_count": 45,
   "metadata": {},
   "outputs": [],
   "source": [
    "df = spark.sql('''SELECT userId, \n",
    "                    gender,\n",
    "                    registrationTimestamp,\n",
    "                    level, \n",
    "                    city, \n",
    "                    state, \n",
    "                    itemInSession,\n",
    "                    page, \n",
    "                    timestamp,\n",
    "                    artist,\n",
    "                    song,\n",
    "                    length\n",
    "                  FROM user_table\n",
    "                  ORDER BY userId, timestamp\n",
    "                  '''\n",
    "                  )\n",
    "\n",
    "df.createOrReplaceTempView('user_table')"
   ]
  },
  {
   "cell_type": "markdown",
   "metadata": {},
   "source": [
    "### Defining Churn\n",
    "\n",
    "Now that we've done some preliminary analysis, let's create a column `Churn` to use as the label for our model. I suggest using the `Cancellation Confirmation` events to define your churn, which happen for both paid and free users. As a bonus task, we can also look into the `Downgrade` events.\n",
    "\n",
    "[Customer Churn](https://www.investopedia.com/terms/c/churnrate.asp) is a metric which measures the rate at which customers stop doing business with an entity. In our case when customers move from Sparkify's paid service level to free.\n",
    "\n",
    "We can encode two variables to try and understand churn. One variable can encode when the page `Cancellation Confrimation` is visited. As well, we can also encode a variable for when the `Downgrade` page is visited. Looking back at our distinct values for the column 'page' we can assume the process of customer churn goes from `Downgrade`-> `Submit Downgrade`-> `Cancel`->`Cancellation Confirmation`. If we can identify customers who visit the downgrade and don't proceed to submit the downgrade immeadiately we can decrease our churn rate and retain customers. We can also help identify what might cause customers to `Cancel`.\n",
    "\n",
    "Let's create a `possibleChurn` column that marks a `Downgrade` page visit.\n"
   ]
  },
  {
   "cell_type": "code",
   "execution_count": 49,
   "metadata": {},
   "outputs": [
    {
     "name": "stdout",
     "output_type": "stream",
     "text": [
      "+------+------+---------------------+-----+------+-----+-------------+---------+-------------------+------+----+------+\n",
      "|userId|gender|registrationTimestamp|level|  city|state|itemInSession|     page|          timestamp|artist|song|length|\n",
      "+------+------+---------------------+-----+------+-----+-------------+---------+-------------------+------+----+------+\n",
      "|    10|     M|  2018-09-28 14:31:35| paid|Laurel|   MS|           17|Downgrade|2018-10-18 00:42:33|  null|null|  null|\n",
      "+------+------+---------------------+-----+------+-----+-------------+---------+-------------------+------+----+------+\n",
      "only showing top 1 row\n",
      "\n"
     ]
    }
   ],
   "source": [
    "df.filter(df.page == 'Downgrade').show(1)"
   ]
  },
  {
   "cell_type": "code",
   "execution_count": 50,
   "metadata": {},
   "outputs": [
    {
     "name": "stdout",
     "output_type": "stream",
     "text": [
      "+------+------+---------------------+-----+------+-----+-------------+---------+-------------------+------+----+------+-------------+\n",
      "|userId|gender|registrationTimestamp|level|  city|state|itemInSession|     page|          timestamp|artist|song|length|possibleChurn|\n",
      "+------+------+---------------------+-----+------+-----+-------------+---------+-------------------+------+----+------+-------------+\n",
      "|    10|     M|  2018-09-28 14:31:35| paid|Laurel|   MS|           17|Downgrade|2018-10-18 00:42:33|  null|null|  null|            1|\n",
      "+------+------+---------------------+-----+------+-----+-------------+---------+-------------------+------+----+------+-------------+\n",
      "only showing top 1 row\n",
      "\n"
     ]
    }
   ],
   "source": [
    "possChurn = udf(lambda x: 1 if x == 'Downgrade' else 0, IntegerType())\n",
    "df = df.withColumn('possibleChurn', possChurn('page'))\n",
    "df.filter(df.page == 'Downgrade').show(1)"
   ]
  },
  {
   "cell_type": "markdown",
   "metadata": {},
   "source": [
    "We successfully encoded a variable for possible customer churn and created a new column `possibleChurn` when the `Downgrade` page is visited. Let's do this again for when the `Cancellation Confirmation` page is vistited."
   ]
  },
  {
   "cell_type": "code",
   "execution_count": 52,
   "metadata": {},
   "outputs": [
    {
     "name": "stdout",
     "output_type": "stream",
     "text": [
      "+------+------+---------------------+-----+-----+-----+-------------+--------------------+-------------------+------+----+------+-------------+\n",
      "|userId|gender|registrationTimestamp|level| city|state|itemInSession|                page|          timestamp|artist|song|length|possibleChurn|\n",
      "+------+------+---------------------+-----+-----+-----+-------------+--------------------+-------------------+------+----+------+-------------+\n",
      "|100001|     F|  2018-08-18 17:24:26| free|Miami|   FL|           23|Cancellation Conf...|2018-10-02 12:36:45|  null|null|  null|            0|\n",
      "+------+------+---------------------+-----+-----+-----+-------------+--------------------+-------------------+------+----+------+-------------+\n",
      "only showing top 1 row\n",
      "\n"
     ]
    }
   ],
   "source": [
    "df.filter(df.page == 'Cancellation Confirmation').show(1)"
   ]
  },
  {
   "cell_type": "code",
   "execution_count": 54,
   "metadata": {},
   "outputs": [
    {
     "name": "stdout",
     "output_type": "stream",
     "text": [
      "+------+------+---------------------+-----+-----+-----+-------------+--------------------+-------------------+------+----+------+-------------+-----+\n",
      "|userId|gender|registrationTimestamp|level| city|state|itemInSession|                page|          timestamp|artist|song|length|possibleChurn|churn|\n",
      "+------+------+---------------------+-----+-----+-----+-------------+--------------------+-------------------+------+----+------+-------------+-----+\n",
      "|100001|     F|  2018-08-18 17:24:26| free|Miami|   FL|           23|Cancellation Conf...|2018-10-02 12:36:45|  null|null|  null|            0|    1|\n",
      "+------+------+---------------------+-----+-----+-----+-------------+--------------------+-------------------+------+----+------+-------------+-----+\n",
      "only showing top 1 row\n",
      "\n"
     ]
    }
   ],
   "source": [
    "churn = udf(lambda x: 1 if x == 'Cancellation Confirmation' else 0, IntegerType())\n",
    "df = df.withColumn('churn', churn('page'))\n",
    "df.filter(df.page == 'Cancellation Confirmation').show(1)"
   ]
  },
  {
   "cell_type": "markdown",
   "metadata": {},
   "source": [
    "Alright we successfully encoded a variable for customer churn and created a new column `churn` when the `Cancellation Confirmation` is visited. Let's explore out data and try and gain insights from our data and use our new variables `possibleChurn` and `churn`."
   ]
  },
  {
   "cell_type": "markdown",
   "metadata": {},
   "source": [
    "### Explore Data\n",
    "Once you've defined churn, perform some exploratory data analysis to observe the behavior for users who stayed vs users who churned. You can start by exploring aggregates on these two groups of users, observing how much of a specific action they experienced per a certain time unit or number of songs played."
   ]
  },
  {
   "cell_type": "code",
   "execution_count": 55,
   "metadata": {},
   "outputs": [],
   "source": [
    "df.createOrReplaceTempView('user_table')"
   ]
  },
  {
   "cell_type": "code",
   "execution_count": 56,
   "metadata": {},
   "outputs": [
    {
     "name": "stdout",
     "output_type": "stream",
     "text": [
      "+------+------+---------------------+-----+------+-----+-------------+--------+-------------------+--------------------+--------------------+---------+-------------+-----+\n",
      "|userId|gender|registrationTimestamp|level|  city|state|itemInSession|    page|          timestamp|              artist|                song|   length|possibleChurn|churn|\n",
      "+------+------+---------------------+-----+------+-----+-------------+--------+-------------------+--------------------+--------------------+---------+-------------+-----+\n",
      "|    10|     M|  2018-09-28 14:31:35| paid|Laurel|   MS|            0|NextSong|2018-10-07 22:20:20|            Sea Wolf|       Ses Monuments|265.53424|            0|    0|\n",
      "|    10|     M|  2018-09-28 14:31:35| paid|Laurel|   MS|            1|NextSong|2018-10-07 22:24:45|George Baker Sele...|         Morning Sky| 200.4371|            0|    0|\n",
      "|    10|     M|  2018-09-28 14:31:35| paid|Laurel|   MS|            2|NextSong|2018-10-07 22:28:05|          Klaus Lage|Du Hast'n Freund ...|208.03873|            0|    0|\n",
      "|    10|     M|  2018-09-28 14:31:35| paid|Laurel|   MS|            3|NextSong|2018-10-07 22:31:33|         Dave Grusin|             Playera|526.44526|            0|    0|\n",
      "|    10|     M|  2018-09-28 14:31:35| paid|Laurel|   MS|            4|NextSong|2018-10-07 22:40:19|    Blue Oyster Cult|     Burnin' For You|272.06485|            0|    0|\n",
      "+------+------+---------------------+-----+------+-----+-------------+--------+-------------------+--------------------+--------------------+---------+-------------+-----+\n",
      "only showing top 5 rows\n",
      "\n"
     ]
    }
   ],
   "source": [
    "spark.sql('''SELECT *\n",
    "             FROM user_table\n",
    "             ORDER BY userId, timestamp\n",
    "             '''\n",
    "             ).show(5)"
   ]
  },
  {
   "cell_type": "markdown",
   "metadata": {},
   "source": [
    "We can now explore our variables with respect to churn and possible churn before trying to implement machine learning. We can see in the following query that page seems to be a good indicator of Sparkify usage. "
   ]
  },
  {
   "cell_type": "markdown",
   "metadata": {},
   "source": [
    "First let's look at the page interactions for users who cancelled took and compare it to active users."
   ]
  },
  {
   "cell_type": "code",
   "execution_count": 57,
   "metadata": {},
   "outputs": [],
   "source": [
    "temp = spark.sql('''\n",
    "                 SELECT DISTINCT userId\n",
    "                 FROM user_table\n",
    "                 WHERE churn = 0\n",
    "                 ORDER BY 1 ASC\n",
    "                 '''\n",
    "                 )\n",
    "\n",
    "temp.createOrReplaceTempView('temp')\n",
    "\n",
    "users_churn = spark.sql('''\n",
    "                        SELECT DISTINCT userId\n",
    "                        FROM user_table\n",
    "                        WHERE churn = 1\n",
    "                        ORDER BY 1 ASC\n",
    "                        '''\n",
    "                        )\n",
    "\n",
    "users_churn.createOrReplaceTempView('users_churn')\n",
    "\n",
    "users_active = spark.sql('''\n",
    "                         SELECT t.userId\n",
    "                         FROM temp AS t\n",
    "                         LEFT JOIN users_churn AS u\n",
    "                         ON t.userId = u.userId\n",
    "                         WHERE u.userId IS NULL\n",
    "                         ORDER BY 1 ASC\n",
    "                         ''')\n",
    "\n",
    "users_active.createOrReplaceTempView('users_active')"
   ]
  },
  {
   "cell_type": "code",
   "execution_count": 58,
   "metadata": {
    "scrolled": true
   },
   "outputs": [
    {
     "data": {
      "image/png": "[encoded data removed]",
      "text/plain": [
       "<Figure size 1080x1080 with 1 Axes>"
      ]
     },
     "metadata": {
      "needs_background": "light"
     },
     "output_type": "display_data"
    }
   ],
   "source": [
    "churn_page_inter = spark.sql('''\n",
    "                             SELECT page, COUNT(users_churn.userId) AS user_inter\n",
    "                             FROM user_table\n",
    "                             INNER JOIN users_churn\n",
    "                             ON user_table.userId = users_churn.userId\n",
    "                             GROUP BY 1\n",
    "                             ORDER BY 1 ASC\n",
    "                             '''\n",
    "                             ).toPandas()\n",
    "\n",
    "active_page_inter = spark.sql('''\n",
    "                              SELECT page, COUNT(users_active.userId) AS user_inter\n",
    "                              FROM user_table\n",
    "                              INNER JOIN users_active\n",
    "                              ON user_table.userId = users_active.userId\n",
    "                              GROUP BY 1\n",
    "                              ORDER BY 1 ASC\n",
    "                              ''').toPandas()\n",
    "\n",
    "churn_page_inter['user_inter_prop'] = ((churn_page_inter['user_inter'] / churn_page_inter.user_inter.sum())*100)\n",
    "active_page_inter['user_inter_prop'] = ((active_page_inter['user_inter'] / active_page_inter.user_inter.sum())*100)\n",
    "\n",
    "page_inter = churn_page_inter.merge(active_page_inter,how='left', left_on='page', right_on='page')\n",
    "page_inter.fillna(0);\n",
    "\n",
    "# plotting results\n",
    "index = np.arange(19)\n",
    "bar_width = 0.35\n",
    "\n",
    "fig, ax = plt.subplots(figsize=(15,15))\n",
    "active_users_inter = ax.bar(index, page_inter['user_inter_prop_y'], bar_width, label='active')\n",
    "churn_users_inter = ax.bar(index+bar_width, page_inter['user_inter_prop_x'], bar_width, label='churn')\n",
    "\n",
    "ax.set_xlabel('Page', fontsize = 15)\n",
    "ax.set_ylabel('Proportion', fontsize = 15)\n",
    "ax.set_title('Page Interaction Proportions', size = 15)\n",
    "ax.set_xticks(index + bar_width / 2)\n",
    "ax.set_xticklabels(page_inter.page, fontsize = 10, rotation=90)\n",
    "ax.legend(fontsize = 10)\n",
    "plt.show()"
   ]
  },
  {
   "cell_type": "markdown",
   "metadata": {},
   "source": [
    "Customers who cancelled had a slightly higher proportion of seeing advertisements, visiting the settings, and giving songs the thumbs down."
   ]
  },
  {
   "cell_type": "markdown",
   "metadata": {},
   "source": [
    "Lets see how location affects churn."
   ]
  },
  {
   "cell_type": "code",
   "execution_count": 59,
   "metadata": {
    "scrolled": false
   },
   "outputs": [
    {
     "data": {
      "image/png": "[encoded data removed]",
      "text/plain": [
       "<Figure size 1080x1080 with 1 Axes>"
      ]
     },
     "metadata": {
      "needs_background": "light"
     },
     "output_type": "display_data"
    }
   ],
   "source": [
    "df_city = df.groupby('city','churn').count().sort('city')\n",
    "df_city_0 = df_city[df_city['churn']==0].toPandas()\n",
    "df_city_1 = df_city[df_city['churn']==1].toPandas()\n",
    "\n",
    "df_city.createOrReplaceTempView('temp')\n",
    "\n",
    "temp_1 = spark.sql('''SELECT COUNT(DISTINCT userId)\n",
    "                      FROM user_table\n",
    "                      WHERE churn = 0\n",
    "                      '''\n",
    "                      ).toPandas()\n",
    "\n",
    "temp_2 = spark.sql('''SELECT COUNT(DISTINCT userId)\n",
    "                      FROM user_table\n",
    "                      WHERE churn = 1\n",
    "                      '''\n",
    "                      ).toPandas()\n",
    "\n",
    "df_city = df_city_0.merge(df_city_1,how='left', left_on='city', right_on='city')\n",
    "df_city['churn_y'] = 1\n",
    "df_city['count_y'] = df_city['count_y'].fillna(0)\n",
    "df_city['count_y'] = df_city['count_y'].astype('int')\n",
    "df_city['active'] = df_city.count_x / (df_city.count_x + df_city.count_y)\n",
    "df_city['churn'] = df_city.count_y / (df_city.count_x + df_city.count_y)\n",
    "\n",
    "plt.figure(figsize=(15,15))\n",
    "plt.bar(df_city['city'], df_city['churn'], width = 0.8)\n",
    "plt.xticks(rotation=90)\n",
    "plt.xlabel('City')\n",
    "plt.ylabel('Proportion of Churn')\n",
    "plt.title('Proportion of Churn by City');"
   ]
  },
  {
   "cell_type": "code",
   "execution_count": 60,
   "metadata": {},
   "outputs": [
    {
     "data": {
      "image/png": "[encoded data removed]",
      "text/plain": [
       "<Figure size 1080x1080 with 1 Axes>"
      ]
     },
     "metadata": {
      "needs_background": "light"
     },
     "output_type": "display_data"
    }
   ],
   "source": [
    "df_state = df.groupby('state','churn').count().sort('state')\n",
    "df_state_0 = df_state[df_state['churn']==0].toPandas()\n",
    "df_state_1 = df_state[df_state['churn']==1].toPandas()\n",
    "\n",
    "df_state.createOrReplaceTempView('temp')\n",
    "\n",
    "temp_1 = spark.sql('''SELECT COUNT(DISTINCT userId)\n",
    "                      FROM user_table\n",
    "                      WHERE churn = 0\n",
    "                      '''\n",
    "                      ).toPandas()\n",
    "\n",
    "temp_2 = spark.sql('''SELECT COUNT(DISTINCT userId)\n",
    "                      FROM user_table\n",
    "                      WHERE churn = 1\n",
    "                      '''\n",
    "                      ).toPandas()\n",
    "\n",
    "df_state = df_state_0.merge(df_state_1,how='left', left_on='state', right_on='state')\n",
    "df_state['churn_y'] = 1\n",
    "df_state['count_y'] = df_state['count_y'].fillna(0)\n",
    "df_state['count_y'] = df_state['count_y'].astype('int')\n",
    "df_state['active'] = df_state.count_x / (df_state.count_x + df_state.count_y)\n",
    "df_state['churn'] = df_state.count_y / (df_state.count_x + df_state.count_y)\n",
    "\n",
    "plt.figure(figsize=(15,15))\n",
    "plt.bar(df_state['state'], df_state['churn'], width = 0.8)\n",
    "plt.xticks(rotation=90)\n",
    "plt.xlabel('State')\n",
    "plt.ylabel('Proportion of Churn')\n",
    "plt.title('Proportion of Churn by State');"
   ]
  },
  {
   "cell_type": "code",
   "execution_count": 61,
   "metadata": {},
   "outputs": [],
   "source": [
    "df.toPandas().to_csv('cleaned_data.csv')"
   ]
  },
  {
   "cell_type": "markdown",
   "metadata": {},
   "source": [
    "# Feature Engineering\n",
    "Now that we've familiarized ourself with the data, let's build out the features we find promising to train our model on. To work with the full dataset, we can follow the following steps.\n",
    "- Write a script to extract the necessary features from the smaller subset of data\n",
    "- Ensure that your script is scalable\n",
    "- Try our script on the full data set, debugging our script if necessary"
   ]
  },
  {
   "cell_type": "markdown",
   "metadata": {},
   "source": [
    "We need to make a dataframe with variables that don't change throughout a users use of sparkify. If we don't spark will give us an error when we try to condense our original data and get multiple values for a column. <br>\n",
    "\n",
    "For this reason we have to neglect variables we explored like:\n",
    "> * **location** - state, city\n",
    "\n",
    "We should focus on the following variables:\n",
    "> * **userId**\n",
    "> * **page**\n",
    "> * **level**\n",
    "> * **churn**\n",
    "\n",
    "By using feature engineering we can create even more variables which will be useful for machine learning. Let's give it a try.\n"
   ]
  },
  {
   "cell_type": "code",
   "execution_count": 62,
   "metadata": {},
   "outputs": [],
   "source": [
    "import pandas as pd\n",
    "import numpy as np\n",
    "import matplotlib.pyplot as plt\n",
    "from pyspark.sql import SparkSession\n",
    "from pyspark.sql.functions import max as fmax, isnull, avg, udf, split, sum as fsum, countDistinct, col\n",
    "from pyspark.sql.window import Window\n",
    "from pyspark.sql.types import *\n",
    "from pyspark.ml.feature import VectorAssembler, MinMaxScaler\n",
    "from pyspark.ml.classification import RandomForestClassifier, GBTClassifier, LinearSVC, LogisticRegression, DecisionTreeClassifier\n",
    "from pyspark.ml.evaluation import  MulticlassClassificationEvaluator\n",
    "from pyspark.ml.tuning import CrossValidator, ParamGridBuilder\n",
    "import datetime\n",
    "import time\n",
    "\n",
    "# creating a spark session\n",
    "spark = SparkSession.builder.appName('Sparkify').getOrCreate()"
   ]
  },
  {
   "cell_type": "code",
   "execution_count": 63,
   "metadata": {},
   "outputs": [],
   "source": [
    "def feature_engineering():\n",
    "    '''\n",
    "    Returns engineered features for sparkify \n",
    "    dataset at a dail value granularity\n",
    "    \n",
    "    Input: none\n",
    "    \n",
    "    Output: df_users - aggregated daily page count visits\n",
    "    \n",
    "    '''\n",
    "\n",
    "    # loading data\n",
    "    df = spark.read.json('mini_sparkify_event_data.json')\n",
    "    # adding parsed dates from 13 digit unix time format\n",
    "    date = udf(lambda x: datetime.datetime.fromtimestamp(int(x) / 1000.0).strftime('%Y-%m-%d'))\n",
    "    df = df.withColumn('date', date('ts'))\n",
    "    \n",
    "    # creating a user table with which we can join the rest of the engineered features\n",
    "    df_users = df.where(df.userId != '').select('userId').dropDuplicates()\n",
    "    # list of page names we want daily values for from the original dataframe df\n",
    "    page_names = ['Home','Help','Settings','Logout','Downgrade','Submit Downgrade','Roll Advert',\n",
    "                  'Thumbs Up','Thumbs Down','NextSong','Add to Playlist','Add Friend']\n",
    "    # new dataframe names to savee the daily values under\n",
    "    new_page_names = ['Home','Help','Settings','Logout','Downgrade','SubmitDowngrade','Advert',\n",
    "                      'ThumbsUp','ThumbsDown','NextSong','AddtoPlaylist','AddFriend']\n",
    "    \n",
    "    def page_visit_count_daily(page_name):\n",
    "        '''\n",
    "        Gets counts by page visited for userId\n",
    "        \n",
    "        Input: page_name - page to calculate visit counts for\n",
    "        \n",
    "        Output: visit_count - visit counts by userId\n",
    "        '''\n",
    "        \n",
    "        # determining visit count by selecting, grouping and then counting userIds for each day\n",
    "        visit_count = df.filter(df.page==page_name)\\\n",
    "                        .select('userId','page','date')\\\n",
    "                        .groupby('userId','date')\\\n",
    "                        .agg({'page':'count'})\n",
    "        \n",
    "        # returning dataframe of daily counts\n",
    "        return visit_count\n",
    "\n",
    "    def average_page_metrics_dv(page_visit_count, new_page_name):\n",
    "        '''\n",
    "        Aggregates average of daily value counts\n",
    "        \n",
    "        Input: page_visit_count - page visit counts by userId\n",
    "               new_page_name - the desired pagenew to make a new column with\n",
    "               \n",
    "        Output: df_temp - dataframe of userId and daily visits to page\n",
    "        '''\n",
    "        \n",
    "        # taking dail visit counts, grouping by userId and taking the average daily counts\n",
    "        temp_page_name = 'dv'+new_page_name\n",
    "        df_temp = page_visit_count.groupBy('userId')\\\n",
    "                                 .mean()\\\n",
    "                                 .withColumnRenamed('avg(count(page))', temp_page_name)\n",
    "        \n",
    "        # returning dataframe for daily averages\n",
    "        return df_temp\n",
    "\n",
    "    # iterating over the page names\n",
    "    for i in np.arange(len(page_names)):\n",
    "        # saving daily average value counts for page names and userIds and joining to users dataframe\n",
    "        temp_daily = average_page_metrics_dv(page_visit_count_daily(page_names[i]),new_page_names[i])\n",
    "        df_users = df_users.join(temp_daily, on = 'userId', how = 'leftouter')\n",
    "        \n",
    "    # creating dataframe for number of friends\n",
    "    df_friends = df.select('userId', 'page')\\\n",
    "                   .where(df.page == 'Add Friend')\\\n",
    "                   .groupBy('userId')\\\n",
    "                   .count()\\\n",
    "                   .withColumnRenamed('count', 'Friends')\n",
    "    # creating dataframe for itemInSession averages\n",
    "    df_itemInSession = df.select('userId', 'itemInSession')\\\n",
    "                         .groupby('userId')\\\n",
    "                         .mean()\\\n",
    "                         .withColumnRenamed('avg(itemInSession)', 'ItemInSession')\n",
    "    # creating dataframe for subscription levels \n",
    "    sub_level = udf(lambda  x: 1 if x == 'paid' else 0, IntegerType())\n",
    "    df_paid = df.select('userId', 'level')\\\n",
    "                .where(df.level == 'paid')\\\n",
    "                .dropDuplicates()\\\n",
    "                .withColumn('paid', sub_level('level'))\\\n",
    "                .withColumnRenamed('sum(paid)', 'Paid')\\\n",
    "                .drop('level')\n",
    "    # creating dataframe for users who've visited submit downgrade\n",
    "    possChurn = udf(lambda  x: 1 if x == 'Submit Downgrade' else 0, IntegerType())\n",
    "    df_possChurn = df.withColumn('possChurn', possChurn('page'))\\\n",
    "                     .groupby(['userId'])\\\n",
    "                     .sum()\\\n",
    "                     .withColumnRenamed('sum(possChurn)', 'PossChurn')\\\n",
    "                     .drop('sum(itemInSession)','sum(length)','sum(registration)',\n",
    "                           'sum(sessionId)','sum(status)','sum(ts)')\n",
    "    # creating dataframe for users who've cancelled\n",
    "    churn = udf(lambda  x: 1 if x == 'Cancellation Confirmation' else 0, IntegerType())\n",
    "    df_churn = df.withColumn('churn', churn('page'))\\\n",
    "                 .groupby(['userId'])\\\n",
    "                 .sum()\\\n",
    "                 .withColumnRenamed('sum(churn)', 'Churn')\\\n",
    "                 .drop('sum(itemInSession)','sum(length)','sum(registration)',\n",
    "                       'sum(sessionId)','sum(status)','sum(ts)')\n",
    "    # joining dataframes to users dataframe\n",
    "    df_users = df_users.join(df_friends, on = 'userId', how = 'leftouter')\n",
    "    df_users = df_users.join(df_itemInSession, on = 'userId', how = 'leftouter')\n",
    "    df_users = df_users.join(df_paid, on = 'userId', how = 'leftouter')\n",
    "    df_users = df_users.join(df_possChurn, on = 'userId', how = 'leftouter')\n",
    "    df_users = df_users.join(df_churn, on = 'userId', how = 'leftouter')\n",
    "    \n",
    "    \n",
    "    df_users = df_users.na.fill(0)\n",
    "    \n",
    "    return df_users\n",
    "\n",
    "df = feature_engineering()"
   ]
  },
  {
   "cell_type": "code",
   "execution_count": 64,
   "metadata": {},
   "outputs": [],
   "source": [
    "#df = spark.read.json('mini_sparkify_event_data.json')\n",
    "#date = udf(lambda x: datetime.datetime.fromtimestamp(int(x) / 1000.0).strftime('%Y-%m-%d'))\n",
    "#df = df.withColumn('date', date('ts'))\n",
    "#regLength = udf(lambda x , y: (x-y).days)\n",
    "#df_dateReg = df.select('userId','registration','date')\\\n",
    "#               .withColumn('dateReg', date('registration'))\\\n",
    "#               .withColumn('regLength', regLength('dateReg', 'date'))\\\n",
    "#               .drop('dateReg','date')\\\n",
    "#               .groupby('userId')\\\n",
    "#               .mean()\n",
    "#df_dateReg.show()"
   ]
  },
  {
   "cell_type": "code",
   "execution_count": 65,
   "metadata": {},
   "outputs": [],
   "source": [
    "def feature_scaling(df):\n",
    "    '''\n",
    "    Scaing engineered features using vector assembler\n",
    "    and minmax scaler\n",
    "    \n",
    "    Input: df - dataframe of engineered features\n",
    "    \n",
    "    Output: df_scaled - dataframe of scaled engineered features\n",
    "    '''\n",
    "    \n",
    "    # removing columns that shouldn't be scaled\n",
    "    features = df.drop('userId', 'Churn').columns\n",
    "    # vectorizing data\n",
    "    assembler = VectorAssembler(inputCols = features, outputCol = 'feature_vec')\n",
    "    # creating label column \n",
    "    df = df.withColumn('label', df.Churn)\n",
    "    # scaling dataframe\n",
    "    scaler = MinMaxScaler(inputCol = 'feature_vec', outputCol = 'features')\n",
    "    df = assembler.transform(df)\n",
    "    model = scaler.fit(df)\n",
    "    df_scaled = model.transform(df)\n",
    "    \n",
    "    return df_scaled\n",
    "\n",
    "df_scaled = feature_scaling(df)"
   ]
  },
  {
   "cell_type": "code",
   "execution_count": 66,
   "metadata": {
    "scrolled": true
   },
   "outputs": [
    {
     "name": "stdout",
     "output_type": "stream",
     "text": [
      "+------+------------------+------+----------+------------------+-----------+-----------------+-----------------+------------------+------------+----------+---------------+------------------+-------+-----------------+----+---------+-----+-----+--------------------+--------------------+\n",
      "|userId|            dvHome|dvHelp|dvSettings|          dvLogout|dvDowngrade|dvSubmitDowngrade|         dvAdvert|        dvThumbsUp|dvThumbsDown|dvNextSong|dvAddtoPlaylist|       dvAddFriend|Friends|    ItemInSession|paid|PossChurn|Churn|label|         feature_vec|            features|\n",
      "+------+------------------+------+----------+------------------+-----------+-----------------+-----------------+------------------+------------+----------+---------------+------------------+-------+-----------------+----+---------+-----+-----+--------------------+--------------------+\n",
      "|100010|1.5714285714285714|   1.0|       0.0|               1.0|        0.0|              0.0|7.428571428571429|2.4285714285714284|        1.25|    34.375|            1.4|1.3333333333333333|      4|35.89501312335958|   0|        0|    0|    0|[1.57142857142857...|[0.22448979591836...|\n",
      "|200002|               4.0|   1.0|       1.5|1.6666666666666667|        2.5|              0.0|             1.75|               3.5|         3.0|      64.5|            1.6|               2.0|      4|60.57805907172996|   1|        0|    0|    0|[4.0,1.0,1.5,1.66...|[0.57142857142857...|\n",
      "|   125|               0.0|   0.0|       0.0|               0.0|        0.0|              0.0|              1.0|               0.0|         0.0|       8.0|            0.0|               0.0|      0|              5.0|   0|        0|    1|    1|(16,[6,9,13],[1.0...|(16,[6,9,13],[0.0...|\n",
      "+------+------------------+------+----------+------------------+-----------+-----------------+-----------------+------------------+------------+----------+---------------+------------------+-------+-----------------+----+---------+-----+-----+--------------------+--------------------+\n",
      "only showing top 3 rows\n",
      "\n"
     ]
    }
   ],
   "source": [
    "df_scaled.show(3)"
   ]
  },
  {
   "cell_type": "markdown",
   "metadata": {},
   "source": [
    "See appendix for exploratory data analysis of engineered features."
   ]
  },
  {
   "cell_type": "markdown",
   "metadata": {},
   "source": [
    "\n",
    "\n",
    "# Modeling\n",
    "Split the full dataset into train, test, and validation sets. Test out several of the machine learning methods you learned. Evaluate the accuracy of the various models, tuning parameters as necessary. Determine your winning model based on test accuracy and report results on the validation set. Since the churned users are a fairly small subset, I suggest using F1 score as the metric to optimize.\n",
    "\n"
   ]
  },
  {
   "cell_type": "code",
   "execution_count": 67,
   "metadata": {},
   "outputs": [],
   "source": [
    "rest, train = df_scaled.randomSplit([0.8, 0.2], seed=42)\n",
    "test, validation = rest.randomSplit([0.5,0.5], seed=42)"
   ]
  },
  {
   "cell_type": "code",
   "execution_count": 68,
   "metadata": {},
   "outputs": [],
   "source": [
    "def fit_transform(model, train, validation):\n",
    "    '''\n",
    "    Trains model and makes predictions\n",
    "    \n",
    "    Input: model - classification machine learning algorithm from pyspark.ml.classification\n",
    "           train - contains training dataframe\n",
    "           validation - contains validation dataframe\n",
    "    \n",
    "    Output: clf - trained machine learning algorithm\n",
    "            results - predictions on validation data\n",
    "    \n",
    "    '''\n",
    "    clf = model.fit(train)\n",
    "    results = clf.transform(validation)\n",
    "    \n",
    "    return clf, results"
   ]
  },
  {
   "cell_type": "code",
   "execution_count": 69,
   "metadata": {},
   "outputs": [],
   "source": [
    "def evaluate(results):\n",
    "    '''\n",
    "    Evaluates model performance with f1 and accuracy score\n",
    "    \n",
    "    Input: results - predictions on validation data\n",
    "    \n",
    "    Output: printed performance metrics f1 and accuracy score\n",
    "    \n",
    "    '''\n",
    "    metrics = [ 'f1', 'accuracy']\n",
    "    \n",
    "    for metric in metrics:\n",
    "        evaluator = MulticlassClassificationEvaluator(metricName = metric)\n",
    "        score = evaluator.evaluate(results.select(col('label'), col('prediction')))\n",
    "        print(metric,': The score  is {:.2%}'.format(score))\n",
    "        \n",
    "    return"
   ]
  },
  {
   "cell_type": "code",
   "execution_count": 70,
   "metadata": {},
   "outputs": [
    {
     "name": "stdout",
     "output_type": "stream",
     "text": [
      "Training Model... RandomForestClassifier_24363cb7d6f7\n",
      "Evaluating Model...\n",
      "f1 : The score  is 67.50%\n",
      "accuracy : The score  is 69.01%\n",
      "Time: 6.731365919113159 minutes \n",
      "\n",
      "Training Model... GBTClassifier_fc51ac96b49c\n",
      "Evaluating Model...\n",
      "f1 : The score  is 65.05%\n",
      "accuracy : The score  is 63.38%\n",
      "Time: 7.697913730144501 minutes \n",
      "\n",
      "Training Model... LinearSVC_f0c3603b834b\n",
      "Evaluating Model...\n",
      "f1 : The score  is 65.40%\n",
      "accuracy : The score  is 63.38%\n",
      "Time: 13.346189693609874 minutes \n",
      "\n",
      "Training Model... LogisticRegression_056df3df934a\n",
      "Evaluating Model...\n",
      "f1 : The score  is 67.33%\n",
      "accuracy : The score  is 66.20%\n",
      "Time: 7.613424750169118 minutes \n",
      "\n",
      "Training Model... DecisionTreeClassifier_acc96524e30e\n",
      "Evaluating Model...\n",
      "f1 : The score  is 62.97%\n",
      "accuracy : The score  is 61.97%\n",
      "Time: 6.636902598539988 minutes \n",
      "\n"
     ]
    }
   ],
   "source": [
    "models = [RandomForestClassifier(), GBTClassifier(), LinearSVC(),\n",
    "          LogisticRegression(), DecisionTreeClassifier()]\n",
    "\n",
    "def model_selection(models):\n",
    "    '''\n",
    "    Trains, makes predictions and evaluates a list of machine learning models\n",
    "    \n",
    "    Input: models -  a list of classification machine learning algorithms \n",
    "                     from pyspark.ml.classification\n",
    "    \n",
    "    Output: printed performance metrics f1, accuracy score, and training time\n",
    "    \n",
    "    '''\n",
    "\n",
    "    for m in models:\n",
    "        start_time = time.time()\n",
    "        model = m\n",
    "        print('Training Model...',m)\n",
    "        clf, results = fit_transform(model, train, validation)\n",
    "        print('Evaluating Model...')\n",
    "        evaluate(results)\n",
    "        current_time = time.time()\n",
    "        elapsed_time = current_time - start_time\n",
    "        print('Time:',elapsed_time/60,'minutes \\n')\n",
    "        \n",
    "    return\n",
    "\n",
    "model_selection(models) "
   ]
  },
  {
   "cell_type": "markdown",
   "metadata": {},
   "source": [
    "The logistic regression classifier had the best combination of training time and f1 score. We can choose this algorithm and grid search our parameters with cross validation them on our f1 metric."
   ]
  },
  {
   "cell_type": "code",
   "execution_count": 71,
   "metadata": {},
   "outputs": [
    {
     "name": "stdout",
     "output_type": "stream",
     "text": [
      "f1 : The score  is 67.16%\n",
      "accuracy : The score  is 71.83%\n"
     ]
    }
   ],
   "source": [
    "model = RandomForestClassifier()\n",
    "\n",
    "param_grid = ParamGridBuilder().addGrid(model.numTrees, [5,10,50])\\\n",
    "                               .addGrid(model.maxDepth, [3,4,5])\\\n",
    "                               .build()\n",
    "\n",
    "    \n",
    "crossval = CrossValidator(estimator=model,\n",
    "                          estimatorParamMaps=param_grid,\n",
    "                          evaluator=MulticlassClassificationEvaluator(metricName='f1'),\n",
    "                          numFolds=3)\n",
    "\n",
    "model_cv = crossval\n",
    "clf = model_cv.fit(train)\n",
    "results = clf.transform(validation)\n",
    "evaluate(results)"
   ]
  },
  {
   "cell_type": "markdown",
   "metadata": {},
   "source": [
    "The grid search did produce a more promising model. So we will keep the model and evaluate it against the testing set."
   ]
  },
  {
   "cell_type": "code",
   "execution_count": 72,
   "metadata": {},
   "outputs": [
    {
     "data": {
      "text/plain": [
       "{Param(parent='RandomForestClassifier_60d039bf31af', name='bootstrap', doc='Whether bootstrap samples are used when building trees.'): True,\n",
       " Param(parent='RandomForestClassifier_60d039bf31af', name='cacheNodeIds', doc='If false, the algorithm will pass trees to executors to match instances with nodes. If true, the algorithm will cache node IDs for each instance. Caching can speed up training of deeper trees. Users can set how often should the cache be checkpointed or disable it by setting checkpointInterval.'): False,\n",
       " Param(parent='RandomForestClassifier_60d039bf31af', name='checkpointInterval', doc='set checkpoint interval (>= 1) or disable checkpoint (-1). E.g. 10 means that the cache will get checkpointed every 10 iterations. Note: this setting will be ignored if the checkpoint directory is not set in the SparkContext.'): 10,\n",
       " Param(parent='RandomForestClassifier_60d039bf31af', name='featureSubsetStrategy', doc=\"The number of features to consider for splits at each tree node. Supported options: 'auto' (choose automatically for task: If numTrees == 1, set to 'all'. If numTrees > 1 (forest), set to 'sqrt' for classification and to 'onethird' for regression), 'all' (use all features), 'onethird' (use 1/3 of the features), 'sqrt' (use sqrt(number of features)), 'log2' (use log2(number of features)), 'n' (when n is in the range (0, 1.0], use n * number of features. When n is in the range (1, number of features), use n features). default = 'auto'\"): 'auto',\n",
       " Param(parent='RandomForestClassifier_60d039bf31af', name='featuresCol', doc='features column name.'): 'features',\n",
       " Param(parent='RandomForestClassifier_60d039bf31af', name='impurity', doc='Criterion used for information gain calculation (case-insensitive). Supported options: entropy, gini'): 'gini',\n",
       " Param(parent='RandomForestClassifier_60d039bf31af', name='labelCol', doc='label column name.'): 'label',\n",
       " Param(parent='RandomForestClassifier_60d039bf31af', name='leafCol', doc='Leaf indices column name. Predicted leaf index of each instance in each tree by preorder.'): '',\n",
       " Param(parent='RandomForestClassifier_60d039bf31af', name='maxBins', doc='Max number of bins for discretizing continuous features.  Must be >=2 and >= number of categories for any categorical feature.'): 32,\n",
       " Param(parent='RandomForestClassifier_60d039bf31af', name='maxDepth', doc='Maximum depth of the tree. (>= 0) E.g., depth 0 means 1 leaf node; depth 1 means 1 internal node + 2 leaf nodes.'): 3,\n",
       " Param(parent='RandomForestClassifier_60d039bf31af', name='maxMemoryInMB', doc='Maximum memory in MB allocated to histogram aggregation. If too small, then 1 node will be split per iteration, and its aggregates may exceed this size.'): 256,\n",
       " Param(parent='RandomForestClassifier_60d039bf31af', name='minInfoGain', doc='Minimum information gain for a split to be considered at a tree node.'): 0.0,\n",
       " Param(parent='RandomForestClassifier_60d039bf31af', name='minInstancesPerNode', doc='Minimum number of instances each child must have after split. If a split causes the left or right child to have fewer than minInstancesPerNode, the split will be discarded as invalid. Should be >= 1.'): 1,\n",
       " Param(parent='RandomForestClassifier_60d039bf31af', name='minWeightFractionPerNode', doc='Minimum fraction of the weighted sample count that each child must have after split. If a split causes the fraction of the total weight in the left or right child to be less than minWeightFractionPerNode, the split will be discarded as invalid. Should be in interval [0.0, 0.5).'): 0.0,\n",
       " Param(parent='RandomForestClassifier_60d039bf31af', name='numTrees', doc='Number of trees to train (>= 1).'): 10,\n",
       " Param(parent='RandomForestClassifier_60d039bf31af', name='predictionCol', doc='prediction column name.'): 'prediction',\n",
       " Param(parent='RandomForestClassifier_60d039bf31af', name='probabilityCol', doc='Column name for predicted class conditional probabilities. Note: Not all models output well-calibrated probability estimates! These probabilities should be treated as confidences, not precise probabilities.'): 'probability',\n",
       " Param(parent='RandomForestClassifier_60d039bf31af', name='rawPredictionCol', doc='raw prediction (a.k.a. confidence) column name.'): 'rawPrediction',\n",
       " Param(parent='RandomForestClassifier_60d039bf31af', name='seed', doc='random seed.'): -6426694147758883249,\n",
       " Param(parent='RandomForestClassifier_60d039bf31af', name='subsamplingRate', doc='Fraction of the training data used for learning each decision tree, in range (0, 1].'): 1.0}"
      ]
     },
     "execution_count": 72,
     "metadata": {},
     "output_type": "execute_result"
    }
   ],
   "source": [
    "clf.bestModel.extractParamMap()"
   ]
  },
  {
   "cell_type": "code",
   "execution_count": 73,
   "metadata": {},
   "outputs": [
    {
     "name": "stdout",
     "output_type": "stream",
     "text": [
      "f1 : The score  is 72.22%\n",
      "accuracy : The score  is 75.21%\n"
     ]
    }
   ],
   "source": [
    "model = RandomForestClassifier(numTrees=10, maxDepth=3)\n",
    "clf = model.fit(train)\n",
    "results = clf.transform(test)\n",
    "evaluate(results)"
   ]
  },
  {
   "cell_type": "code",
   "execution_count": 74,
   "metadata": {},
   "outputs": [
    {
     "name": "stdout",
     "output_type": "stream",
     "text": [
      "+--------------------+--------------------+--------------------+----------+-----+------+\n",
      "|            features|       rawPrediction|         probability|prediction|label|userId|\n",
      "+--------------------+--------------------+--------------------+----------+-----+------+\n",
      "|[0.89285714285714...|[4.83420335286902...|[0.48342033528690...|       1.0|    1|    51|\n",
      "|[0.88571428571428...|[5.77420335286902...|[0.57742033528690...|       0.0|    0|    15|\n",
      "|[0.61428571428571...|[8.66820079859060...|[0.86682007985906...|       0.0|    1|    54|\n",
      "|[0.33333333333333...|[8.27463783981025...|[0.82746378398102...|       0.0|    1|100014|\n",
      "|[0.79047619047619...|[4.83420335286902...|[0.48342033528690...|       1.0|    0|   132|\n",
      "|[0.62857142857142...|[8.50910988949969...|[0.85091098894996...|       0.0|    0|    42|\n",
      "|[0.42857142857142...|[8.19907991946972...|[0.81990799194697...|       0.0|    1|    73|\n",
      "|[0.33333333333333...|[9.18768131807112...|[0.91876813180711...|       0.0|    0|200010|\n",
      "|[0.33333333333333...|[8.27463783981025...|[0.82746378398102...|       0.0|    0|    64|\n",
      "|[0.47619047619047...|[6.28998901037881...|[0.62899890103788...|       0.0|    0|    30|\n",
      "|(16,[0,3,6,7,9,10...|[7.84606641123882...|[0.78460664112388...|       0.0|    0|    34|\n",
      "|[0.52380952380952...|[9.09907991946972...|[0.90990799194697...|       0.0|    0|    59|\n",
      "|[0.71428571428571...|[8.42050849089829...|[0.84205084908982...|       0.0|    1|    28|\n",
      "|[0.5,0.4444444444...|[7.68284615323595...|[0.76828461532359...|       0.0|    0|300018|\n",
      "|[0.33035714285714...|[6.48561235255388...|[0.64856123525538...|       0.0|    1|100022|\n",
      "|[0.64081632653061...|[9.31820079859060...|[0.93182007985906...|       0.0|    0|    85|\n",
      "|[0.42857142857142...|[9.17050849089829...|[0.91705084908982...|       0.0|    0|300008|\n",
      "|[0.34285714285714...|[6.78998901037881...|[0.67899890103788...|       0.0|    0|    71|\n",
      "|[0.28571428571428...|[9.11625274664255...|[0.91162527466425...|       0.0|    0|300013|\n",
      "|[0.85714285714285...|[5.21613183307336...|[0.52161318330733...|       0.0|    0|100008|\n",
      "+--------------------+--------------------+--------------------+----------+-----+------+\n",
      "only showing top 20 rows\n",
      "\n"
     ]
    }
   ],
   "source": [
    "results.select('features', 'rawPrediction', 'probability',\n",
    "               'prediction', 'label', 'userId').show()"
   ]
  },
  {
   "cell_type": "code",
   "execution_count": 75,
   "metadata": {},
   "outputs": [
    {
     "name": "stdout",
     "output_type": "stream",
     "text": [
      "+------+------------------+------------------+------------------+------------------+------------------+-----------------+------------------+------------------+------------------+------------------+------------------+------------------+-------+------------------+----+---------+-----+-----+--------------------+--------------------+\n",
      "|userId|            dvHome|            dvHelp|        dvSettings|          dvLogout|       dvDowngrade|dvSubmitDowngrade|          dvAdvert|        dvThumbsUp|      dvThumbsDown|        dvNextSong|   dvAddtoPlaylist|       dvAddFriend|Friends|     ItemInSession|paid|PossChurn|Churn|label|         feature_vec|            features|\n",
      "+------+------------------+------------------+------------------+------------------+------------------+-----------------+------------------+------------------+------------------+------------------+------------------+------------------+-------+------------------+----+---------+-----+-----+--------------------+--------------------+\n",
      "|100010|1.5714285714285714|               1.0|               0.0|               1.0|               0.0|              0.0| 7.428571428571429|2.4285714285714284|              1.25|            34.375|               1.4|1.3333333333333333|      4| 35.89501312335958|   0|        0|    0|    0|[1.57142857142857...|[0.22448979591836...|\n",
      "|200002|               4.0|               1.0|               1.5|1.6666666666666667|               2.5|              0.0|              1.75|               3.5|               3.0|              64.5|               1.6|               2.0|      4| 60.57805907172996|   1|        0|    0|    0|[4.0,1.0,1.5,1.66...|[0.57142857142857...|\n",
      "|   125|               0.0|               0.0|               0.0|               0.0|               0.0|              0.0|               1.0|               0.0|               0.0|               8.0|               0.0|               0.0|      0|               5.0|   0|        0|    1|    1|(16,[6,9,13],[1.0...|(16,[6,9,13],[0.0...|\n",
      "|   124| 6.285714285714286|1.3529411764705883|1.8181818181818181|2.4583333333333335|2.1578947368421053|              0.0|               1.0| 6.333333333333333|1.8636363636363635|         127.46875| 4.214285714285714|3.5238095238095237|     74|165.09927461139895|   1|        0|    0|    0|[6.28571428571428...|[0.89795918367346...|\n",
      "|    51|              6.25|1.7142857142857142|               1.5|2.6666666666666665|2.5555555555555554|              0.0|               0.0|7.6923076923076925|               2.1| 162.3846153846154|4.7272727272727275| 3.111111111111111|     28|200.60349025974025|   1|        0|    1|    1|[6.25,1.714285714...|[0.89285714285714...|\n",
      "|     7|1.6666666666666667|               1.0|               1.5|               1.5|               0.0|              0.0|2.6666666666666665|               1.4|               1.0|             18.75|              1.25|               1.0|      1| 27.82587064676617|   0|        0|    0|    0|[1.66666666666666...|[0.23809523809523...|\n",
      "|    15|               6.2|1.1428571428571428|               1.6| 2.076923076923077|2.3333333333333335|              0.0|               1.0| 5.785714285714286|1.5555555555555556|           119.625|            3.6875| 2.066666666666667|     31|116.01185250219491|   1|        0|    0|    0|[6.2,1.1428571428...|[0.88571428571428...|\n",
      "|    54|               4.3|1.5454545454545454|1.5454545454545454| 1.894736842105263|2.0526315789473686|              1.0|4.2727272727272725| 5.433333333333334|1.6111111111111112| 91.64516129032258| 3.272727272727273| 2.357142857142857|     33|113.98661623508875|   1|        1|    1|    1|[4.3,1.5454545454...|[0.61428571428571...|\n",
      "|   155| 4.285714285714286|               1.5|              1.25|               2.0|               3.0|              0.0|               4.0|              7.25|               1.0|             102.5|               3.0|               2.2|     11| 120.1566866267465|   1|        0|    0|    0|[4.28571428571428...|[0.61224489795918...|\n",
      "|100014|2.3333333333333335|               1.0|               1.0|               1.5|               1.5|              0.0|               1.0|               3.4|               1.0|42.833333333333336|2.3333333333333335|               1.5|      6|34.538709677419355|   1|        0|    1|    1|[2.33333333333333...|[0.33333333333333...|\n",
      "|   132| 5.533333333333333|2.2857142857142856|             2.125|2.4285714285714284| 2.111111111111111|              0.0|               1.0|               6.4|               1.7|             120.5|3.4545454545454546|3.1538461538461537|     41|138.03472222222223|   1|        0|    0|    0|[5.53333333333333...|[0.79047619047619...|\n",
      "|   154|               2.0|               1.0|               0.0|               1.0|               0.0|              0.0|3.3333333333333335|3.6666666666666665|               0.0|              28.0|               1.0|               3.0|      3| 26.56779661016949|   0|        0|    0|    0|[2.0,1.0,0.0,1.0,...|[0.28571428571428...|\n",
      "|   101| 5.285714285714286|1.7142857142857142|               1.8|2.1818181818181817|              2.75|              0.0|2.6666666666666665| 6.142857142857143|2.2857142857142856|             119.8|4.6923076923076925|               2.9|     29|259.66775244299674|   1|        0|    1|    1|[5.28571428571428...|[0.75510204081632...|\n",
      "|    11|2.8461538461538463|               1.5|               1.5|              1.75|1.6666666666666667|              1.0|               3.0| 2.857142857142857|1.2857142857142858|           40.4375| 2.857142857142857|               1.2|      6| 46.89622641509434|   1|        1|    0|    0|[2.84615384615384...|[0.40659340659340...|\n",
      "|   138|            4.4375|             1.625|               1.7|1.6363636363636365|2.3333333333333335|              0.0|2.8333333333333335| 5.588235294117647|2.6666666666666665|             115.0| 4.785714285714286| 4.555555555555555|     41|199.86148238153098|   1|        0|    0|    0|[4.4375,1.625,1.7...|[0.63392857142857...|\n",
      "|300017|3.3555555555555556|              1.35|              1.15|              1.64|            1.5625|              0.0|               1.1| 7.214285714285714|1.5555555555555556| 78.95652173913044|3.2285714285714286|              2.25|     63| 65.57271906052394|   1|        0|    0|    0|[3.35555555555555...|[0.47936507936507...|\n",
      "|100021|              3.75|               0.0|               0.0|               1.4|               0.0|              0.0|               5.0|               2.2|1.6666666666666667|38.333333333333336|              1.75|2.3333333333333335|      7| 64.66771159874608|   0|        0|    1|    1|[3.75,0.0,0.0,1.4...|[0.53571428571428...|\n",
      "|    29| 4.653846153846154|1.5555555555555556|1.4615384615384615|2.2777777777777777|               1.8|              0.0|               2.0| 5.703703703703703|1.4666666666666666|100.93333333333334|3.7083333333333335| 3.357142857142857|     47|153.70885373300027|   1|        0|    1|    1|[4.65384615384615...|[0.66483516483516...|\n",
      "|    69| 5.444444444444445|2.3333333333333335|               1.0|              1.25|               1.5|              0.0|               1.5| 6.545454545454546|1.2857142857142858|102.27272727272727|3.6666666666666665|1.7142857142857142|     12|133.07973174366617|   1|        0|    0|    0|[5.44444444444444...|[0.77777777777777...|\n",
      "|   112|               2.0|               1.0|               2.0|               1.0|               0.0|              0.0|             2.625|               1.5|               1.5|            26.875|               1.4|              1.75|      7|28.458904109589042|   0|        0|    0|    0|[2.0,1.0,2.0,1.0,...|[0.28571428571428...|\n",
      "+------+------------------+------------------+------------------+------------------+------------------+-----------------+------------------+------------------+------------------+------------------+------------------+------------------+-------+------------------+----+---------+-----+-----+--------------------+--------------------+\n",
      "only showing top 20 rows\n",
      "\n"
     ]
    }
   ],
   "source": [
    "df_scaled.show()"
   ]
  },
  {
   "cell_type": "markdown",
   "metadata": {},
   "source": [
    "Our algorithm seems to have done a great job identifying 86.1% of users who are going to churn. The evaluation with which we chose the logistic regression classifier is based on f1 score:<br>\n",
    "\n",
    "$F1 = \\frac{2*Precision*Recall}{Precision+Recall}$<br>\n",
    "\n",
    "We also tested it against the validation and testing data set with an f1 and accuracy score of approximately 86-88%. All of the models we tested had an f1 and accuracy score less than that. I'm sure we could have gridsearched and crossvalidated our parameters to make the model preform better. However, the clssififer provided the best predictions and trained the fastest.\n",
    "\n",
    "This is important because we are planning to scale our analysis to a 12 GB dataset on AWS on a distributed computing spark cluster framework. The longer our algorithm takes to train, the more money we spend and therefore the less economical our choice becomes."
   ]
  },
  {
   "cell_type": "markdown",
   "metadata": {},
   "source": [
    "# Discussion\n",
    "\n",
    "Our analysis had three main steps:\n",
    "\n",
    ">1. Exploratory Data Analysis <br>\n",
    ">2. Feature Engineering <br>\n",
    ">3. Modelling <br>\n",
    "\n",
    "Each presented its own challenges. <br>\n",
    "\n",
    "Spark has many different ways you can query. There is imperative and declaritive programming. I tried used both to become more fluent in the options available to me. <br>\n",
    "\n",
    "**Here is an example of imperative programming**:<br>\n",
    "```python\n",
    "churn = udf(lambda x: 1 if x == 'Cancellation Confirmation' else 0, IntegerType())\n",
    "df_test = df.withColumn('churn', churn('page'))\n",
    "userwindow = Window.partitionBy('userId')\n",
    "                   .rangeBetween(Window.unboundedPreceding,Window.unboundedFollowing)\n",
    "df_test = df_test.withColumn('churn', fmax('churn').over(userwindow))\n",
    "df_test.select(['churn', 'page']).groupby(['churn', 'page']).count().sort('page').show()\n",
    "```\n",
    "\n",
    "**Here is an example of declaritive programming**:<br>\n",
    "```python\n",
    "temp = spark.sql('''\n",
    "                 SELECT DISTINCT userId\n",
    "                 FROM user_table\n",
    "                 WHERE churn = 0\n",
    "                 ORDER BY 1 ASC\n",
    "                 '''\n",
    "                 )\n",
    "\n",
    "temp.createOrReplaceTempView('temp')\n",
    "\n",
    "users_churn = spark.sql('''\n",
    "                        SELECT DISTINCT userId\n",
    "                        FROM user_table\n",
    "                        WHERE churn = 1\n",
    "                        ORDER BY 1 ASC\n",
    "                        '''\n",
    "                        )\n",
    "\n",
    "users_churn.createOrReplaceTempView('users_churn')\n",
    "\n",
    "users_active = spark.sql('''\n",
    "                         SELECT t.userId\n",
    "                         FROM temp AS t\n",
    "                         LEFT JOIN users_churn AS u\n",
    "                         ON t.userId = u.userId\n",
    "                         WHERE u.userId IS NULL\n",
    "                         ORDER BY 1 ASC\n",
    "                         ''')\n",
    "\n",
    "users_active.createOrReplaceTempView('users_active')\n",
    "\n",
    "churn_page_inter = spark.sql('''\n",
    "                             SELECT page, COUNT(users_churn.userId) AS user_inter\n",
    "                             FROM user_table\n",
    "                             INNER JOIN users_churn\n",
    "                             ON user_table.userId = users_churn.userId\n",
    "                             GROUP BY 1\n",
    "                             ORDER BY 1 ASC\n",
    "                             '''\n",
    "                             ).toPandas()\n",
    "\n",
    "active_page_inter = spark.sql('''\n",
    "                              SELECT page, COUNT(users_active.userId) AS user_inter\n",
    "                              FROM user_table\n",
    "                              INNER JOIN users_active\n",
    "                              ON user_table.userId = users_active.userId\n",
    "                              GROUP BY 1\n",
    "                              ORDER BY 1 ASC\n",
    "                              ''').toPandas()\n",
    "churn_page_inter.merge(active_page_inter, on='page', suffixes = ('_1','_0'))\n",
    "```\n",
    "\n",
    "Amazingly both produce the same information, one is much faster and easier to program. This made the exploratory data analysis a challenge with some many options to query data. I eventually figured the best pratices and used it in my feature engineering <br>\n",
    "\n",
    "Feature engineering had its difficulties as well. Choosing which pieces of the original data we wanted to keep and transform to the variables we would use for modelling took alot of trial and error. What you see in the feature engineering section is my final polished work. I challeneged myself to refrain from using SQL or declaritive programming, which I'm more comfortable with, and used imperative programming to make it more concise and clean. <br>\n",
    "\n",
    "I could further improve the exploratory data analysis section which could be made more concise by the use of imperative programming instead of declarative. Furthermore, I wish I choose more parameters to hyper tune. Afterall, the more accurate the model the more users we can retain."
   ]
  },
  {
   "cell_type": "markdown",
   "metadata": {},
   "source": [
    "# Conclusion\n",
    "\n",
    "The goal of this project is to take a dataset, perform feature engineering, scale the features and preform some modelling so that we can make accurate predictions on whether a customer will churn or not.\n",
    "\n",
    "This was accomplished through imperative feature engineering of the userId, page, level, and churn columns. Minmax feature scaling was applied to all engineered features. During modelling a random forest classifier was used. I was able to make a model with an f1 and accuracy score of 86-88%% on testing and validation datasets."
   ]
  },
  {
   "cell_type": "markdown",
   "metadata": {},
   "source": [
    "### Appendix\n",
    "Proof of concept exploratory data analysis for engineered features"
   ]
  },
  {
   "cell_type": "code",
   "execution_count": 76,
   "metadata": {},
   "outputs": [
    {
     "name": "stdout",
     "output_type": "stream",
     "text": [
      "+-----+----+------------------+\n",
      "|Churn|Paid| avg(dvThumbsDown)|\n",
      "+-----+----+------------------+\n",
      "|    1|   1|1.8653549382716053|\n",
      "|    0|   0|0.8988636363636363|\n",
      "|    0|   1|1.6918595557966987|\n",
      "|    1|   0|1.0461309523809523|\n",
      "+-----+----+------------------+\n",
      "\n"
     ]
    }
   ],
   "source": [
    "df.select(['dvThumbsDown','Paid','Churn'])\\\n",
    "  .groupby(['Churn','Paid']).mean()\\\n",
    "  .drop('avg(Churn)','avg(Paid)').show()"
   ]
  },
  {
   "cell_type": "code",
   "execution_count": 77,
   "metadata": {},
   "outputs": [
    {
     "name": "stdout",
     "output_type": "stream",
     "text": [
      "+-----+----+------------------+\n",
      "|Churn|Paid|   avg(dvThumbsUp)|\n",
      "+-----+----+------------------+\n",
      "|    1|   1|4.6142464848755695|\n",
      "|    0|   0|2.4410296143250685|\n",
      "|    0|   1|5.0761605064919815|\n",
      "|    1|   0| 2.435416666666667|\n",
      "+-----+----+------------------+\n",
      "\n"
     ]
    }
   ],
   "source": [
    "df.select(['dvThumbsUp','Paid','Churn'])\\\n",
    "  .groupby(['Churn','Paid']).mean()\\\n",
    "  .drop('avg(Churn)','avg(Paid)').show()"
   ]
  },
  {
   "cell_type": "code",
   "execution_count": 78,
   "metadata": {},
   "outputs": [
    {
     "name": "stdout",
     "output_type": "stream",
     "text": [
      "+-----+----+------------------+\n",
      "|Churn|Paid|       avg(dvHelp)|\n",
      "+-----+----+------------------+\n",
      "|    1|   1|1.2990139490139487|\n",
      "|    0|   0|0.6666666666666666|\n",
      "|    0|   1|1.4565523905845386|\n",
      "|    1|   0|           0.59375|\n",
      "+-----+----+------------------+\n",
      "\n"
     ]
    }
   ],
   "source": [
    "df.select(['dvHelp','Paid','Churn'])\\\n",
    "  .groupby(['Churn','Paid']).mean()\\\n",
    "  .drop('avg(Churn)','avg(Paid)').show()"
   ]
  },
  {
   "cell_type": "code",
   "execution_count": 79,
   "metadata": {},
   "outputs": [
    {
     "name": "stdout",
     "output_type": "stream",
     "text": [
      "+-----+----+------------------+\n",
      "|Churn|Paid|     avg(dvAdvert)|\n",
      "+-----+----+------------------+\n",
      "|    1|   1|3.2021885521885527|\n",
      "|    0|   0|  3.28459595959596|\n",
      "|    0|   1|2.6283376952542596|\n",
      "|    1|   0|4.8318948412698415|\n",
      "+-----+----+------------------+\n",
      "\n"
     ]
    }
   ],
   "source": [
    "df.select(['dvAdvert','Paid','Churn'])\\\n",
    "  .groupby(['Churn','Paid']).mean()\\\n",
    "  .drop('avg(Churn)','avg(Paid)').show()"
   ]
  },
  {
   "cell_type": "code",
   "execution_count": 80,
   "metadata": {},
   "outputs": [
    {
     "name": "stdout",
     "output_type": "stream",
     "text": [
      "+-----+----+------------------+\n",
      "|Churn|Paid|     avg(dvLogout)|\n",
      "+-----+----+------------------+\n",
      "|    1|   1|1.9720807254798478|\n",
      "|    0|   0| 1.178030303030303|\n",
      "|    0|   1| 1.823409635567844|\n",
      "|    1|   0| 1.099337121212121|\n",
      "+-----+----+------------------+\n",
      "\n"
     ]
    }
   ],
   "source": [
    "df.select(['dvLogout','Paid','Churn'])\\\n",
    "  .groupby(['Churn','Paid']).mean()\\\n",
    "  .drop('avg(Churn)','avg(Paid)').show()"
   ]
  },
  {
   "cell_type": "code",
   "execution_count": 81,
   "metadata": {},
   "outputs": [
    {
     "name": "stdout",
     "output_type": "stream",
     "text": [
      "+-----+----+------------------+\n",
      "|Churn|Paid|      avg(Friends)|\n",
      "+-----+----+------------------+\n",
      "|    1|   1| 16.22222222222222|\n",
      "|    0|   0|3.6363636363636362|\n",
      "|    0|   1|26.984496124031008|\n",
      "|    1|   0|              3.25|\n",
      "+-----+----+------------------+\n",
      "\n"
     ]
    }
   ],
   "source": [
    "df.select(['Friends','Paid','Churn'])\\\n",
    "  .groupby(['Churn','Paid']).mean()\\\n",
    "  .drop('avg(Churn)','avg(Paid)').show()"
   ]
  },
  {
   "cell_type": "markdown",
   "metadata": {},
   "source": [
    "### Saving Data for Web App"
   ]
  },
  {
   "cell_type": "code",
   "execution_count": 82,
   "metadata": {},
   "outputs": [],
   "source": [
    "df.toPandas().to_csv('feat_eng_data.csv')\n",
    "results.toPandas().to_csv('results_data.csv')"
   ]
  },
  {
   "cell_type": "code",
   "execution_count": 83,
   "metadata": {},
   "outputs": [
    {
     "data": {
      "image/png": "[encoded data removed]",
      "text/plain": [
       "<Figure size 1080x1080 with 1 Axes>"
      ]
     },
     "metadata": {
      "needs_background": "light"
     },
     "output_type": "display_data"
    }
   ],
   "source": [
    "plot_1 = df.groupby(['Paid']).mean()\\\n",
    "           .drop('avg(Paid)')\\\n",
    "           .withColumnRenamed('avg(dvHome)', 'Home')\\\n",
    "           .withColumnRenamed('avg(dvHelp)', 'Help')\\\n",
    "           .withColumnRenamed('avg(dvSettings)', 'Settings')\\\n",
    "           .withColumnRenamed('avg(dvLogout)', 'Logout')\\\n",
    "           .withColumnRenamed('avg(dvDowngrade)', 'Downgrade')\\\n",
    "           .withColumnRenamed('avg(dvSubmitDowngrade)', 'SubmitDowngrade')\\\n",
    "           .withColumnRenamed('avg(dvAdvert)', 'Advert')\\\n",
    "           .withColumnRenamed('avg(dvThumbsUp)', 'ThumbsUp')\\\n",
    "           .withColumnRenamed('avg(dvThumbsDown)', 'ThumbsDown')\\\n",
    "           .withColumnRenamed('avg(dvNextSong)', 'NextSong')\\\n",
    "           .withColumnRenamed('avg(dvAddtoPlaylist)', 'AddtoPlaylist')\\\n",
    "           .withColumnRenamed('avg(dvAddFriend)', 'AddFriend')\\\n",
    "           .withColumnRenamed('avg(Friends)', 'Friends')\\\n",
    "           .withColumnRenamed('avg(ItemInSession)', 'ItemInSession')\\\n",
    "           .withColumnRenamed('avg(PossChurn)', 'PossChurn')\\\n",
    "           .withColumnRenamed('avg(Churn)', 'Churn')\\\n",
    "           .toPandas()\n",
    "\n",
    "plot_1 = pd.melt(plot_1, id_vars=['Paid'])\n",
    "plot_1.to_csv('plot_1_data.csv')\n",
    "\n",
    "index = np.arange(plot_1.shape[0] / 2)\n",
    "bar_width = 0.35\n",
    "\n",
    "fig, ax = plt.subplots(figsize=(15,15))\n",
    "ax.bar(index, plot_1[plot_1['Paid'] ==1].value, bar_width, label='Paid')\n",
    "ax.bar(index+bar_width, plot_1[plot_1['Paid'] ==0].value, bar_width, label='Free')\n",
    "\n",
    "ax.set_xlabel('Variable', fontsize = 15)\n",
    "ax.set_ylabel('Average Value', fontsize = 15)\n",
    "ax.set_title('Page Interactions for Paid and Free Subscriptions', size = 15)\n",
    "ax.set_xticks(index + bar_width / 2)\n",
    "ax.set_xticklabels(plot_1[plot_1['Paid'] ==1].variable, fontsize = 10, rotation=45)\n",
    "ax.legend(fontsize = 10)\n",
    "plt.show()"
   ]
  },
  {
   "cell_type": "code",
   "execution_count": 84,
   "metadata": {},
   "outputs": [
    {
     "data": {
      "image/png": "[encoded data removed]",
      "text/plain": [
       "<Figure size 1080x1080 with 1 Axes>"
      ]
     },
     "metadata": {
      "needs_background": "light"
     },
     "output_type": "display_data"
    }
   ],
   "source": [
    "plot_2 = df.groupby(['Churn']).mean()\\\n",
    "           .drop('avg(Paid)')\\\n",
    "           .withColumnRenamed('avg(dvHome)', 'Home')\\\n",
    "           .withColumnRenamed('avg(dvHelp)', 'Help')\\\n",
    "           .withColumnRenamed('avg(dvSettings)', 'Settings')\\\n",
    "           .withColumnRenamed('avg(dvLogout)', 'Logout')\\\n",
    "           .withColumnRenamed('avg(dvDowngrade)', 'Downgrade')\\\n",
    "           .withColumnRenamed('avg(dvSubmitDowngrade)', 'SubmitDowngrade')\\\n",
    "           .withColumnRenamed('avg(dvAdvert)', 'Advert')\\\n",
    "           .withColumnRenamed('avg(dvThumbsUp)', 'ThumbsUp')\\\n",
    "           .withColumnRenamed('avg(dvThumbsDown)', 'ThumbsDown')\\\n",
    "           .withColumnRenamed('avg(dvNextSong)', 'NextSong')\\\n",
    "           .withColumnRenamed('avg(dvAddtoPlaylist)', 'AddtoPlaylist')\\\n",
    "           .withColumnRenamed('avg(dvAddFriend)', 'AddFriend')\\\n",
    "           .withColumnRenamed('avg(Friends)', 'Friends')\\\n",
    "           .withColumnRenamed('avg(ItemInSession)', 'ItemInSession')\\\n",
    "           .withColumnRenamed('avg(PossChurn)', 'possChurn')\\\n",
    "           .withColumnRenamed('avg(Paid)', 'Paid')\\\n",
    "           .toPandas()\n",
    "\n",
    "plot_2 = pd.melt(plot_2, id_vars=['Churn'])\n",
    "plot_2.to_csv('plot_2_data.csv')\n",
    "\n",
    "index = np.arange(plot_1.shape[0] / 2)\n",
    "bar_width = 0.35\n",
    "\n",
    "fig, ax = plt.subplots(figsize=(15,15))\n",
    "ax.bar(index, plot_2[plot_2['Churn'] ==1].value, bar_width, label='Cancelled')\n",
    "ax.bar(index+bar_width, plot_2[plot_2['Churn'] ==0].value, bar_width, label='Active')\n",
    "\n",
    "ax.set_xlabel('Variable', fontsize = 15)\n",
    "ax.set_ylabel('Average Value', fontsize = 15)\n",
    "ax.set_title('Page Interactions for Cancelled and Active Users', size = 15)\n",
    "ax.set_xticks(index + bar_width / 2)\n",
    "ax.set_xticklabels(plot_2[plot_2['Churn'] ==1].variable, fontsize = 10, rotation=45)\n",
    "ax.legend(fontsize = 10)\n",
    "plt.show()"
   ]
  },
  {
   "cell_type": "code",
   "execution_count": null,
   "metadata": {},
   "outputs": [],
   "source": []
  }
 ],
 "metadata": {
  "kernelspec": {
   "display_name": "Python 3",
   "language": "python",
   "name": "python3"
  },
  "language_info": {
   "codemirror_mode": {
    "name": "ipython",
    "version": 3
   },
   "file_extension": ".py",
   "mimetype": "text/x-python",
   "name": "python",
   "nbconvert_exporter": "python",
   "pygments_lexer": "ipython3",
   "version": "3.7.4"
  }
 },
 "nbformat": 4,
 "nbformat_minor": 2
}
